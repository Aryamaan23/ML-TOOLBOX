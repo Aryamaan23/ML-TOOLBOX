{
  "nbformat": 4,
  "nbformat_minor": 0,
  "metadata": {
    "kernelspec": {
      "display_name": "Python 3",
      "language": "python",
      "name": "python3"
    },
    "language_info": {
      "codemirror_mode": {
        "name": "ipython",
        "version": 3
      },
      "file_extension": ".py",
      "mimetype": "text/x-python",
      "name": "python",
      "nbconvert_exporter": "python",
      "pygments_lexer": "ipython3",
      "version": "3.7.3"
    },
    "colab": {
      "name": "quizII-2_fin.ipynb",
      "provenance": [],
      "collapsed_sections": [],
      "include_colab_link": true
    }
  },
  "cells": [
    {
      "cell_type": "markdown",
      "metadata": {
        "id": "view-in-github",
        "colab_type": "text"
      },
      "source": [
        "<a href=\"https://colab.research.google.com/github/Aryamaan23/ML-TOOLBOX/blob/master/quizII_2_fin.ipynb\" target=\"_parent\"><img src=\"https://colab.research.google.com/assets/colab-badge.svg\" alt=\"Open In Colab\"/></a>"
      ]
    },
    {
      "cell_type": "markdown",
      "metadata": {
        "id": "qfPEHg4T_ofA",
        "colab_type": "text"
      },
      "source": [
        "Before you turn this problem in, make sure everything runs as expected. First, **Restart and Run All** (in the menubar in colab, select Runtime$\\rightarrow$Restart and Run all) \n",
        "\n",
        "Make sure you only fill in any place that says `YOUR CODE HERE` and do not make any other changes to the code. If you add any code cells for your own testing. Please delete them before submission."
      ]
    },
    {
      "cell_type": "markdown",
      "metadata": {
        "id": "Jn_gz_Rg_ofE",
        "colab_type": "text"
      },
      "source": [
        "---"
      ]
    },
    {
      "cell_type": "markdown",
      "metadata": {
        "id": "P9zjz7VC_ofH",
        "colab_type": "text"
      },
      "source": [
        "- 5 marks for each question"
      ]
    },
    {
      "cell_type": "markdown",
      "metadata": {
        "id": "RYA0TteP_ofK",
        "colab_type": "text"
      },
      "source": [
        "# Q1"
      ]
    },
    {
      "cell_type": "markdown",
      "metadata": {
        "id": "ezUYH6Vm_ofN",
        "colab_type": "text"
      },
      "source": [
        "### Reverse words in string\n",
        "Write a function that takes a string of words and returns a string with the words placed in the reverse order."
      ]
    },
    {
      "cell_type": "code",
      "metadata": {
        "deletable": false,
        "nbgrader": {
          "cell_type": "code",
          "checksum": "5b7c5e0a7b24eef550a9157ed1b7c374",
          "grade": false,
          "grade_id": "cell-20abd36167cf1735",
          "locked": false,
          "schema_version": 3,
          "solution": true,
          "task": false
        },
        "id": "G-GZXAyY_ofQ",
        "colab_type": "code",
        "colab": {}
      },
      "source": [
        "def reverse_words(s):\n",
        "    \"\"\"\n",
        "    Inputs:\n",
        "        s: string, string of words\n",
        "    \n",
        "    Outputs:\n",
        "        s_rev : string, string of words reversed\n",
        "    \"\"\"\n",
        "    s_rev = None\n",
        "    \n",
        "    # YOUR CODE HERE\n",
        "    \n",
        "    \n",
        "    return s_rev"
      ],
      "execution_count": null,
      "outputs": []
    },
    {
      "cell_type": "code",
      "metadata": {
        "deletable": false,
        "editable": false,
        "nbgrader": {
          "cell_type": "code",
          "checksum": "65a73eb695162b7c5826650336a65d85",
          "grade": true,
          "grade_id": "cell-ea57ec0efd78ac56",
          "locked": true,
          "points": 5,
          "schema_version": 3,
          "solution": false,
          "task": false
        },
        "id": "TJQ1W5qX_ofj",
        "colab_type": "code",
        "colab": {}
      },
      "source": [
        "assert reverse_words(\"Hello World\") == \"World Hello\"\n",
        "print('Test passed', '\\U0001F44D')\n"
      ],
      "execution_count": null,
      "outputs": []
    },
    {
      "cell_type": "markdown",
      "metadata": {
        "id": "pHPsz9QY_ofv",
        "colab_type": "text"
      },
      "source": [
        "# Q2"
      ]
    },
    {
      "cell_type": "markdown",
      "metadata": {
        "id": "_cL5F0NJ_ofx",
        "colab_type": "text"
      },
      "source": [
        "### Equal Sides Of An Array\n",
        "Find index of list where sum of all elements to the left of the index and to the right of the index are equal. Return -1 otherwise.  <br>\n",
        "Eg., ```arr = [1, 2, 3, 1, 1, 1]``` For index ```2```, left-sum is ```1+2+3 = 6``` and right sum is ```3+1+1+1=6```. So function should return ```2```. If there is no such index, function should return ```-1```"
      ]
    },
    {
      "cell_type": "code",
      "metadata": {
        "deletable": false,
        "nbgrader": {
          "cell_type": "code",
          "checksum": "f75487d299c048a57b48c6807c00a099",
          "grade": false,
          "grade_id": "cell-ef233da2ae2c5df8",
          "locked": false,
          "schema_version": 3,
          "solution": true,
          "task": false
        },
        "id": "EpRG6CcU_ofz",
        "colab_type": "code",
        "colab": {}
      },
      "source": [
        "def equal_sides(arr):\n",
        "    \"\"\"\n",
        "    Inputs:\n",
        "        arr: list of ints\n",
        "    Outputs:\n",
        "        ind: int, index of list where left-sum is equal to right-sum, -1 otherwise\n",
        "    \"\"\"\n",
        "    ind = None\n",
        "    \n",
        "    # YOUR CODE HERE\n",
        "    \n",
        "    \n",
        "    return ind\n",
        "        "
      ],
      "execution_count": null,
      "outputs": []
    },
    {
      "cell_type": "code",
      "metadata": {
        "deletable": false,
        "editable": false,
        "nbgrader": {
          "cell_type": "code",
          "checksum": "d9f3f1b5f14996c5353dd225979b6a1e",
          "grade": true,
          "grade_id": "cell-18e8be9f20b65b14",
          "locked": true,
          "points": 5,
          "schema_version": 3,
          "solution": false,
          "task": false
        },
        "id": "buRXCpxf_of9",
        "colab_type": "code",
        "colab": {}
      },
      "source": [
        "assert equal_sides([1, 2, 3, 1, 1, 1]) == 2\n",
        "print('Test passed', '\\U0001F44D')"
      ],
      "execution_count": null,
      "outputs": []
    },
    {
      "cell_type": "markdown",
      "metadata": {
        "id": "2qjrNVzu_ogI",
        "colab_type": "text"
      },
      "source": [
        "# Q3"
      ]
    },
    {
      "cell_type": "markdown",
      "metadata": {
        "id": "MBkFycfR_ogL",
        "colab_type": "text"
      },
      "source": [
        "### K - palindrome\n",
        "A string is a k-palindrome, if it becomes a palindrome on removing atmost k characters from the string.\n",
        "For eg., ```'123431'``` is a palindrome on removing 1 character ```2``` from the string. So it is a 1-palindrome. "
      ]
    },
    {
      "cell_type": "code",
      "metadata": {
        "deletable": false,
        "nbgrader": {
          "cell_type": "code",
          "checksum": "892fbbb411ec13d2a42791037498f744",
          "grade": false,
          "grade_id": "cell-06c0da9eb77e7de3",
          "locked": false,
          "schema_version": 3,
          "solution": true,
          "task": false
        },
        "id": "Zz_qVN6-_ogN",
        "colab_type": "code",
        "colab": {}
      },
      "source": [
        "def k_palindrome(s, k):\n",
        "    \"\"\"\n",
        "    Inputs:\n",
        "        s: string\n",
        "        k: int\n",
        "    Outputs:\n",
        "        is_k_palindrome: bool, True if s is k-palindrome, False otherwise\n",
        "    \"\"\"\n",
        "    \n",
        "    # YOUR CODE HERE\n",
        "    \n",
        "    "
      ],
      "execution_count": null,
      "outputs": []
    },
    {
      "cell_type": "code",
      "metadata": {
        "deletable": false,
        "editable": false,
        "nbgrader": {
          "cell_type": "code",
          "checksum": "b7a376cf9544cda0ad6207e545636685",
          "grade": true,
          "grade_id": "cell-87e4402b5fa2e852",
          "locked": true,
          "points": 5,
          "schema_version": 3,
          "solution": false,
          "task": false
        },
        "id": "tQFjIQ2U_ogV",
        "colab_type": "code",
        "colab": {}
      },
      "source": [
        "assert k_palindrome('123431', 1) == True\n",
        "print('Test passed', '\\U0001F44D')"
      ],
      "execution_count": null,
      "outputs": []
    },
    {
      "cell_type": "markdown",
      "metadata": {
        "id": "7Wpeh-fD_oge",
        "colab_type": "text"
      },
      "source": [
        "# Q4"
      ]
    },
    {
      "cell_type": "markdown",
      "metadata": {
        "id": "bGYGKR7e_ogh",
        "colab_type": "text"
      },
      "source": [
        "### N-digit sum\n",
        "Given ```n``` and ```s```, find all n-digit numbers whose sum of digits adds upto ```s```.\n",
        "Eg., for ```n = 3``` and ```s = 26```, the possibilities are ```998, 989, 899``` <br>\n",
        "Return all the numbers as a sorted list. Return an empty list if no such numbers exist"
      ]
    },
    {
      "cell_type": "code",
      "metadata": {
        "deletable": false,
        "nbgrader": {
          "cell_type": "code",
          "checksum": "c51ba18ee3954c34eabcfe3b74bd5780",
          "grade": false,
          "grade_id": "cell-b767907cfc0654e5",
          "locked": false,
          "schema_version": 3,
          "solution": true,
          "task": false
        },
        "id": "PXpBLTO3_ogj",
        "colab_type": "code",
        "colab": {}
      },
      "source": [
        "def n_digit_sum(n, s):\n",
        "    \"\"\"\n",
        "    Inputs:\n",
        "        n : int, number of digits\n",
        "        s : int, sum of digits\n",
        "    Outputs:\n",
        "        arr : list, sorted list of n-digit numbers where sum of digits of each number is s\n",
        "    \"\"\"\n",
        "    arr = None\n",
        "    \n",
        "    # YOUR CODE HERE\n",
        "    \n",
        "    \n",
        "    return arr\n",
        "    "
      ],
      "execution_count": null,
      "outputs": []
    },
    {
      "cell_type": "code",
      "metadata": {
        "deletable": false,
        "editable": false,
        "nbgrader": {
          "cell_type": "code",
          "checksum": "edbaa57235a97dbd5810441f693ef172",
          "grade": true,
          "grade_id": "cell-f1044d16ec02246e",
          "locked": true,
          "points": 5,
          "schema_version": 3,
          "solution": false,
          "task": false
        },
        "id": "dy6urRuF_ogt",
        "colab_type": "code",
        "colab": {}
      },
      "source": [
        "assert n_digit_sum(3, 27) == [999]\n",
        "print('Test passed', '\\U0001F44D')"
      ],
      "execution_count": null,
      "outputs": []
    },
    {
      "cell_type": "markdown",
      "metadata": {
        "id": "j0yXA-Ik_og0",
        "colab_type": "text"
      },
      "source": [
        "# Q5"
      ]
    },
    {
      "cell_type": "markdown",
      "metadata": {
        "id": "f07tCvU__og2",
        "colab_type": "text"
      },
      "source": [
        "### Keep\n",
        "Write a function ```keep``` that takes two inputs - \n",
        "- a list of elements ```l```\n",
        "- a function f which returns a ```bool``` (either ```True``` or ```False```) for each element of ```l```\n",
        "\n",
        "You need to return ```keep_list``` which contains all the elements of l for which ```f``` returns ```True```"
      ]
    },
    {
      "cell_type": "code",
      "metadata": {
        "deletable": false,
        "nbgrader": {
          "cell_type": "code",
          "checksum": "5377c2e9398b6893fbdf814520cad715",
          "grade": false,
          "grade_id": "cell-3c66934816e806d3",
          "locked": false,
          "schema_version": 3,
          "solution": true,
          "task": false
        },
        "id": "p0SJASG2_og3",
        "colab_type": "code",
        "colab": {}
      },
      "source": [
        "def keep(l, f):\n",
        "    \"\"\"\n",
        "    Inputs:\n",
        "        l: list\n",
        "        f: function, returns bool for each element of l\n",
        "    Outputs:\n",
        "        keep_list: list\n",
        "    \"\"\"\n",
        "    keep_list = None\n",
        "    \n",
        "    # YOUR CODE HERE\n",
        "    \n",
        "    \n",
        "    return keep_list"
      ],
      "execution_count": null,
      "outputs": []
    },
    {
      "cell_type": "code",
      "metadata": {
        "deletable": false,
        "editable": false,
        "nbgrader": {
          "cell_type": "code",
          "checksum": "2a94f256c202052f6205b7fb38da8e7c",
          "grade": true,
          "grade_id": "cell-917e6637446d38c8",
          "locked": true,
          "points": 5,
          "schema_version": 3,
          "solution": false,
          "task": false
        },
        "id": "EnZbgYhG_og-",
        "colab_type": "code",
        "colab": {}
      },
      "source": [
        "def is_even(x):\n",
        "    return x%2 == 0\n",
        "assert keep([1, 2, 3, 4, 5, 6, 8, 9], is_even) == [2, 4, 6, 8]\n",
        "print('Test passed', '\\U0001F44D')"
      ],
      "execution_count": null,
      "outputs": []
    }
  ]
}