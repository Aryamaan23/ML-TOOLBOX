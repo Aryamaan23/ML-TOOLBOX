{
  "nbformat": 4,
  "nbformat_minor": 0,
  "metadata": {
    "colab": {
      "name": "Copy of Quiz 2.ipynb",
      "provenance": [],
      "collapsed_sections": [],
      "include_colab_link": true
    },
    "kernelspec": {
      "name": "python3",
      "display_name": "Python 3"
    }
  },
  "cells": [
    {
      "cell_type": "markdown",
      "metadata": {
        "id": "view-in-github",
        "colab_type": "text"
      },
      "source": [
        "<a href=\"https://colab.research.google.com/github/Aryamaan23/ML-TOOLBOX/blob/master/Copy_of_Quiz_2.ipynb\" target=\"_parent\"><img src=\"https://colab.research.google.com/assets/colab-badge.svg\" alt=\"Open In Colab\"/></a>"
      ]
    },
    {
      "cell_type": "markdown",
      "metadata": {
        "id": "xQ6QkDrg65qn",
        "colab_type": "text"
      },
      "source": [
        "###Instructions\n",
        "- Fill all the incomplete functions. Strictly follow the function specs. \n",
        "- Do not copy or plagiarize. IIT Kanpur has a very strict policy against plagiarism"
      ]
    },
    {
      "cell_type": "markdown",
      "metadata": {
        "id": "uO3mvrADe07b",
        "colab_type": "text"
      },
      "source": [
        "###Download and read file"
      ]
    },
    {
      "cell_type": "code",
      "metadata": {
        "id": "bQ7yNMAHWdiX",
        "colab_type": "code",
        "colab": {}
      },
      "source": [
        "### Download data from google drive. You need not mess with this code.\n",
        "\n",
        "import requests\n",
        "\n",
        "def download_file_from_google_drive(id, destination):\n",
        "    URL = \"https://docs.google.com/uc?export=download\"\n",
        "\n",
        "    session = requests.Session()\n",
        "\n",
        "    response = session.get(URL, params = { 'id' : id }, stream = True)\n",
        "    token = get_confirm_token(response)\n",
        "\n",
        "    if token:\n",
        "        params = { 'id' : id, 'confirm' : token }\n",
        "        response = session.get(URL, params = params, stream = True)\n",
        "\n",
        "    save_response_content(response, destination)    \n",
        "\n",
        "def get_confirm_token(response):\n",
        "    for key, value in response.cookies.items():\n",
        "        if key.startswith('download_warning'):\n",
        "            return value\n",
        "\n",
        "    return None\n",
        "\n",
        "def save_response_content(response, destination):\n",
        "    CHUNK_SIZE = 32768\n",
        "\n",
        "    with open(destination, \"wb\") as f:\n",
        "        for chunk in response.iter_content(CHUNK_SIZE):\n",
        "            if chunk: # filter out keep-alive new chunks\n",
        "                f.write(chunk)\n",
        "                \n",
        "if __name__ == \"__main__\":\n",
        "    file_id = '1e_Azf9zGvSWsDhM9PP2sfMNKC72-iWAK'\n",
        "    destination = 'data.txt'\n",
        "    download_file_from_google_drive(file_id, destination)"
      ],
      "execution_count": null,
      "outputs": []
    },
    {
      "cell_type": "code",
      "metadata": {
        "id": "MplBG7oMdBpT",
        "colab_type": "code",
        "colab": {}
      },
      "source": [
        "with open('data.txt', 'r') as f:\n",
        "  data_raw = f.readlines()"
      ],
      "execution_count": null,
      "outputs": []
    },
    {
      "cell_type": "markdown",
      "metadata": {
        "id": "50T9-PIvxQEH",
        "colab_type": "text"
      },
      "source": [
        "###1. Data preparation\n",
        "Now the entire data is stored in the list ```data_raw```. \\\\\n",
        "Every line in the file is a different element of the list. \\\\\n",
        "First let us look at the first five elements of the list. \\\\\n"
      ]
    },
    {
      "cell_type": "markdown",
      "metadata": {
        "id": "RWJu6vVD8QZY",
        "colab_type": "text"
      },
      "source": [
        "####1.1"
      ]
    },
    {
      "cell_type": "markdown",
      "metadata": {
        "id": "b25-jGegPmML",
        "colab_type": "text"
      },
      "source": [
        "Write a function that returns first five elements of the list if length of list is greater than or equal to 5 and None value otherwise."
      ]
    },
    {
      "cell_type": "code",
      "metadata": {
        "id": "OYHiOvjtdcz2",
        "colab_type": "code",
        "colab": {}
      },
      "source": [
        "def first_five_in_list(l):\n",
        "  \"\"\"\n",
        "  Inputs: \n",
        "  l: Python list\n",
        "\n",
        "  Outputs:\n",
        "  l_5 : python list, first five elements of list if length of list greater than 5; None otherwise\n",
        "  \"\"\"\n",
        "  ### Your code here\n",
        "  if(len(l)>=5):\n",
        "    l_5=l[:5]\n",
        "  else:\n",
        "    l_5=None\n",
        "  return l_5"
      ],
      "execution_count": null,
      "outputs": []
    },
    {
      "cell_type": "code",
      "metadata": {
        "id": "8HMITN0mi3lZ",
        "colab_type": "code",
        "colab": {
          "base_uri": "https://localhost:8080/",
          "height": 102
        },
        "outputId": "57453aa8-6270-4bec-9ae6-43d21d64f586"
      },
      "source": [
        "first_five_in_list(data_raw)"
      ],
      "execution_count": null,
      "outputs": [
        {
          "output_type": "execute_result",
          "data": {
            "text/plain": [
              "['ham\\tGo until jurong point, crazy.. Available only in bugis n great world la e buffet... Cine there got amore wat...\\n',\n",
              " 'ham\\tOk lar... Joking wif u oni...\\n',\n",
              " \"spam\\tFree entry in 2 a wkly comp to win FA Cup final tkts 21st May 2005. Text FA to 87121 to receive entry question(std txt rate)T&C's apply 08452810075over18's\\n\",\n",
              " 'ham\\tU dun say so early hor... U c already then say...\\n',\n",
              " \"ham\\tNah I don't think he goes to usf, he lives around here though\\n\"]"
            ]
          },
          "metadata": {
            "tags": []
          },
          "execution_count": 20
        }
      ]
    },
    {
      "cell_type": "markdown",
      "metadata": {
        "id": "ujOfJkfaHUM9",
        "colab_type": "text"
      },
      "source": [
        "####1.2"
      ]
    },
    {
      "cell_type": "markdown",
      "metadata": {
        "id": "MfZaEX978F3d",
        "colab_type": "text"
      },
      "source": [
        "You can see that the first five elements in our list look like this - \n",
        "<img src=\"https://drive.google.com/uc?id=1JnA0TxI-jWR4mJHYztnQQZZNRRTacsaa\"> \\\\\n",
        "<br>\n",
        "You can clearly see that each line ends with a newline character. We want to remove these new line characters. \\\\\n",
        "Write  a function that removes all extra newline characters (number of newline characters maybe greater than or equal to 0) at the end of any string that is passed to it."
      ]
    },
    {
      "cell_type": "code",
      "metadata": {
        "id": "EnU8WJSHgO80",
        "colab_type": "code",
        "colab": {}
      },
      "source": [
        "def remove_trailing_newlines(s):\n",
        "  \"\"\"\n",
        "  Function that removes all trailing newlines at the end of it\n",
        "  Inputs:\n",
        "    s : string\n",
        "\n",
        "  Outputs:\n",
        "    s_clean : string, string s but without newline characters at the end \n",
        "  \"\"\"\n",
        "  ### Write your code here\n",
        "  for i in range(len(s)-1,0,-1):\n",
        "    if(s[-1]=='\\n'):\n",
        "      s=s[:-1]\n",
        "    else:\n",
        "      break\n",
        "  s_clean=s\n",
        "  return s_clean"
      ],
      "execution_count": null,
      "outputs": []
    },
    {
      "cell_type": "code",
      "metadata": {
        "id": "iI4_I_MiidhY",
        "colab_type": "code",
        "colab": {
          "base_uri": "https://localhost:8080/",
          "height": 34
        },
        "outputId": "80a332be-3177-47a4-d000-79f57cf267ef"
      },
      "source": [
        "remove_trailing_newlines(data_raw[0])"
      ],
      "execution_count": null,
      "outputs": [
        {
          "output_type": "execute_result",
          "data": {
            "text/plain": [
              "'ham\\tGo until jurong point, crazy.. Available only in bugis n great world la e buffet... Cine there got amore wat...\\n'"
            ]
          },
          "metadata": {
            "tags": []
          },
          "execution_count": 17
        }
      ]
    },
    {
      "cell_type": "markdown",
      "metadata": {
        "id": "g2OrKXY4CsLU",
        "colab_type": "text"
      },
      "source": [
        "If we apply ```remove_trailing_newlines``` to first element of data_raw, we get <br>\n",
        "<img src=\"https://drive.google.com/uc?id=1vu-awFwqGC9sNgk-QgHMIamnFp6d996R\"> <br>\n",
        "You can see that the newline at the end has disappeared. <br>\n"
      ]
    },
    {
      "cell_type": "markdown",
      "metadata": {
        "id": "RbYgQpuHHYCQ",
        "colab_type": "text"
      },
      "source": [
        "####1.3"
      ]
    },
    {
      "cell_type": "markdown",
      "metadata": {
        "id": "_0UNgfp3HNkq",
        "colab_type": "text"
      },
      "source": [
        "But we now we need to apply this function to the whole list. \\\\\n",
        "Write a function named mapl, that takes two arguments - a function on elements of type $t$ and a list $l$ of elements of type $t$ and applies the function over all elements of the list $l$ and returns them as a list. "
      ]
    },
    {
      "cell_type": "code",
      "metadata": {
        "id": "wh7mGIS2BdaK",
        "colab_type": "code",
        "colab": {}
      },
      "source": [
        "def mapl(f, l):\n",
        "  \"\"\"\n",
        "  Function that applies f over all elements of l\n",
        "  Inputs:\n",
        "    f : function, f takes elements of type t1 and returns elements of type t2\n",
        "    l : list, list of elements of type t1\n",
        "\n",
        "  Ouptuts:\n",
        "    f_l : list, list of elements of type t2 obtained by applying f over each element of l\n",
        "  \"\"\"\n",
        "  ### Write your code here\n",
        "  f_l=[]\n",
        "  for i in l:\n",
        "    f_l.append(f(i))\n",
        "\n",
        "  return f_l"
      ],
      "execution_count": null,
      "outputs": []
    },
    {
      "cell_type": "markdown",
      "metadata": {
        "id": "m_AalPJHSp2M",
        "colab_type": "text"
      },
      "source": [
        "Now we can use mapl to apply remove_trailing_newlines to all lines in data_raw"
      ]
    },
    {
      "cell_type": "code",
      "metadata": {
        "id": "Mh_P4JhoDv92",
        "colab_type": "code",
        "colab": {
          "base_uri": "https://localhost:8080/",
          "height": 102
        },
        "outputId": "aab4a685-414f-47f6-97b8-7d913811de1b"
      },
      "source": [
        "data_clean = mapl(remove_trailing_newlines, data_raw)\n",
        "data_clean[:5]"
      ],
      "execution_count": null,
      "outputs": [
        {
          "output_type": "execute_result",
          "data": {
            "text/plain": [
              "['ham\\tGo until jurong point, crazy.. Available only in bugis n great world la e buffet... Cine there got amore wat...',\n",
              " 'ham\\tOk lar... Joking wif u oni...',\n",
              " \"spam\\tFree entry in 2 a wkly comp to win FA Cup final tkts 21st May 2005. Text FA to 87121 to receive entry question(std txt rate)T&C's apply 08452810075over18's\",\n",
              " 'ham\\tU dun say so early hor... U c already then say...',\n",
              " \"ham\\tNah I don't think he goes to usf, he lives around here though\"]"
            ]
          },
          "metadata": {
            "tags": []
          },
          "execution_count": 54
        }
      ]
    },
    {
      "cell_type": "markdown",
      "metadata": {
        "id": "tp9r8f7TeAOi",
        "colab_type": "text"
      },
      "source": [
        "First five elements of data_clean look like this: <br>\n",
        "<img src = \"https://drive.google.com/uc?id=17U7h87_7VjZs5CpRtJawHUfM5O1EztcS\">"
      ]
    },
    {
      "cell_type": "markdown",
      "metadata": {
        "id": "O8eiwUoUh8EX",
        "colab_type": "text"
      },
      "source": [
        "This is a dataset of text messages. We have to classify this into spam or ham. Ham means non-spam relevant text messages. More details can be found here - http://archive.ics.uci.edu/ml/datasets/SMS+Spam+Collection <br>\n",
        "<br>\n",
        "You can see that each line starts by specifying whether the message is ```ham``` or ```spam``` and then there is a tab character, ```\\t``` followed by actual text message.\n",
        "<br>\n",
        "Now we need to split the lines to extract the two components - data label (```ham``` or ```spam```) and data sample (the text message)."
      ]
    },
    {
      "cell_type": "markdown",
      "metadata": {
        "id": "UDSzREJQPUhO",
        "colab_type": "text"
      },
      "source": [
        "####1.4"
      ]
    },
    {
      "cell_type": "markdown",
      "metadata": {
        "id": "9TubvXk5_qfU",
        "colab_type": "text"
      },
      "source": [
        "Write a function ```split_at_s``` that takes two strings - ```text``` and ```s```. <br>\n",
        "It splits the string text into two parts at the first occurence of s. <br>\n",
        "Then it wraps both parts in a tuple and returns it."
      ]
    },
    {
      "cell_type": "code",
      "metadata": {
        "id": "RGMNHYDpSTza",
        "colab_type": "code",
        "colab": {}
      },
      "source": [
        "def split_at_s(text, s):\n",
        "  \"\"\"Function that splits string text into two parts at the first occurence of string s\n",
        "  Inputs:\n",
        "    text: string, string to be split\n",
        "    s : string, string of length 1 at which to split\n",
        "  \n",
        "  Outputs:\n",
        "    split_text: tuple of size 2, contains text split in two (do not include the string s at which split occurs in any of the split parts) \n",
        "  \"\"\"\n",
        "  ### Write your code here\n",
        "  text_splitted=text.split(s)\n",
        "  split_text=(text_splitted[0],s.join(text_splitted[1:]))\n",
        "  return split_text"
      ],
      "execution_count": null,
      "outputs": []
    },
    {
      "cell_type": "code",
      "metadata": {
        "id": "AlkBIr59hY5f",
        "colab_type": "code",
        "colab": {
          "base_uri": "https://localhost:8080/",
          "height": 51
        },
        "outputId": "b047227d-3f27-4af7-da8c-fd9f4bb5acbd"
      },
      "source": [
        "text='Hello World 1 2 3 4'\n",
        "split_at_s(text,' ')\n",
        "split_at_s(data_clean[0],'\\t')"
      ],
      "execution_count": null,
      "outputs": [
        {
          "output_type": "execute_result",
          "data": {
            "text/plain": [
              "('ham',\n",
              " 'Go until jurong point, crazy.. Available only in bugis n great world la e buffet... Cine there got amore wat...')"
            ]
          },
          "metadata": {
            "tags": []
          },
          "execution_count": 56
        }
      ]
    },
    {
      "cell_type": "markdown",
      "metadata": {
        "id": "--68X3l3OWGA",
        "colab_type": "text"
      },
      "source": [
        "Python has a very handy feature used to define short functions called lambda expressions. This is from official python docs <br>\n",
        "<img src = \"https://drive.google.com/uc?id=1kBLTdhWT6SNrhlk7vYH7ql2KxcSKvu29\">"
      ]
    },
    {
      "cell_type": "markdown",
      "metadata": {
        "id": "5tV9Mk8mMIBe",
        "colab_type": "text"
      },
      "source": [
        "Use lambda expressions and ```split_at_s``` to write a function, ```split_at_tab``` that takes only one argument - ```text``` and splits at the first occurence of ```'\\t'``` character. (If you can't understand lambda expressions, just define the function in the ususal way)"
      ]
    },
    {
      "cell_type": "code",
      "metadata": {
        "id": "3tpIVA2BP5dZ",
        "colab_type": "code",
        "colab": {}
      },
      "source": [
        "### Write your code here\n",
        "split_at_tab=lambda text: split_at_s(text,'\\t')"
      ],
      "execution_count": null,
      "outputs": []
    },
    {
      "cell_type": "code",
      "metadata": {
        "id": "5ZwWasXzguRS",
        "colab_type": "code",
        "colab": {
          "base_uri": "https://localhost:8080/",
          "height": 51
        },
        "outputId": "89c48aed-5cda-4fac-931d-78ca941a7f6a"
      },
      "source": [
        "split_at_tab(data_clean[0])"
      ],
      "execution_count": null,
      "outputs": [
        {
          "output_type": "execute_result",
          "data": {
            "text/plain": [
              "('ham',\n",
              " 'Go until jurong point, crazy.. Available only in bugis n great world la e buffet... Cine there got amore wat...')"
            ]
          },
          "metadata": {
            "tags": []
          },
          "execution_count": 58
        }
      ]
    },
    {
      "cell_type": "markdown",
      "metadata": {
        "id": "tx1GRSnbQVrh",
        "colab_type": "text"
      },
      "source": [
        "####1.5"
      ]
    },
    {
      "cell_type": "markdown",
      "metadata": {
        "id": "et5RmsteQidA",
        "colab_type": "text"
      },
      "source": [
        "Now apply ```split_at_tab``` function over the elements of list ```data_clean``` and assign it to variable named ```data_clean2```. "
      ]
    },
    {
      "cell_type": "code",
      "metadata": {
        "id": "yNd46m-nQh3o",
        "colab_type": "code",
        "colab": {
          "base_uri": "https://localhost:8080/",
          "height": 136
        },
        "outputId": "a6ff35c7-4803-4896-affc-d4872fbcf040"
      },
      "source": [
        "#### Write your code here\n",
        "data_clean2=mapl(split_at_tab,data_clean)\n",
        "data_clean2[:5]"
      ],
      "execution_count": null,
      "outputs": [
        {
          "output_type": "execute_result",
          "data": {
            "text/plain": [
              "[('ham',\n",
              "  'Go until jurong point, crazy.. Available only in bugis n great world la e buffet... Cine there got amore wat...'),\n",
              " ('ham', 'Ok lar... Joking wif u oni...'),\n",
              " ('spam',\n",
              "  \"Free entry in 2 a wkly comp to win FA Cup final tkts 21st May 2005. Text FA to 87121 to receive entry question(std txt rate)T&C's apply 08452810075over18's\"),\n",
              " ('ham', 'U dun say so early hor... U c already then say...'),\n",
              " ('ham', \"Nah I don't think he goes to usf, he lives around here though\")]"
            ]
          },
          "metadata": {
            "tags": []
          },
          "execution_count": 59
        }
      ]
    },
    {
      "cell_type": "markdown",
      "metadata": {
        "id": "-kekp8kaGVmn",
        "colab_type": "text"
      },
      "source": [
        "After splitting at '\\t' character, one data point looks like this - <br>\n",
        "<img src = \"https://drive.google.com/uc?id=1TVblRl9K_4HFLOncSWZW20u3ztsfoCzY\">\n"
      ]
    },
    {
      "cell_type": "markdown",
      "metadata": {
        "id": "FgDHXsdTj96b",
        "colab_type": "text"
      },
      "source": [
        "Now let us remove the punctuations in an sms."
      ]
    },
    {
      "cell_type": "code",
      "metadata": {
        "id": "GRiMxZhHkCLt",
        "colab_type": "code",
        "colab": {}
      },
      "source": [
        "import string\n",
        "def remove_punctuations_and_lower(text):\n",
        "  \"\"\"Function that removes punctuations in a text\n",
        "  Inputs:\n",
        "    text: string\n",
        "  Outputs:\n",
        "    text_wo_punctuations\n",
        "  \"\"\"\n",
        "  return (text.translate(str.maketrans(\"\",\"\", string.punctuation))).lower()"
      ],
      "execution_count": null,
      "outputs": []
    },
    {
      "cell_type": "markdown",
      "metadata": {
        "id": "J7eqooYDTLmZ",
        "colab_type": "text"
      },
      "source": [
        "####1.6"
      ]
    },
    {
      "cell_type": "markdown",
      "metadata": {
        "id": "3El_wxqzku34",
        "colab_type": "text"
      },
      "source": [
        "Now use the function remove_punctuations to remove punctuations from the text part of all of the tuples in ```data_clean2``` and assign it to a variable named ```dataset```"
      ]
    },
    {
      "cell_type": "code",
      "metadata": {
        "id": "rgf3DUvqlmAI",
        "colab_type": "code",
        "colab": {}
      },
      "source": [
        "### Write your code here\n",
        "dataset=mapl(lambda x: (x[0],remove_punctuations_and_lower(x[1])),data_clean2)"
      ],
      "execution_count": null,
      "outputs": []
    },
    {
      "cell_type": "code",
      "metadata": {
        "id": "KFJP24Phkh6R",
        "colab_type": "code",
        "colab": {
          "base_uri": "https://localhost:8080/",
          "height": 136
        },
        "outputId": "7ffbaa6b-7cd0-455d-8885-60a7ec8ecae8"
      },
      "source": [
        "dataset[:5]"
      ],
      "execution_count": null,
      "outputs": [
        {
          "output_type": "execute_result",
          "data": {
            "text/plain": [
              "[('ham',\n",
              "  'go until jurong point crazy available only in bugis n great world la e buffet cine there got amore wat'),\n",
              " ('ham', 'ok lar joking wif u oni'),\n",
              " ('spam',\n",
              "  'free entry in 2 a wkly comp to win fa cup final tkts 21st may 2005 text fa to 87121 to receive entry questionstd txt ratetcs apply 08452810075over18s'),\n",
              " ('ham', 'u dun say so early hor u c already then say'),\n",
              " ('ham', 'nah i dont think he goes to usf he lives around here though')]"
            ]
          },
          "metadata": {
            "tags": []
          },
          "execution_count": 62
        }
      ]
    },
    {
      "cell_type": "markdown",
      "metadata": {
        "id": "MLg7ugWToZls",
        "colab_type": "text"
      },
      "source": [
        "First 5 elements of ```dataset``` look like this now. <br>\n",
        "<img src=\"https://drive.google.com/uc?id=19TomF6uXvsFALRsX6KLOPseKzxADMgRp\">"
      ]
    },
    {
      "cell_type": "markdown",
      "metadata": {
        "id": "QEUFhZ_4SqNs",
        "colab_type": "text"
      },
      "source": [
        "Now let us count number of occurences of ```ham``` and ```spam``` in our dataset."
      ]
    },
    {
      "cell_type": "markdown",
      "metadata": {
        "id": "A5wSkRC5QaoQ",
        "colab_type": "text"
      },
      "source": [
        "####1.7 "
      ]
    },
    {
      "cell_type": "markdown",
      "metadata": {
        "id": "0zC4KpPtHBSQ",
        "colab_type": "text"
      },
      "source": [
        "Write a function ```counter``` that takes two arguments - \n",
        "- a list $l$ of elements of type $t$\n",
        "- a function $f: t \\rightarrow u$ (means $f$ takes an argument of type $t$ and returns values of type $u$)\n",
        "\n",
        "Counter returns a dictionary whose keys are $u_1, u_2, \\ldots etc$ - unique values of type $u$ obtained by applying $f$ over elements of $l$. <br>\n",
        "The values corresponding to the keys are the the number of times a particular key say $u_1$ is obtained when we apply $f$ over elements of $l$"
      ]
    },
    {
      "cell_type": "code",
      "metadata": {
        "id": "DE6n5CopEzsF",
        "colab_type": "code",
        "colab": {}
      },
      "source": [
        "def counter(l, f):\n",
        "  \"\"\"\n",
        "  Function that returns a dictionary of counts of unique values obtained by applying f over elements of l\n",
        "  Inputs:\n",
        "    l: list; list of elements of type t\n",
        "    f: function; f takes arguments of type t and returns values of type u\n",
        "  \n",
        "  Outputs:\n",
        "    count_dict: dictionary; keys are elements of type u, values are ints\n",
        "  \"\"\"\n",
        "  ### Write your code here\n",
        "  l_mapped=map(f,l)\n",
        "  from collections import Counter\n",
        "  count_dict = dict(Counter(l_mapped))\n",
        "  return count_dict"
      ],
      "execution_count": null,
      "outputs": []
    },
    {
      "cell_type": "markdown",
      "metadata": {
        "id": "fKe-m5iMVkad",
        "colab_type": "text"
      },
      "source": [
        "####1.8"
      ]
    },
    {
      "cell_type": "markdown",
      "metadata": {
        "id": "eSCZzeUeTbf7",
        "colab_type": "text"
      },
      "source": [
        "Write a function named ```aux_func``` that can be passed to ```counter``` along with the list ```dataset``` to get a dictionary containing counts of ```ham``` and ```spam``` "
      ]
    },
    {
      "cell_type": "code",
      "metadata": {
        "id": "SN78MkCkTXwS",
        "colab_type": "code",
        "colab": {
          "base_uri": "https://localhost:8080/",
          "height": 34
        },
        "outputId": "db186493-9b9c-4ad5-ad1f-20b6d1f1afa5"
      },
      "source": [
        "#### Write your code here\n",
        "aux_func=lambda x:x[0]\n",
        "counter(dataset,aux_func)"
      ],
      "execution_count": null,
      "outputs": [
        {
          "output_type": "execute_result",
          "data": {
            "text/plain": [
              "{'ham': 4827, 'spam': 747}"
            ]
          },
          "metadata": {
            "tags": []
          },
          "execution_count": 83
        }
      ]
    },
    {
      "cell_type": "markdown",
      "metadata": {
        "id": "CxbnAZzwT8Df",
        "colab_type": "text"
      },
      "source": [
        "The counts of ```ham``` and ```spam``` as we can see are ```{'ham': 4827, 'spam': 747}```"
      ]
    },
    {
      "cell_type": "markdown",
      "metadata": {
        "id": "esNQ_BQDUZ_O",
        "colab_type": "text"
      },
      "source": [
        "Now let us split our dataset into training and test sets. We'll first shuffle the elements of the dataset, then we'll use 80% of data for training and 20% for testing."
      ]
    },
    {
      "cell_type": "markdown",
      "metadata": {
        "id": "oPeyjn8EpXkB",
        "colab_type": "text"
      },
      "source": [
        "####1.9"
      ]
    },
    {
      "cell_type": "markdown",
      "metadata": {
        "id": "_5ltqW4VVoXw",
        "colab_type": "text"
      },
      "source": [
        "Write a function that takes a list, randomly shuffles it and then returns it. <br>\n",
        "Hint: Use the random library of python - https://docs.python.org/3/library/random.html"
      ]
    },
    {
      "cell_type": "markdown",
      "metadata": {
        "id": "N7uIMdzCVjB2",
        "colab_type": "text"
      },
      "source": [
        ""
      ]
    },
    {
      "cell_type": "code",
      "metadata": {
        "id": "thveIifRLIIY",
        "colab_type": "code",
        "colab": {}
      },
      "source": [
        "import random\n",
        "def random_shuffle(l):\n",
        "  \"\"\"Function that returns a randomly shuffled list\n",
        "  Inputs:\n",
        "    l: list\n",
        "  Outputs:\n",
        "    l_shuffled: list, contains same elements as l but randomly shuffled\n",
        "  \"\"\"\n",
        "  ### Write your code here\n",
        "  l_shuffled=random.sample(l,len(l))\n",
        "  return l_shuffled"
      ],
      "execution_count": null,
      "outputs": []
    },
    {
      "cell_type": "code",
      "metadata": {
        "id": "DxgYV2h9b7MH",
        "colab_type": "code",
        "colab": {
          "base_uri": "https://localhost:8080/",
          "height": 34
        },
        "outputId": "b499b14e-9415-48fe-83a5-10cc6b1a2c9d"
      },
      "source": [
        "random_shuffle([1,2,3,4])"
      ],
      "execution_count": null,
      "outputs": [
        {
          "output_type": "execute_result",
          "data": {
            "text/plain": [
              "[2, 4, 1, 3]"
            ]
          },
          "metadata": {
            "tags": []
          },
          "execution_count": 31
        }
      ]
    },
    {
      "cell_type": "markdown",
      "metadata": {
        "id": "qqCM169TXKxP",
        "colab_type": "text"
      },
      "source": [
        "1.10"
      ]
    },
    {
      "cell_type": "markdown",
      "metadata": {
        "id": "6nu6JQw_XL9-",
        "colab_type": "text"
      },
      "source": [
        "Now split the shuffled list. Take 80% (4459) samples and assign them to a variable called ```data_train``` . Put the rest in a variable called ```data_test```"
      ]
    },
    {
      "cell_type": "code",
      "metadata": {
        "id": "WhosY1teXB6z",
        "colab_type": "code",
        "colab": {}
      },
      "source": [
        "### Write your code here\n",
        "shuffled_list=random_shuffle(dataset)\n",
        "data_train=shuffled_list[:4459]\n",
        "data_test=shuffled_list[4459:]"
      ],
      "execution_count": null,
      "outputs": []
    },
    {
      "cell_type": "markdown",
      "metadata": {
        "id": "WsGQHDRzYGt9",
        "colab_type": "text"
      },
      "source": [
        "### 2.Data Modeling\n",
        "We shall use Naive Bayes for modelling our classifier. You can read about Naive Bayes from here (https://en.wikipedia.org/wiki/Naive_Bayes_classifier#Multinomial_naive_Bayes). But you don't actually need to read it, because we are going to move step by step in building this classifier."
      ]
    },
    {
      "cell_type": "markdown",
      "metadata": {
        "id": "ArVXyHh2YBVB",
        "colab_type": "text"
      },
      "source": [
        "First we need to find the probabilities $P(w_i | C)$ <br>\n",
        "We read $P(A | B)$ as probability of event A, given event B. <br>\n",
        "$P(w_i | C)$ is probability that word $w_i$ occurs in the sms given that the sms belongs to class $C$ where $C$ can be either ```spam``` or ```ham``` .\n",
        "<br>\n",
        "But we will be finding $\\tilde{P}(w_i|C)$ which is the smoothed probability function to take care of words with 0 probabilities that may cause problems."
      ]
    },
    {
      "cell_type": "markdown",
      "metadata": {
        "id": "QMVyZc-3qiHp",
        "colab_type": "text"
      },
      "source": [
        "$\\tilde{P}(w_i|C) = \\frac{\\text{Number of occurences of } w_i \\text{ in all samples of class C} + 1}{\\text{Total number of words in all samples of class C } + \\text{ Vocabulary size}}$"
      ]
    },
    {
      "cell_type": "markdown",
      "metadata": {
        "id": "VGzSlWbyuQt8",
        "colab_type": "text"
      },
      "source": [
        "####2.1"
      ]
    },
    {
      "cell_type": "markdown",
      "metadata": {
        "id": "HBS9Pz0gtJ3d",
        "colab_type": "text"
      },
      "source": [
        "Find the vocabulary - list of unique words in all smses of ```data_train``` and assign it to the variable ```vocab```"
      ]
    },
    {
      "cell_type": "code",
      "metadata": {
        "id": "0yOIc2n6qGXQ",
        "colab_type": "code",
        "colab": {
          "base_uri": "https://localhost:8080/",
          "height": 34
        },
        "outputId": "3accf613-d174-4ab5-83a5-05b8cb3888f6"
      },
      "source": [
        "### Write your code here\n",
        "all_words=[]\n",
        "for i in data_train:\n",
        "  all_words=all_words+i[1].split(\" \")\n",
        "vocab=list(set(all_words))\n",
        "print(f'Length of vocab is {len(vocab)}')"
      ],
      "execution_count": null,
      "outputs": [
        {
          "output_type": "stream",
          "text": [
            "Length of vocab is 8542\n"
          ],
          "name": "stdout"
        }
      ]
    },
    {
      "cell_type": "markdown",
      "metadata": {
        "id": "rFuA1JHuuTkO",
        "colab_type": "text"
      },
      "source": [
        "#### 2.2"
      ]
    },
    {
      "cell_type": "markdown",
      "metadata": {
        "id": "9pTGEo2LuqAK",
        "colab_type": "text"
      },
      "source": [
        "For every word $w_i$ in vocab, find the count (total number of occurences) of $w_i$ in all smses of type ```spam```. Put these counts in a dictionary and assign it to a variable named ```dict_spam``` where key is the word $w_i$ and value is the count. <br>\n",
        "In a similar way, create a variable called ```dict_ham``` which contains counts of each word in vocabulary in smses of type ```ham```. (This is only w.r.t samples in ```data_train```) "
      ]
    },
    {
      "cell_type": "code",
      "metadata": {
        "id": "RfccWLOMuNSD",
        "colab_type": "code",
        "colab": {
          "base_uri": "https://localhost:8080/",
          "height": 54
        },
        "outputId": "d02ee858-bf7d-4852-85e5-3e0957829b21"
      },
      "source": [
        "### Write your code here\n",
        "spam_train=[]\n",
        "ham_train=[]\n",
        "for i in data_train:\n",
        "  if(i[0]==\"spam\"):\n",
        "    spam_train.extend(i[1].split(\" \"))\n",
        "  else:\n",
        "    ham_train.extend(i[1].split(\" \"))\n",
        "dict_spam=counter(spam_train, lambda x: x)\n",
        "dict_ham=counter(ham_train, lambda x: x)\n",
        "print(dict_spam)"
      ],
      "execution_count": null,
      "outputs": [
        {
          "output_type": "stream",
          "text": [
            "{'congratulations': 13, 'u': 115, 'can': 21, 'claim': 89, '2': 134, 'vip': 4, 'row': 1, 'a': 314, 'tickets': 3, 'c': 13, 'blu': 2, 'in': 61, 'concert': 1, 'november': 1, 'or': 159, 'gift': 16, 'guaranteed': 43, 'call': 268, '09061104276': 1, 'to': 550, 'tscs': 14, 'wwwsmsconet': 2, 'cost£375max': 1, '': 212, 'urgent': 49, 'we': 38, 'are': 62, 'trying': 13, 'contact': 48, 'you': 235, 'last': 9, 'weekends': 5, 'draw': 32, 'shows': 25, 'have': 112, 'won': 59, '£1000': 28, 'prize': 73, '09064017295': 1, 'code': 23, 'k52': 2, 'valid': 17, '12hrs': 12, '150p': 17, 'pm': 2, 'bought': 1, 'one': 5, 'ringtone': 19, 'and': 91, 'now': 145, 'getting': 3, 'texts': 10, 'costing': 1, '3': 18, 'pound': 4, 'offering': 1, 'more': 24, 'tones': 18, 'etc': 4, 'being': 6, 'contacted': 5, 'by': 31, 'our': 74, 'dating': 15, 'service': 50, 'someone': 14, 'know': 22, 'find': 18, 'out': 46, 'who': 48, 'it': 25, 'is': 122, 'from': 101, 'land': 15, 'line': 29, '09050000878': 1, 'pobox45w2tg150p': 2, 'new': 62, 'this': 62, 'week': 39, 'include': 2, '1mcflyall': 1, 'ab': 1, 'sara': 1, 'jorgeshock': 1, 'will': 35, 'smithswitch': 1, 'order': 8, 'follow': 2, 'instructions': 2, 'on': 128, 'next': 12, 'message': 26, '800': 10, 'free': 177, 'flights': 4, 'europe': 1, 'give': 8, 'away': 4, 'b4': 4, '10th': 1, 'sept': 3, 'take': 13, 'friend': 10, '4': 91, '09050000555': 1, 'ba128nnfwfly150ppm': 1, 'loan': 3, 'for': 159, 'any': 23, 'purpose': 3, '£500': 16, '£75000': 2, 'homeowners': 2, 'tenants': 3, 'welcome': 7, 'been': 32, 'previously': 2, 'refused': 3, 'still': 5, 'help': 16, '0800': 10, '1956669': 2, 'text': 94, 'back': 15, 'your': 188, 'mobile': 90, 'no': 46, 'was': 9, 'awarded': 31, '£2000': 24, 'bonus': 16, 'caller': 10, '5903': 1, 'final': 14, 'try': 6, 'landline': 27, '09064019788': 1, 'box42wr29c': 1, '150ppm': 24, 'orange': 21, 'customer': 37, 'may': 5, 'camera': 29, 'phone': 40, 'upgrade': 2, 'loyalty': 5, '0207': 2, '153': 2, '9996': 1, 'offer': 22, 'ends': 3, '14thmarch': 1, 'tcs': 26, 'apply': 24, 'optout': 9, 'availa': 1, 'an': 21, 'important': 10, 'announcement': 6, 'premier': 2, 'freephone': 8, '542': 4, '0578': 2, 'show': 4, 'ur': 119, 'colours': 1, 'euro': 3, '2004': 7, '241': 1, 'get': 66, 'england': 6, 'flag': 9, '3lions': 1, 'tone': 35, 'click': 5, 'the': 159, 'following': 3, 'info': 8, 'recpt': 1, '13': 1, 'ordered': 3, 'processed': 1, 'double': 15, 'mins': 28, '1000': 6, 'txts': 10, 'tariffs': 5, 'latest': 32, 'motorola': 9, 'sonyericsson': 4, 'nokia': 53, 'with': 89, 'bluetooth': 8, 'mobileupd8': 14, '08000839402': 13, 'call2optouthf8': 1, '08702490080': 1, 'tells': 2, '09066358152': 2, '£5000': 18, 'enter': 8, 'all': 24, 'personal': 2, 'details': 6, 'prompts': 2, 'careful': 2, 'hi': 15, '07734396839': 2, 'ibh': 2, 'nokia6600': 2, 'only': 66, '£10': 4, 'at': 20, 'txtauctiontxt': 2, 'wordstart': 2, 'no81151': 2, 'yours': 9, 'now4t': 2, 'number': 20, 'has': 26, '09058095201': 1, '1': 24, 'membership': 2, '£100000': 2, 'jackpot': 2, 'txt': 128, 'word': 17, '81010': 2, 'tc': 15, 'wwwdbuknet': 2, 'lccltd': 2, 'pobox': 11, '4403ldnw1a7rw18': 2, 'knock': 2, 'whose': 1, 'there': 9, '80082': 3, 'r': 14, 'weekly': 21, '£250': 12, 'voucher': 14, 'store': 5, 'of': 71, 'yr': 10, 'choice': 2, 'wwwtklscom': 1, 'age16': 2, 'stoptxtstop£150week': 1, 'chance': 21, '£150': 23, 'worth': 10, 'discount': 7, 'vouchers': 16, 'today': 13, 'yes': 10, '85023': 6, 'savamob': 8, 'member': 4, 'offers': 9, 't': 11, 'cs': 12, 'pobox84': 5, 'm263uz': 3, '£300': 6, 'subs': 3, '16': 40, 'private': 14, '2003': 10, 'account': 14, 'statement': 13, 'unredeemed': 12, 's': 9, 'i': 34, 'm': 8, 'points': 12, '08715203652': 1, 'identifier': 12, '42810': 1, 'expires': 13, '29100': 1, 'upto': 2, '12mths': 2, '12price': 1, 'linerental': 4, '500': 21, 'xnet': 1, 'mins100txtmth': 1, 'btooth': 1, '08001950382': 3, '2optoutd3wv': 1, 'wanna': 9, 'laugh': 1, 'chitchat': 1, 'logon': 1, 'txting': 6, 'chat': 36, 'send': 56, '8883': 1, 'cm': 1, 'po': 29, 'box': 29, '4217': 1, 'london': 2, 'w1a': 1, '6zf': 1, '118pmsg': 1, 'rcvd': 6, 'dorothykiefercom': 1, 'bank': 1, 'granite': 1, 'issues': 1, 'strongbuy': 1, 'explosive': 1, 'pick': 1, 'members': 2, 'up': 18, 'over': 9, '300': 4, 'nasdaq': 1, 'symbol': 1, 'cdgt': 1, 'that': 21, 'per': 40, 'winner': 13, 'as': 29, 'valued': 7, 'network': 21, 'hvae': 1, 'selected': 18, 'receive': 25, '£900': 6, 'reward': 9, 'collect': 18, '09061701444': 1, '24': 2, 'hours': 4, 'acl03530150pm': 2, 'todays': 16, 'voda': 5, 'numbers': 7, 'ending': 6, '5226': 1, '350': 2, 'award': 19, 'if': 23, 'hava': 1, 'match': 5, 'please': 41, '08712300220': 6, 'quoting': 5, '1131': 1, 'standard': 6, 'rates': 8, 'app': 4, 'freemsgfeelin': 1, 'kinda': 1, 'lnly': 1, 'hope': 4, 'like': 9, 'keep': 5, 'me': 22, 'company': 2, 'jst': 1, 'got': 6, 'cam': 2, 'moby': 4, 'my': 8, 'pictxt': 1, 'reply': 80, 'date': 9, '82242': 3, 'msg150p': 2, '2rcv': 2, 'hlp': 2, '08712317606': 2, 'stop': 92, '1st': 19, 'entry': 25, 'textpod': 2, 'win': 48, '40gb': 6, 'ipod': 11, 'cash': 51, 'every': 24, 'wk': 14, 'pod': 4, '84128': 2, 'wwwtextpodnet': 2, 'custcare': 7, '08712405020': 3, 'freemsg': 11, 'hey': 5, 'darling': 2, 'its': 11, 'weeks': 10, 'id': 2, 'some': 3, 'fun': 5, 'tb': 1, 'ok': 3, 'xxx': 10, 'std': 8, 'chgs': 1, 'rcv': 2, '250': 2, 'sms': 18, 'messagestext': 1, '84025': 1, 'nowuse': 1, 'web2mobile': 1, 'mates': 7, 'join': 12, 'txt250com': 1, '150pwk': 2, 'box139': 1, 'la32wu': 1, 'remove': 3, 'txtx': 1, 'want': 24, 'laid': 1, 'tonight': 1, 'real': 8, 'dogging': 4, 'locations': 2, 'sent': 6, 'direct': 6, 'mob': 17, 'uks': 7, 'largest': 1, 'moan': 1, '69888nyt': 1, 'ec2a': 1, '31pmsg150p': 1, 'do': 21, 'video': 23, 'handset': 5, '750': 14, 'time': 12, 'unlimited': 7, 'camcorder': 13, '08000930705': 14, 'del': 6, 'sat': 2, 'am': 11, 'chosen': 2, '£350': 7, 'pls': 9, '09066364311': 1, 'which': 7, 'banneduk': 1, '89555': 3, 'see': 17, 'cost': 18, 'textoperator': 3, 'g696ga': 2, '18': 36, 'action': 3, '80608': 2, 'wwwmovietriviatv': 2, '08712405022': 2, '1x150pwk': 5, 'tried': 11, 're': 7, 'response': 1, 'fone': 5, 'hit': 3, 'delivery': 20, '09061213237': 2, 'luxury': 2, 'canary': 2, 'islands': 2, 'holiday': 25, 'await': 15, 'collection': 21, 'sae': 16, '177': 2, 'm227xy': 2, 'place': 4, 'town': 2, 'meet': 5, 'exciting': 4, 'adult': 4, 'singles': 5, 'uk': 11, '86688': 17, '150pmsg': 14, '08712402578': 1, 'immediately': 4, 'waiting': 14, 'unclaimed': 1, '09066368327': 1, 'closingdate040902': 1, 'claimcode': 1, 'm39m51': 1, '£150pmmorefrommobile2bremovedmobypobox734ls27yf': 1, 'not': 14, 'heard': 2, 'u4': 2, 'while': 2, 'rude': 2, '01223585334': 1, 'cum': 3, 'wan': 1, '2c': 1, 'pics': 10, 'gettin': 1, 'shagged': 1, 'then': 7, 'pix': 2, '8552': 2, '2end': 1, 'sam': 2, 'year': 2, 'supply': 2, 'cds': 3, '£100': 16, 'music': 14, '87066': 10, 'wwwldewcomsubs161win150ppmx3': 1, 'tarot': 1, 'about': 6, 'love': 9, 'life': 3, '85555': 1, 'after': 4, 'msgs': 3, 'each': 6, '200': 3, 'shopping': 7, 'spree': 6, 'just': 59, '08717895698': 1, 'mobstorequiz10ppm': 1, 'congrats': 5, 'special': 8, 'cinema': 1, 'pass': 3, '09061209465': 1, 'suprman': 1, 'v': 2, 'matrix3': 1, 'starwars3': 1, 'bx420ip45we': 1, '150pm': 2, 'dont': 13, 'miss': 2, 'january': 1, 'male': 2, 'sale': 3, 'hot': 14, 'gay': 4, 'cheaper': 1, '08709222922': 1, 'national': 10, 'rate': 15, '15pmin': 1, 'cheap': 3, '78pmin': 1, 'peak': 1, '08712460324': 3, '10pmin': 6, 'dear': 14, 'holder': 5, 'pc': 5, 'go': 24, 'httpwwwetlpcoukreward': 1, '07808247860': 1, '08719899229': 1, '40411': 1, '061104': 1, '08714712388': 1, 'between': 9, '10am7pm': 3, '10p': 8, 'anytime': 11, '150': 11, 'five': 3, 'pounds': 15, '08002888812': 2, 'tomorrow': 9, 'xmas': 13, 'draws': 1, '09058094565': 2, 'im': 9, 'sue': 2, '20': 2, 'years': 6, 'old': 2, 'work': 2, 'lapdancer': 1, 'sex': 8, 'live': 24, 'bedroom': 1, 'g2': 1, '1da': 1, '150ppmsg': 1, 'u’ve': 1, 'bin': 1, '£50': 1, 'play': 12, 'instant': 1, '08715203028': 1, '9th': 1, 'player': 11, 'wins': 1, 'min': 14, '£50£500': 1, '08718727870': 2, 'be': 42, 'receiving': 2, 'triple': 1, 'echo': 1, 'shortly': 3, 'enjoy': 9, 'why': 7, 'havent': 1, 'replied': 1, 'randy': 2, 'sexy': 11, 'female': 1, 'local': 3, 'luv': 4, 'hear': 3, 'netcollex': 2, 'ltd': 11, '08700621170150p': 1, 'msg': 22, 'end': 9, 'balance': 1, 'question': 2, 'sang': 1, 'uptown': 1, 'girl': 5, '80s': 1, 'answer': 6, '83600': 4, 'good': 11, 'luck': 5, 'sim': 3, '08718738001': 1, '49557': 1, '261104': 1, 'half': 10, 'price': 14, 'rental': 10, 'what': 14, 'takes': 4, 'part': 9, 'wrc': 2, 'rally': 4, 'oz': 2, 'lucozade': 2, 'energy': 2, 'le': 2, '61200': 2, '25p': 7, 'packs': 2, 'lucozadecoukwrc': 2, 'itcould': 2, '09058094454': 1, '3030': 5, 'sipix': 5, 'digital': 7, '09061221066': 4, 'fromm': 4, 'within': 5, '28': 4, 'days': 10, 'santa': 2, 'calling': 3, 'would': 3, 'little': 2, 'ones': 1, 'eve': 4, '09058094583': 1, 'book': 2, 'even': 6, 'flirt': 4, 'name': 11, 'age': 8, 'eg': 9, '25': 3, 'recdthirtyeight': 1, 'pence': 3, '2p': 2, 'germany': 3, '08448350055': 1, 'bt': 4, 'check': 3, 'planettalkinstantcom': 1, 'ts': 3, 'opt': 12, 'hottest': 1, 'straight': 2, 'wet': 1, 'wanting': 1, 'xx': 4, 'costs': 3, 'spanish': 2, '09050000332': 1, 'rstm': 2, 'sw7': 2, '3ss': 2, 'explicit': 2, '30': 2, 'secs': 2, 'ring': 4, '02073162414': 2, '20pmin': 2, '3g': 2, 'videophones': 2, '09063458130': 2, 'videochat': 2, 'wid': 2, 'java': 2, 'games': 9, 'dload': 2, 'polyph': 2, 'noline': 2, 'rentl': 2, 'bx420': 1, 'ip4': 2, '5we': 2, '44': 1, '7732584351': 1, '3510i': 5, 'colour': 16, 'deliveredtomorrow': 3, 'minutes': 5, '100': 12, 'rtking': 1, 'pro': 1, 'club': 17, 'need': 9, 'inforingtonekingcouk': 1, '08701237397': 1, 'must': 5, 'credits': 9, 'redeemable': 1, 'wwwringtonekingcouk': 1, 'alfie': 3, 'moons': 3, 'children': 3, 'song': 3, 'tell': 11, 'm8s': 3, 'charity': 9, '8007': 15, 'nokias': 3, 'poly': 12, 'polys': 8, 'zed': 5, '08701417012': 3, 'profit': 3, 'matthew': 1, '09063440451': 1, 'complimentary': 9, '4lux': 1, 'tenerife': 5, 'ppm150': 1, 'box334': 1, 'sk38xh': 5, 'mobiles': 11, '89545': 3, 'todayfrom': 2, '£1': 3, 'www4tcbiz': 3, '2optout': 4, '08718726270150gbpmtmsg18': 3, '09066350750': 2, 'ibiza': 4, '10000': 2, '434': 3, 'sk3': 3, '8wp': 3, 'ppm': 3, 'spook': 5, 'halloween': 3, 'logo': 4, 'pic': 7, 'plus': 6, 'eerie': 4, 'card': 3, '08701417012150p': 2, 'logopic': 3, 'httptms': 2, 'widelivecomindex': 2, 'wmlid820554ad0a1705572711firsttrue¡c': 1, 'ringtone¡': 1, 'top': 14, 'sub': 6, 'ringtoneget': 2, 'freesend': 2, 'subpoly': 3, '816183': 2, 'weekstop': 2, 'sms08718727870': 2, 'secret': 10, 'admirer': 10, 'looking': 8, 'make': 13, 'ufind': 8, 'they': 16, 'rreveal': 8, 'thinks': 10, 'so': 24, 'specialcall': 8, '09058094594': 1, 'well': 6, 'done': 4, 'official': 4, 'yer': 4, '84199': 4, 'eng': 4, 'box39822': 4, 'w111wx': 4, 'reminder': 1, 'downloaded': 1, 'content': 12, 'already': 1, 'paid': 1, 'goto': 6, 'httpdoit': 1, 'mymoby': 1, 'tv': 4, 'fantasies': 5, '08707509020': 6, '20p': 7, 'ntt': 9, '1327': 7, 'croydon': 7, 'cr9': 7, '5wb': 7, '0870k': 2, 'information': 6, 'user': 6, '0796xxxxxx': 1, 'lucky': 6, 'day2': 1, 'log': 5, 'onto': 5, 'httpwwwurawinnercom': 4, 'theres': 2, 'fantastic': 5, 'prizeawaiting': 1, 'great': 10, 'best': 7, 'phones': 10, '2stoptxt': 2, '4mths': 3, 'had': 15, '11mths': 8, 'mobilesdirect': 3, '08000938767': 3, 'update': 17, 'or2stoptxt': 3, 'funk': 2, 'tones2u': 2, 'wwwringtonescouk': 3, 'original': 3, 'n': 8, '3gbp': 3, 'operator': 11, 'gr8': 5, 'str8': 1, 'classic': 1, 'nokia150p': 1, 'poly200p': 1, '0776xxxxxxx': 2, 'uve': 6, 'invited': 5, 'xchat': 5, 'attempt': 19, '150pmsgrcvdhgsuite3422landsroww1j6hl': 4, 'ldn': 9, '18yrs': 3, 'b': 10, 'floppy': 1, 'snappy': 1, 'happy': 1, 'photo': 2, 'upload': 2, '08718730666': 2, 'services': 13, 'inclusive': 5, 'wwwcomuknet': 5, 'login': 5, 'unsubscribe': 16, 'extra': 7, 'charge': 10, 'help08700469649': 1, 'box420': 1, 'reveal': 4, '09065174042': 2, 'recd': 2, 'cust': 3, 'care': 5, '07821230901': 2, '£800': 6, '09050001808': 2, 'm95': 2, 'valid12hrs': 3, 'valentines': 3, 'weekend': 5, 'paris': 2, 'inc': 5, 'flight': 1, 'hotel': 2, '£200': 8, '69101': 1, 'wwwrtfsphostingcom': 1, '2000': 3, 'call09050000327': 2, 'sunshine': 8, 'quiz': 11, 'super': 3, 'sony': 8, 'dvd': 7, 'recorder': 1, 'canname': 1, 'capital': 1, 'australia': 1, 'mquiz': 1, '82277': 5, '08719899230': 1, '41685': 1, '071104': 1, 'coolmob': 1, 'ready': 3, 'download': 3, 'crazy': 3, 'frogaxel': 1, 'f': 2, 'akonlonely': 1, 'black': 1, 'eyeddont': 1, 'p': 2, '08717898035': 3, 'unsub': 5, 'x': 9, 'gr8prizes': 1, 'wkly': 13, 'comp': 8, '8800': 1, 'psp': 1, 'wktxt': 1, '80878': 3, 'httpwwwgr8prizescom': 1, '08715705022': 4, 'rgent': 1, '2nd': 13, 'uu': 3, '£1250': 2, '09071512433': 2, '050703': 2, 'tcsbcm4235wc1n3xx': 2, 'callcost': 2, 'mobilesvary': 2, 'max£7': 3, '50': 4, 'burger': 2, 'king': 2, 'footy': 1, 'stadium': 1, 'before': 4, 'large': 1, 'cocacola': 1, 'walk': 1, 'representative': 9, '0808': 4, '145': 4, '4742': 4, '9am11pm': 4, 'block': 1, 'breaker': 1, 'comes': 3, 'deluxe': 1, 'format': 1, 'features': 1, 'graphics': 1, 'tmobile': 2, 'buy': 3, '£5': 1, 'replying': 5, 'bbdeluxe': 1, 'challenge': 1, '08714712394': 1, 'bears': 1, 'nick': 1, 'tom': 1, 'pete': 1, 'dick': 1, 'fact': 1, 'types': 1, 'brand': 4, 'agent': 1, 'loads': 1, 'goodies': 1, 'mat': 1, '87021': 2, 'costa': 4, 'sol': 4, '09050090044': 4, 'toclaim': 4, 'pobox334': 4, 'stockport': 4, 'cost£150pm': 4, 'max10mins': 4, 'specially': 6, '3000': 1, '08712402050': 2, 'lines': 2, 'close': 4, '10ppm': 2, 'ag': 2, 'promo': 2, 'currently': 10, 'awaiting': 5, '08718723815': 1, '4u': 3, 'cd': 8, '£125': 1, 'freeentry': 1, 'xt': 1, 'tncs': 6, 'wwwldewcom1win150ppmx3age16': 4, 'garden': 2, 'summer': 8, 'selection': 4, 'bulbs': 2, 'seeds': 2, '£3350': 2, 'scotsman': 2, 'saturday': 7, 'go2': 2, 'notxtcouk': 2, 'during': 1, 'day': 12, '10am': 1, 'till': 2, '8pm': 1, 'thurs': 2, 'fri': 2, 'night': 6, 'theyre': 1, 'selling': 1, 'fast': 1, 'polyphonic': 5, '87131': 2, 'sn': 1, 'pobox202': 1, 'nr31': 1, '7zs': 1, 'subscription': 3, '450pw': 1, '02070836089': 1, '09061743811': 1, 'abta': 3, '326': 2, 'cw25wx': 3, 'money': 4, 'wining': 1, '946': 1, 'wot': 1, 'thanks': 8, 'easy': 8, '08718726978': 1, 'minute': 5, 'btnationalrate': 5, 'recently': 2, 'but': 6, 'were': 4, 'unable': 2, '07090298926': 1, 'reschedule': 2, 'ref9307622': 1, 'thank': 1, 'notified': 1, 'future': 2, 'marketing': 1, '84122': 1, '08450542832': 1, '80182': 3, '08452810073': 3, 'game': 6, 'rayman': 1, 'golf': 1, 'o2': 4, 'arcade': 6, 'settings': 3, 'post': 4, 'save': 2, 'activ8': 1, 'press': 3, '0': 3, 'key': 1, 'termsapply': 1, 'into': 4, 'wwwtextcompcom': 1, '83039': 1, '62735£450': 1, 'break': 4, 'accommodationvouchers': 1, 'terms': 6, 'conditions': 3, 'mustprovide': 1, '15541': 1, '5p': 1, '0870': 5, 'nearly': 1, 'banned': 1, 'sppok': 1, 'tbspersolvo': 1, 'chasing': 1, 'us': 8, 'since': 2, 'for£38': 1, 'definitely': 1, 'paying': 1, 'ignore': 1, 'them': 2, 'kath': 1, 'manchester': 1, 'monthly': 1, 'password': 2, 'wap': 9, 'mobsicom': 1, '391784': 1, 'use': 6, 'simpsons': 1, 'movie': 2, 'released': 1, 'july': 2, '2007': 2, 'band': 1, 'died': 1, 'start': 3, 'film': 2, 'agreen': 1, 'bblue': 1, 'cred': 1, 'youve': 2, 'youre': 2, 'august': 1, '09066660100': 1, '2309': 1, 'datingi': 1, 'two': 1, 'these': 5, 'started': 1, 'talk': 3, 'sport': 3, 'radio': 1, 'connection': 1, 'think': 3, 'coincidence': 1, 'amazing': 3, 'picsfree1': 2, 'vid': 1, 'enough': 1, '2day': 3, 'keyword': 1, '09064017305': 1, 'pobox75ldns7': 1, '09061221061': 1, '28days': 1, 'box177': 1, 'm221bp': 1, '2yr': 1, 'warranty': 1, 'p£399': 1, '020903': 2, '08718729755': 1, 'box95qu': 3, '449050000301': 1, '09050000301': 1, 'bored': 4, 'speed': 1, 'speedchat': 2, '80155': 1, 'em': 1, 'swap': 1, 'chatter': 1, 'chat80155': 1, 'pobox36504w45wq': 4, 'rcd': 1, 'lions': 1, 'lionm': 1, 'mono': 2, 'lionp': 1, 'registered': 4, 'subscriber': 4, 'entered': 6, 'receipt': 3, 'correct': 4, 'ans': 5, 'when': 10, 'olympics': 1, '80062': 4, 'textbuddy': 1, 'horny': 5, 'guys': 2, 'area': 6, 'search': 1, 'postcode': 1, 'gaytextbuddycom': 1, '89693': 1, '08715500022': 1, 'rpl': 1, 'cnl': 1, 'news': 8, 'freefone': 3, '08006344447': 2, 'speak': 7, 'meal': 1, 'link': 3, 'dining': 1, 'experiencehttpwwwvouch4mecometlpdiningasp': 1, '07973788240': 1, '08715203649': 1, '40533': 2, '311004': 2, 'partner': 4, 'trip': 3, 'lifetime': 2, 'custcare08718720201': 2, 'wan2': 2, 'meetgreet': 2, 'westlife': 2, 'm8': 2, 'tour': 3, '1unbreakable': 2, '2untamed': 2, '3unkempt': 2, '12': 8, '83049': 2, '50p': 3, 'freemessage': 1, 'jamsterget': 1, 'frog': 1, 'sound': 1, 'mad1': 1, 'mad2': 1, '88888': 2, '6': 6, 'sounds': 1, 'gbpweek': 1, '16only': 2, 'cashbalance': 7, 'maximize': 7, 'cashin': 7, 'cc': 6, '08718720201': 5, 'hgsuite3422lands': 7, 'roww1j6hl': 4, 'forget': 2, 'many': 2, 'requests': 1, '1stchoicecouk': 1, 'wish': 2, '08707808226': 1, '32000': 1, 'maybe': 2, 'legitimat': 1, 'efreefone': 1, 'wat': 1, 'competition': 2, '80086': 2, 'wwwtxttowincouk': 2, '83370': 1, 'wwwmusictrivianet': 1, 'topped': 1, 'httpwwwbubbletextcom': 1, 'renewal': 1, 'pin': 1, 'tgxxrz': 1, 'fancies': 3, '09058097218': 1, 'ls15hb': 2, 'outbid': 1, 'simonwatson5120': 1, 'shinco': 1, 'plyr': 1, 'bid': 7, 'again': 2, 'visit': 7, 'acsmsrewards': 1, 'notifications': 1, 'ac': 3, 'sun0819': 1, 'posts': 1, 'helloyou': 1, 'seem': 1, 'cool': 1, 'wanted': 1, 'say': 1, '62468': 6, '08718738034': 1, 'months': 3, 'optin': 1, 'whats': 1, 'no1': 5, 'bbc': 1, 'charts': 1, '7634': 1, '7684': 1, '80488': 2, 'messages': 7, 'until': 4, '31': 1, 'december': 5, '2005': 3, 'how': 7, 'touch': 1, 'folks': 1, 'community': 2, '150psms': 1, 'changed': 1, 'club4mobilescom': 1, 'choose': 8, '87070': 1, 'club4': 1, 'box1146': 1, 'mk45': 2, '2wt': 2, 'mp3': 4, '83355': 3, 'ibhltd': 3, 'ldnw15h': 3, '150pmtmsgrcvd18': 3, 'claire': 2, 'here': 5, 'havin': 1, 'borin': 1, 'alone': 3, '2nite': 2, '09099725823': 1, 'calls£1minmoremobsemspobox45po139wa': 2, 'claims': 2, 'dept': 1, '13404': 1, '08717507382': 1, 'shop': 5, 'wwwtxt2shopcom': 2, '1225': 1, '£50award': 1, '3100': 2, '07099833605': 1, 'ref9280114': 1, 'another': 1, 'wwwtcbiz': 1, '150pmin': 3, 'polo': 1, 'suite': 1, '373': 1, 'w1j': 1, '6hl': 1, 'busy': 1, '85233': 1, 'freeringtonereply': 1, 'q': 4, 'country': 4, 'algarve': 2, 'ansr': 4, 'sptyrone': 4, '3qxj9': 4, '08702840625comuk': 3, '220cm2': 3, '9ae': 4, 'realize': 1, '40': 1, 'thousands': 1, 'ladies': 2, 'running': 1, 'around': 2, 'tattoos': 1, '28th': 1, 'feb': 1, '06': 1, 'removal': 2, '87239': 4, '08708034412': 2, 'resent': 1, 'previous': 1, 'failed': 1, 'due': 1, 'error': 1, 'queries': 1, 'customersqueriesnetvisionukcom': 1, 'mths': 2, 'cross': 2, 'ntwk': 2, 'call2optout674': 1, 'either': 9, 'yrs': 3, 'virgin': 1, 'records': 4, 'mystery': 1, '09061104283': 1, '£150pm': 1, 'approx': 1, '3mins': 3, 'asked': 5, 'shy': 1, '09058091870': 1, 'revealed': 5, 'm26': 3, '3uz': 3, 'hard': 3, '121': 3, '60pmin': 2, 'connect': 2, '09094646899': 2, 'biggest': 3, 'vu': 2, 'bcm1896wc1n3xx': 2, 'review': 2, 'ngage': 1, 'deck': 1, 'wwwcnupdatescomnewsletter': 1, 'alerts': 1, 'ripped': 1, 'off': 3, 'wwwclubmobycom': 1, '08717509990': 1, 'polytruepixringtonesgames': 1, 'six': 3, 'downloads': 3, 'freemsgfav': 1, 'tonesreply': 1, '80488biz': 1, '07xxxxxxxxx': 2, '020603': 2, 'reach': 3, '09066362231': 3, 'asap': 4, 'box97n7qp': 1, 'phony': 1, 'xxxx': 1, '150pmeg': 1, '£400': 4, 'computer': 4, 'randomly': 2, 'picked': 3, 'loyal': 2, 'customers': 2, '09066380611': 2, 'dave': 1, 'notice': 2, '5000': 3, '09061743806': 1, 'box326': 1, 'mila': 1, 'age23': 1, 'blonde': 1, 'look': 2, 'mtalk': 1, '6986618': 1, '30pptxt': 1, '5free': 1, 'increments': 1, 'help08718728876': 1, 'mini': 1, 'snap': 1, 'quizclub': 1, '80122300pwk': 1, 'sprwm': 1, 'ph08704050406': 1, 'knickers': 1, 'beg': 1, 'did': 2, '01223585236': 1, 'nikiyu4net': 1, 'someonone': 1, 'via': 3, 'could': 7, '09064015307': 1, 'box334sk38ch': 1, 'forwarded': 2, '448712404000please': 1, '08712404000': 1, '22': 2, '146tf150p': 1, '09061790126': 1, 'reference': 3, 'x49': 1, 'charged': 5, '450': 2, 'should': 4, 'arrive': 3, '09065989182': 2, 'colourredtextcolourtxtstar': 1, 'hack': 1, 'backdoor': 1, 'rooms': 1, 'fraction': 1, 'neo69': 1, '09050280520': 1, 'subscribe': 1, 'dps': 1, 'bcm': 1, '8027': 1, 'wc1n3xx': 4, 'pub': 2, 'quizwin': 2, 'high': 2, 'street': 2, 'duchess': 2, 'cornwall': 2, 'her': 10, 'first': 4, '82277unsub': 2, '008704050406': 2, 'sp': 3, 'arrow': 1, '08712103738': 1, 'bangbabes': 1, 'way': 1, 'bangb': 1, 'internetservice': 1, 'menu': 1, '0906346330': 1, '£10000': 4, '47': 1, 'po19': 1, '2ez': 1, 'auction': 14, '7250': 2, '86021': 5, '09061743810': 1, '89105': 1, 'films': 2, 'most': 2, 'sparkling': 1, 'breaks': 1, '45': 1, 'person': 1, '0121': 1, '2025050': 1, 'wwwshortbreaksorguk': 1, '123': 1, '£1450': 1, '09050002311': 1, 'b4280703': 1, 'tcsstop': 1, '08718727868': 1, 'voicemail': 3, '08719181513': 2, 'brings': 1, 'ringtones': 4, 'chart': 2, 'heroes': 1, 'tips': 1, '08712402902': 1, 'lastest': 1, 'stereophonics': 1, 'marley': 1, 'dizzee': 1, 'racal': 1, 'libertines': 1, 'strokes': 1, 'nookii': 1, 'themob': 2, 'bookmark': 1, '82468': 1, 'boys': 2, 'porn': 3, '69855': 1, '24hrs': 1, 'stopbcm': 1, 'sf': 1, 'fancy': 9, 'fastest': 2, 'growing': 2, '83021': 1, 'indicate': 2, 'entitled': 8, 'compensation': 1, 'accident': 2, 'call2optout4qf2': 1, '11414': 3, 'tcrw1': 3, 'babe': 7, 'baby': 2, 'nasty': 1, 'thing': 1, 'filthyguys': 1, 'bitch': 1, 'slo': 1, 'slo4msgs': 1, 'city': 3, '88039skilgmetscs087147403231winawkage16£150perwksub': 1, '6months': 2, 'available': 3, 'call2optoutn9dx': 2, '11': 4, 'co': 5, '08002986030': 2, 'fa': 4, 'cup': 4, 'tkts': 3, '21st': 2, '87121': 3, 'questionstd': 2, 'ratetcs': 2, '08452810075over18s': 2, 'jamster': 2, 'wallpaper': 1, 'heart': 3, '08701213186': 1, '09050000928': 1, 'txtauction': 3, 'newest': 1, '\\x93harry': 1, 'potter': 1, 'phoenix': 1, '5': 6, 'harry': 1, 'questions': 3, 'among': 1, 'readers': 1, '125gift': 3, 'expired': 1, 'resub': 1, 'monoc': 1, 'monos': 1, 'polyc': 1, 'stream': 1, '0871212025016': 1, 'gsex': 1, '2667': 1, 'wc1n': 1, '3xx': 1, 'phone750': 1, '08000776320': 2, 'horniest': 1, 'sign': 1, '69888': 1, 'nytec2a3lpmsg150p': 1, '6230': 1, '83383': 2, 'pobox11414tcrw1': 1, 'sexiest': 1, 'dirtiest': 1, 'girls': 2, '89070': 2, 'cancel': 3, 'install': 1, 'browse': 1, 'artists': 1, 'updatenow': 2, '400minscall': 1, 'call2optoutj5q': 1, 'because': 2, '09111032124': 1, 'pobox12n146tf150p': 1, '09094100151': 1, 'calls': 9, 'cast': 1, 'vary': 5, 'provided': 3, 'aom': 2, 'gbp5month': 1, 'box61m60': 1, '1er': 1, 'ages': 1, '3650': 2, '09066382422': 2, 'ave': 2, '300603': 2, 'bcm4284': 2, 'panasonic': 1, 'bluetoothhdset': 1, 'doublemins': 1, 'doubletxt': 1, 'contract': 3, 'goal': 2, 'arsenal': 3, 'henry': 2, '7': 2, 'liverpool': 3, 'scores': 1, 'simple': 1, 'shot': 1, 'yards': 1, 'bergkamp': 1, 'margin': 1, '78': 1, '£1000call': 1, '09071512432': 1, '300603tcsbcm4235wc1n3xxcallcost150ppmmobilesvary': 1, '09061701939': 1, 's89': 1, '07732584351': 1, 'rodger': 1, 'burns': 1, '09061790121': 2, '08712101358': 1, 'divorce': 1, 'barbie': 1, 'kens': 1, 'stuff': 1, 'loans': 1, 'bad': 1, 'credit': 6, 'noworriesloanscom': 1, '08717111821': 1, 'housewives': 2, '08717507711': 2, 'btnational': 2, 'landlines': 2, 've': 2, 'vpod': 1, '81303': 3, 'pt2': 2, '87575': 4, 'txtin': 3, 'friends': 4, '150ptone': 3, 'hl': 5, '4info': 3, '087018728737': 1, 'toppoly': 1, 'tune': 1, '81618': 1, '£3': 3, 'pole': 1, '10803': 1, '08714719523': 1, '£1500': 2, '27603': 1, '08714714011': 1, 'voucherstext': 1, 'nowsavamobmember': 1, 'sports': 2, 'fans': 1, 'str': 1, 'wwwgetzedcouk': 6, '0870141701216': 1, 'norm': 1, '4txt120p': 1, '08714712412': 1, 'class': 2, 'airport': 1, 'lounge': 1, 'passes': 1, 'using': 2, '08704439680': 1, 'booking': 1, 'quote': 1, '0anetworks': 1, 'allow': 1, 'companies': 1, 'bill': 1, 'responsible': 1, 'their': 1, 'suppliers': 1, 'guarantee': 1, 'sell': 1, 'g': 5, 'surprise': 3, '09066358361': 1, 'y87': 1, 'drop': 1, '10k': 2, '5k': 1, 'travel': 1, '09064011000': 1, 'cr01327bt': 1, 'fixedline': 1, 'warner': 2, 'village': 2, '83118': 1, 'colin': 1, 'farrell': 1, 'swat': 1, 'wkend': 1, 'med': 3, 'popcornjust': 1, 'msgticketkioskvalid': 1, '4712': 1, 'kiosk': 1, 'mre': 1, 'receivea': 2, '09061701461': 2, 'kl341': 2, '09061701851': 1, 'k61': 1, '12hours': 1, '1000s': 3, 'flirting': 1, 'bloke': 1, 'zoe': 1, 'chatting': 2, 'restrictions': 1, 'buddys': 1, 'sir': 1, '7250i': 3, 'roww1jhl': 3, 'offerthe': 1, 'nokia6650': 1, '81151': 1, '4tctxt': 1, '150pmtmsg': 1, 'chances': 2, '20000': 2, 'csh11': 2, '150pday': 2, '6days': 2, 'tsandcs': 2, '0871277810810': 2, 'guess': 7, 'somebody': 2, 'secretly': 2, '09065394514': 1, 'datebox1282essexcm61xn': 2, 'tonights': 2, '09050005321': 1, 'xxxmobilemovieclub': 1, 'httpwap': 1, 'xxxmobilemovieclubcomnqjkgighjjgcbl': 1, 'cashto': 2, '08000407165': 2, 'getstop': 2, '88222': 2, 'php': 2, 'rg21': 1, '4jx': 1, 'thesmszonecom': 1, 'lets': 3, 'anonymous': 1, 'masked': 1, 'messagesim': 1, 'sending': 2, 'theredo': 1, 'potential': 1, 'abuse': 1, 'xclusiveclubsaisai': 1, '2morow': 1, '285': 1, 'soiree': 1, 'speciale': 1, 'zouk': 1, 'nichols': 1, 'parisfree': 1, 'roses': 1, '0794674629107880867867': 1, '69669': 2, 'normal': 1, 'gprs': 1, 'charges': 2, 'goldviking': 1, '29m': 1, 'inviting': 5, 'his': 1, 'yes762': 1, 'no762': 1, 'him': 2, 'wwwsmsacugoldviking': 1, 'frnd': 5, 'willing': 1, 'strt': 1, 'ltdhelpdesk': 1, '02085076972': 1, 'hello': 2, 'posh': 1, 'birds': 1, 'chaps': 1, 'trial': 1, 'prods': 1, 'champneys': 1, 'put': 1, 'down': 1, 'address': 4, 'dob': 1, 'ta': 1, 'followed': 2, 'gender': 2, 'wither': 1, 'eg23f': 1, 'men': 2, 'eg23g': 1, 'rock': 1, 'chik': 1, '100s': 1, 'filthy': 1, 'rply': 3, 'filth': 1, 'saristar': 1, 'e14': 1, '9yt': 1, '08701752560': 1, '450p': 1, 'stop2': 1, '36504': 4, 'w45wq': 4, 'norm150ptone': 4, '09066612661': 2, 'complementary': 1, 'wa14': 1, '2px': 1, 'sender': 1, 'hol': 1, 'missed': 1, 'alert': 3, 'called': 1, 'left': 1, '07008009200': 1, 'dates': 2, 'lots': 2, 'people': 2, 'wwwflirtpartyus': 1, 'replys150': 1, 'wed': 1, 'summers': 1, 'finally': 1, 'matched': 1, 'help08714742804': 1, 'select': 1, 'added': 1, 'benefits': 1, 'trained': 1, 'advisors': 1, 'dialling': 1, '402': 1, 'fink': 1, 'met': 1, 'yet': 2, 'leave': 2, 'wiv': 2, '09099726553': 1, 'promised': 1, 'carlie': 1, 'calls£1minmobsmore': 1, 'lkpobox177hp51fl': 1, 'where': 1, '2006': 1, 'fifa': 1, 'world': 1, 'held': 1, 'buffy': 1, 'satisfy': 2, 'home': 2, 'feeling': 1, 'qlynnbv': 1, 'help08700621170150p': 1, 'lover': 2, 'names': 2, 'joined': 2, 'name1': 2, 'name2': 2, 'mobno': 2, 'adam': 2, '07123456789': 2, '87077': 5, 'yahoo': 2, 'txtno': 2, 'ads': 2, 'becausethey': 1, '09058098002': 1, 'pobox1': 1, 'w14rg': 1, 'other': 2, 'hgsuite3422landsroww1j6hl': 2, 'natalja': 2, '25f': 2, 'yes440': 2, 'no440': 2, 'wwwsmsacunat27081980': 2, '08452810071': 1, 'collected': 1, 'simply': 1, 'mix': 2, '85069': 1, 'verify': 2, 'usher': 1, 'britney': 1, 'fml': 1, '5249': 1, 'mk17': 1, '92h': 1, '450ppw': 1, 'yesterday': 2, '09061702893': 1, 'begin': 1, '24m': 1, 'wont': 3, 'believe': 2, 'true': 2, 'incredible': 2, 'learn': 2, 'truly': 3, 'things': 2, 'blow': 2, 'mind': 2, 'o2fwd': 2, '18ptxt': 2, '08715203694': 1, '08718726971': 1, 'credited': 1, 'activate': 5, 'www80488biz': 1, 'unsubscribed': 1, 'tons': 1, 'babes': 1, 'hunks': 1, 'httpgotbabescouk': 1, 'subscriptions': 1, 'very': 2, 'call2optoutlf56': 2, '09065171142stopsms08': 1, '08715205273': 1, 'tonexs': 1, 'renewed': 1, '£450': 1, '10': 3, 'month': 2, 'wwwclubzedcouk': 1, 'billing': 1, 'delivered': 4, 'messagethanks': 1, '150pmsgrcvd': 1, 'skip': 1, 'customercare': 1, '08718726270': 2, '600': 1, '400': 1, 'deltomorrow': 1, '08707500020': 1, '169': 2, '6031': 2, '10am9pm': 2, 'b4u': 1, 'wc': 1, '2703': 1, 'marsms': 1, 'wwwb4utelecom': 1, '08717168528': 1, 'ever': 3, 'driving': 2, 'anyone': 1, 'going': 3, 'slower': 1, 'than': 2, 'idiot': 1, 'everyone': 2, 'faster': 1, 'maniac': 1, 'set': 1, '09096102316': 1, '2moro': 1, 'jane': 1, '2nights': 1, 'wildest': 1, 'sorry': 2, 'sufficient': 1, '20m12aq': 1, '“': 1, 'elvis': 1, 'presleys': 1, 'birthday': 1, 'big': 1, 'brother': 1, '09064018838': 1, 'cro1327': 1, '9061100010': 1, 'wire3net': 1, '1st4terms': 1, 'mobcudb': 1, 'sptv': 2, 'jersey': 1, 'devils': 1, 'detroit': 1, 'red': 1, 'wings': 1, 'ice': 1, 'hockey': 1, 'incorrect': 1, '0871277810910pmin': 1, 'reality': 2, 'fantasy': 5, 'mr': 2, 'foley': 2, 'prizes': 2, 'soon': 2, 'eye': 2, 'wwwwin82050couk': 2, 'played': 2, 'mid': 2, 'videosound': 1, 'gold': 1, 'videosounds2': 1, 'logosmusicnews': 1, 'jamstercouk': 1, '09701213186': 1, '449month': 1, 'bundle': 1, 'deals': 1, 'also': 1, 'avble': 1, 'call2optoutj': 1, 'mf': 1, 'enjoyed': 2, '61610': 2, 'help08712400602450p': 2, 'tones2youcouk': 2, 'received': 1, 'smart': 1, '85222': 1, 'nowtcs': 1, 'winnersclub': 1, '84': 1, 'gbp150week': 1, 'unique': 1, '1172': 1, 'cant': 5, '09058091854': 2, 'box385': 2, 'm6': 2, '6wu': 2, 'quality': 1, 'iscoming': 2, 'tnc': 2, 'wwwldewcom1win150ppmx3age16subscription': 1, 't91': 1, 'gbp': 1, '09057039994': 1, 'starting': 1, 'wwwidewcom': 1, 'skillgame': 1, '1winaweek': 1, '150ppermesssubscription': 1, '09065394973': 1, 'textand': 1, '08002988890': 1, 'euro2004': 4, 'kickoff': 2, 'kept': 3, 'informed': 2, 'results': 3, 'daily': 3, '83222': 3, 'wwwldewcom': 1, 'win150ppmx3age16': 1, 'wow': 2, 'chatim': 1, 'w8in': 1, '4utxt': 1, '07753741225': 1, '08715203677': 1, '42478': 1, '241004': 1, '0870737910216yrs': 1, '£150wk': 1, 'fixed': 2, 'access': 6, '0844': 2, '861': 2, '85': 4, 'prepayment': 2, 'shag': 1, 'dointerested': 1, 'sextextukcom': 1, 'xxuk': 1, 'suzy': 1, '69876': 1, 'website': 1, 'free2day': 1, 'st': 1, 'georges': 1, 'jordantxt': 1, '89080': 1, 'saucy': 2, 'celeb4': 1, 'pocketbabecouk': 2, '0870241182716': 1, '£3wk': 3, 'gotto': 1, '08702840625': 1, 'comuk220cm2': 1, '07801543489': 1, 'latests': 1, 'wordcollect': 1, 'no83355': 1, 'tcllc': 1, 'nyusa': 1, '150pmt': 1, 'msgrcvd18': 1, '09058099801': 1, 'b4190604': 1, '7876150ppm': 1, 'networks': 1, 'pdatenow': 1, 'call2optoutyhl': 1, '09058094599': 2, 'vodafone': 2, '4882': 1, 'matches': 3, '09064019014': 1, '09066649731from': 1, 'hardcore': 2, '69200': 1, 'hrs': 1, 'chrgd50p': 1, '2exit': 1, '1month': 1, 'smartcall': 1, '68866': 1, 'subscriptn3gbpwk': 1, '08448714184': 1, 'stoptxt': 1, 'landlineonly': 1, '09065171142stopsms08718727870150ppm': 1, '74355': 1, 'promotion': 1, '8714714': 1, '88039': 2, 'skilgme': 2, 'tscs087147403231winawkage16': 2, '£150perwksub': 2, 'smsservices': 1, 'yourinclusive': 1, 'conacted': 1, 'youto': 1, '09111030116': 1, 'pobox12n146tf15': 1, '88066': 3, 'lost': 2, '3pound': 1, 'ou': 1, 'cock': 1, 'hubbys': 1, 'man': 1, 'wife': 1, '89938': 1, 'strings': 1, 'rec': 1, '£150ea': 1, 'otbox': 1, '731': 1, 'la1': 1, '7ws': 1, '8077': 2, 'sexychat': 1, '100603': 1, '09066368753': 1, '97n7qp': 1, 'gsoh': 1, 'spam': 1, 'ladiesu': 1, 'gigolo': 1, 'mens': 1, 'oncall': 1, 'mjzgroup': 1, '087143423992stop': 1, 'msg£150rcvd': 1, 'freeringtone': 1, 'real1': 1, 'pushbutton': 1, 'dontcha': 1, 'babygoodbye': 1, 'golddigger': 1, 'webeburnin': 1, '0825': 2, 'star': 1, 'needs': 1, '09066364349': 1, 'lose': 1, 'box434sk38wp150ppm18': 1, 'subscribers': 1, 'gb': 1, 'door': 1, '88600': 3, 'exp': 1, '30apr': 1, 'wwwtelediscountcouk': 1, 'single': 1, 'nowsend': 1, '62220cncl': 1, 'stopcs': 1, '08717890890£150': 1, 'prizeto': 1, 'mandy': 1, 'sullivan': 1, 'hotmix': 1, 'fmyou': 1, '£500000': 1, 'easter': 1, 'drawplease': 1, 'telephone': 1, '09041940223': 1, '290305': 1, 'transferred': 1, 'else': 1, 'never': 1, 'much': 1, 'came': 1, 'made': 1, 'gbpsms': 1, 'eurodisinc': 1, 'trav': 1, 'acoentry41': 1, 'dis': 1, '186£150morefrmmob': 1, 'shracomorsglsuplt10': 1, 'ls1': 1, '3aj': 1, '08719181503': 1, 'bootydelious': 1, '32f': 1, 'yes434': 1, 'no434': 1, 'wwwsmsacubootydelious': 1, 'cashbincouk': 1, 'wwwcashbincouk': 1, '08708800282': 1, 'space': 2, 'invaders': 2, 'orig': 2, 'console': 2, 'o2coukgames': 2, 'purchase': 2, '449071512431': 1, 'www07781482378com': 2, 'oranges': 1, 'upd8': 1, '2stoptx': 1, '09061743386': 1, '09058097189': 1, 'professional': 1, 'does': 1, 'tiger': 1, 'woods': 1, 'secured': 1, 'unsecured': 1, '195': 1, '6669': 1, '08715203656': 1, '42049': 1, '261004': 1, 'annoncement': 1, '07046744435': 1, 'arrange': 1, 'cameravideo': 1, 'same': 1, 'minstexts': 1, '09050000460': 1, 'j89': 1, 'box245c2150pm': 1, 'call2optoutf4q': 1, '08712402972': 1, '08002986906': 4, 'kick': 2, 'season': 1, '2wks': 1, 'goals': 1, 'villa': 1, 'videos': 1, 'smsshsexnetun': 1, 'fgkslpopw': 1, 'fgkslpo': 1, '09050001295': 1, 'a21': 1, 'lookin': 1, 'daytime': 1, 'busty': 1, 'married': 1, 'woman': 1, 'sort': 1, '09099726429': 1, 'janinexx': 1, 'calls£1minmobsmorelkpobox177hp51fl': 2, 'football': 2, 'sky': 4, 'gamestar': 2, 'active': 2, '£250k': 2, 'dream': 2, 'team': 2, 'scoring': 2, 'starts': 4, 'register': 2, 'nowsky': 2, '88088': 2, 'rct': 1, 'thnq': 1, 'adrian': 1, 'rgds': 1, 'vatian': 1, 'gent': 1, '09064012160': 1, 'httpwwwwtlpcouktext': 1, '09058094507': 1, 'tddnewsletteremc1couk': 1, 'thedailydraw': 1, 'helen': 1, 'dozens': 1, 'prizeswith': 1, 'jordan': 2, 'celeb': 1, '087016248': 1, 'httpwwwetlpcoukexpressoffer': 1, 'hmv': 7, 'genuine': 2, 'infowww100percentrealcom': 2, '0784987': 1, '786': 3, '08719180219': 1, '45239': 3, '060505': 1, 'boltblue': 1, 'poly3': 1, 'cha': 2, 'slide': 1, 'yeah': 1, 'slow': 1, 'jamz': 1, 'toxic': 1, '8': 1, 'come': 2, 'subscribed': 1, 'ten': 1, '83435': 1, 'helpline': 1, '08706091795': 1, '09050003091': 1, 'c52': 1, 'themobyo': 1, 'yo': 1, 'yohere': 1, 'open': 1, 'amy': 1, 'couple': 1, 'parties': 1, 'ithis': 1, 'created': 1, 'web': 1, 'page': 1, 'wwwasjesuscom': 1, 'read': 1, 'wrote': 1, 'opinions': 1, '078': 1, 'cmon': 1, 'turn': 1, 'sticky': 1, 'replies': 1, '07742676969': 2, '08719180248': 2, 'continued': 1, 'support': 1, 'in2': 1, 'president': 1, 'package': 1, 'term': 1, '54': 1, 'resubmit': 1, 'request': 1, 'expiry': 1, 'romcapspam': 1, 'responding': 1, 'presence': 1, 'warm': 1, 'outgoing': 1, 'bringing': 1, 'breath': 1, 'thought': 1, 'living': 1, 'perfect': 1, '100psms': 1, 'completely': 1, 'accommodation': 1, 'various': 1, 'global': 1, 'wwwphb1com': 1, 'ph08700435505150p': 1, '09066361921': 1, 'improved': 1, 'msgs150p': 1, '18only': 3, 'msgwe': 1, 'billed': 1, 'mistake': 1, 'shortcode': 1, '83332please': 1, '08081263000': 1, 'refundedthis': 1, '£1million': 1, 'ppt150x3normal': 1, 'box403': 1, 'w1t1jy': 1, '21870000hi': 1, 'mailbox': 1, 'messaging': 1, '21': 1, '09056242159': 1, 'retrieve': 1, 'lucy': 2, 'hubby': 1, 'meetins': 1, 'cumin': 1, '09099726395': 1, 'lyricalladie21f': 1, 'yes910': 1, 'no910': 1, 'wwwsmsacuhmmross': 1, 'bahamas': 4, 'callfreefone': 2, '08081560665': 2, 'cruise': 2, 'of£2000': 2, '07786200117': 2, 'really': 1, 'naked': 1, '69698': 2, 'wedding': 1, 'lingerie': 1, 'wwwbridalpetticoatdreamscouk': 1, 'superb': 1, 'brought': 1, 'weddingfriend': 1, 'vco': 1, '08718726970': 1, 'hols': 2, 'stamped': 2, 'self': 2, 'envelope': 2, 'drinks': 2, '113': 2, 'bray': 2, 'wicklow': 2, 'eire': 2, 'pleased': 1, 'advise': 1, 'recent': 1, '09066364589': 1, 'blind': 2, 'rodds1': 1, '21m': 1, 'aberdeen': 1, 'united': 1, 'kingdom': 1, 'httpimg': 1, 'acwicmb3cktz8r74': 1, 'hide': 1, 'videopic': 1, 'fones': 1, 'wild': 1, 'ill': 1, 'hurry': 1, '150prcvd': 1, 'stop2stop': 1, 'taking': 1, 'survey': 1, 'however': 1, '80160': 1, 'wwwtxt43com': 1, 'prebook': 1, 'trackmarque': 1, 'infovipclub4u': 1, '8000930705': 1, '3750': 1, '7548': 1, '4041': 1, '07808726822': 1, '08718729758': 1, '£12': 1, 'nok': 1, 'ree': 1, 'current': 2, 'leading': 1, '151': 1, 'pause': 1, 'police': 1, 'station': 1, 'toilet': 1, 'stolen': 1, 'cops': 1, 'nothing': 3, 'abroad': 1, 'lonely': 1, 'xxsp': 1, 'visionsmscom': 2, 'stopcost': 1, '08712400603': 1, '88800': 1, '89034': 1, 'premium': 1, '08718711108': 1, 'ringtonefrom': 1, 'wmlid1b6a5ecef91ff937819firsttrue180430jul05': 1, 'day2find': 1, 'youll': 1, 'svc': 1, '69988': 1, '09071517866': 1, '150ppmpobox10183bhamb64xe': 1, '86888': 1, 'subscribe6gbpmnth': 1, '3hrs': 1, 'stoptxtstop': 1, '09058095107': 1, 's3xy': 1, 'removed': 1, '08715203685': 1, 'code4xx26': 1, '131004': 1, 'x49your': 1, 'further': 1, 'mytonecomenjoy': 1, 'html': 1, 'gbp450week': 1, 'mfl': 1, '1146': 1, '23': 1, 'stay': 2, 'british': 1, 'hotels': 1, 'dial': 1, 'bx526': 1, 'sw73ss': 1, '447801259231': 2, '09058094597': 2, 'hmv1': 1, 'chloe': 1, 'smashed': 1, 'missing': 1, '150ptext': 1, 'dartboard': 1, 'condition': 1, 'doubles': 1, 'trebles': 1, 'fall': 1, 'worlds': 1, 'discreet': 1, '83110': 1, 'round': 1, 'highest': 1, '£54': 1, 'maximum': 1, '£71': 1, 'bids': 1, 'e': 1, 'mnths': 1, 'callback': 1, 'child': 1, 'afraid': 1, 'dark': 1, 'become': 1, 'teenager': 1, 'wants': 1, 'bloomberg': 1, 'center': 1, '447797706009': 1, 'wait': 1, 'httpcareers': 1, 'bloombergcom': 1, 'title': 1, 'dracula': 1, 'titles': 1, 'ghost': 1, 'addamsfa': 1, 'munsters': 1, 'exorcist': 1, 'twilight': 1, 'upgrdcentre': 1, '9153': 1, '26th': 1, 'amanda': 1, 'regard': 1, 'renewing': 1, 'upgrading': 1, 'tel': 1, '0845': 1, '021': 1, '3680': 1, 'subject': 1}\n"
          ],
          "name": "stdout"
        }
      ]
    },
    {
      "cell_type": "code",
      "metadata": {
        "id": "7OO1ggLDgWlS",
        "colab_type": "code",
        "colab": {}
      },
      "source": [
        "square=lambda x:x*x\n",
        "\n",
        "def square(x):\n",
        "  return x*x"
      ],
      "execution_count": null,
      "outputs": []
    },
    {
      "cell_type": "markdown",
      "metadata": {
        "id": "ieIr2GQbvw7r",
        "colab_type": "text"
      },
      "source": [
        "####2.3"
      ]
    },
    {
      "cell_type": "markdown",
      "metadata": {
        "id": "2BSLuWZSv2f3",
        "colab_type": "text"
      },
      "source": [
        "For every word $w_i$ in vocab, find the smoothed probability $\\tilde{P}(w_i | \\text{ spam })$ and put in a dictionary named ```dict_prob_spam```. \n",
        "In a similar way, define the dictionary ```dict_prob_ham``` which contains smoothed probabilities $\\tilde{P}(w_i | \\text{ ham })$"
      ]
    },
    {
      "cell_type": "code",
      "metadata": {
        "id": "SOpCfpbPvx38",
        "colab_type": "code",
        "colab": {}
      },
      "source": [
        "### Write your code here\n",
        "dict_prob_spam={}\n",
        "dict_prob_ham={}\n",
        "for i in vocab:\n",
        "  dict_prob_spam[i]=(dict_spam.get(i,0)+1)/(len(spam_train)+len(vocab))\n",
        "  dict_prob_ham[i]=(dict_ham.get(i,0)+1)/(len(ham_train)+len(vocab))\n"
      ],
      "execution_count": null,
      "outputs": []
    },
    {
      "cell_type": "code",
      "metadata": {
        "id": "Jd9Bxkl2hw7J",
        "colab_type": "code",
        "colab": {
          "base_uri": "https://localhost:8080/",
          "height": 34
        },
        "outputId": "539f7ef4-099c-4105-ebbf-0af2d90a6c79"
      },
      "source": [
        "x={'a':1,'b':2}\n",
        "x.get('c',0)"
      ],
      "execution_count": null,
      "outputs": [
        {
          "output_type": "execute_result",
          "data": {
            "text/plain": [
              "0"
            ]
          },
          "metadata": {
            "tags": []
          },
          "execution_count": 40
        }
      ]
    },
    {
      "cell_type": "markdown",
      "metadata": {
        "id": "WLf_1Dowwz-l",
        "colab_type": "text"
      },
      "source": [
        "###3. Prediction"
      ]
    },
    {
      "cell_type": "markdown",
      "metadata": {
        "id": "w1x6OPIfw2sG",
        "colab_type": "text"
      },
      "source": [
        "We need to test our model on ```data_test``` . \n",
        "For each sample of ```data_test```, prediction procedure is as follows: \n",
        "- For all words common to the sample and vocabulary, find ```spam_score``` and ```ham_score```\n",
        "- If ```spam_score``` is higher than ```ham_score```, then we predict the sample to be spam and vice versa.\n",
        "- ```spam_score``` = $P(spam)*\\tilde{P}(w_1 | \\text{ spam }) *  \\tilde{P}(w_2 | \\text{ spam }) * \\ldots$ where $w_1, w_2, \\ldots$ are words which occur both in the test sms and vocabulary.\n",
        "- Similary, ```ham_score``` = $P(ham)*\\tilde{P}(w_1 | \\text{ ham }) *  \\tilde{P}(w_2 | \\text{ ham }) * \\ldots$ where $w_1, w_2, \\ldots$ are words which occur both in the test sms and vocabulary. <br>\n",
        "Here $P(spam) = \\frac{\\text{Number of samples of type spam in training set}}{\\text{Total number of samples in training set}}$ <br>\n",
        "Similarly, $P(ham) = \\frac{\\text{Number of samples of type ham in training set}}{\\text{Total number of samples in training set}}$ <br>\n",
        "(Note: The above is prediction procedure for a single sample in data_test) <br>\n",
        "Write a function ```predict``` which does this."
      ]
    },
    {
      "cell_type": "markdown",
      "metadata": {
        "id": "VTnOluumzvoo",
        "colab_type": "text"
      },
      "source": [
        "####3.1"
      ]
    },
    {
      "cell_type": "code",
      "metadata": {
        "id": "zvJI6h4rw07z",
        "colab_type": "code",
        "colab": {}
      },
      "source": [
        "def predict(text, dict_prob_spam, dict_prob_ham, data_train):\n",
        "  \"\"\"Function which predicts the label of the sms\n",
        "  Inputs:\n",
        "    text: string, sms\n",
        "    dict_prob_spam: dictionary, contains dict_prob_spam as defined above\n",
        "    dict_prob_spam: dictionary, contains dict_prob_ham as defined above\n",
        "    data_train: list, list of tuples of type(label, sms), contains training dataset\n",
        "\n",
        "  Outputs:\n",
        "    prediction: string, one of two strings - either 'spam' or 'ham'\n",
        "  \"\"\"\n",
        "  ### Write your code here\n",
        "  p_spam=len(list(filter(lambda x:True if(x[0]==\"spam\") else False,data_train)))/len(data_train)\n",
        "  p_ham=len(list(filter(lambda x: True if(x[0]==\"ham\") else False,data_train)))/len(data_train)\n",
        "  spam_score=p_spam\n",
        "  ham_score=p_ham\n",
        "  for i in text.split(\" \"):\n",
        "    spam_score=spam_score*dict_prob_spam.get(i,1)\n",
        "    ham_score=ham_score*dict_prob_ham.get(i,1)\n",
        "  if(spam_score>ham_score):\n",
        "    prediction=\"spam\"\n",
        "  else:\n",
        "    prediction=\"ham\"\n",
        "\n",
        "  return prediction"
      ],
      "execution_count": null,
      "outputs": []
    },
    {
      "cell_type": "code",
      "metadata": {
        "id": "3UfkOiWzm0F7",
        "colab_type": "code",
        "colab": {
          "base_uri": "https://localhost:8080/",
          "height": 71
        },
        "outputId": "edda32ba-ccc4-45c3-d612-e3f3828a9dfb"
      },
      "source": [
        "print(sorted([(k, dict_spam[k]) for k in dict_spam.keys()], key = lambda x: x[1], reverse = True)[:20])\n",
        "print(sorted([(k, dict_ham[k]) for k in dict_ham.keys()], key = lambda x: x[1], reverse = True)[:20])"
      ],
      "execution_count": null,
      "outputs": [
        {
          "output_type": "stream",
          "text": [
            "[('to', 550), ('a', 314), ('call', 268), ('you', 235), ('', 212), ('your', 188), ('free', 177), ('or', 159), ('for', 159), ('the', 159), ('now', 145), ('2', 134), ('on', 128), ('txt', 128), ('is', 122), ('ur', 119), ('u', 115), ('have', 112), ('from', 101), ('text', 94)]\n",
            "[('i', 1750), ('you', 1481), ('', 1325), ('to', 1275), ('the', 922), ('a', 855), ('u', 808), ('and', 694), ('in', 663), ('me', 638), ('my', 595), ('is', 591), ('it', 478), ('for', 419), ('of', 417), ('that', 381), ('im', 365), ('have', 359), ('your', 345), ('but', 342)]\n"
          ],
          "name": "stdout"
        }
      ]
    },
    {
      "cell_type": "code",
      "metadata": {
        "id": "z3pehyQZoKdB",
        "colab_type": "code",
        "colab": {}
      },
      "source": [
        ""
      ],
      "execution_count": null,
      "outputs": []
    },
    {
      "cell_type": "markdown",
      "metadata": {
        "id": "unGdqIOZzzbN",
        "colab_type": "text"
      },
      "source": [
        "####3.2"
      ]
    },
    {
      "cell_type": "markdown",
      "metadata": {
        "id": "R13trMFvz1C_",
        "colab_type": "text"
      },
      "source": [
        "Now find accuracy of the model. Apply function predict to all the samples in data_test. <br>\n",
        "$\\text{accuracy} = \\frac{\\text{number of correct predictions}}{\\text{size of test set}}$ <br>\n",
        "Write the function accuracy which applies predict to all ```samples``` in data_test and returns ```accuracy```"
      ]
    },
    {
      "cell_type": "code",
      "metadata": {
        "id": "fCt0GIO3zuM1",
        "colab_type": "code",
        "colab": {}
      },
      "source": [
        "def accuracy(data_test, dict_prob_spam, dict_prob_ham, data_train):\n",
        "  \"\"\"Function which finds accuracy of model\n",
        "  Inputs:\n",
        "    data_test: list, contains tuples of data (label, sms) \n",
        "    dict_prob_spam: dictionary, contains dict_prob_spam as defined above\n",
        "    dict_prob_spam: dictionary, contains dict_prob_ham as defined above\n",
        "    data_train: list, list of tuples of type(label, sms), contains training dataset\n",
        "\n",
        "\n",
        "  Outputs:\n",
        "    accuracy: float, value of accuracy\n",
        "  \"\"\"\n",
        "  ### Write your code here\n",
        "  correct = 0\n",
        "  for i in data_test:\n",
        "    if(i[0] == predict(i[1], dict_prob_spam, dict_prob_ham, data_train)):\n",
        "      correct += 1\n",
        "  accuracy = correct/len(data_test)\n",
        "  return accuracy"
      ],
      "execution_count": null,
      "outputs": []
    },
    {
      "cell_type": "code",
      "metadata": {
        "id": "DKfGFIqSo3e3",
        "colab_type": "code",
        "colab": {
          "base_uri": "https://localhost:8080/",
          "height": 34
        },
        "outputId": "da5ce09b-d9d9-46f4-acf2-240ecb0f8456"
      },
      "source": [
        "accuracy(data_test, dict_prob_spam, dict_prob_ham, data_train)"
      ],
      "execution_count": null,
      "outputs": [
        {
          "output_type": "execute_result",
          "data": {
            "text/plain": [
              "0.9811659192825112"
            ]
          },
          "metadata": {
            "tags": []
          },
          "execution_count": 92
        }
      ]
    }
  ]
}