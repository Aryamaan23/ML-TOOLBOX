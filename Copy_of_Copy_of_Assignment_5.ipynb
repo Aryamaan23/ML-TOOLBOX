{
  "nbformat": 4,
  "nbformat_minor": 0,
  "metadata": {
    "colab": {
      "name": "Copy of Copy of Assignment 5.ipynb",
      "provenance": [],
      "collapsed_sections": [],
      "include_colab_link": true
    },
    "kernelspec": {
      "name": "python3",
      "display_name": "Python 3"
    }
  },
  "cells": [
    {
      "cell_type": "markdown",
      "metadata": {
        "id": "view-in-github",
        "colab_type": "text"
      },
      "source": [
        "<a href=\"https://colab.research.google.com/github/Aryamaan23/ML-TOOLBOX/blob/master/Copy_of_Copy_of_Assignment_5.ipynb\" target=\"_parent\"><img src=\"https://colab.research.google.com/assets/colab-badge.svg\" alt=\"Open In Colab\"/></a>"
      ]
    },
    {
      "cell_type": "markdown",
      "metadata": {
        "id": "OEF5yWrV_h41",
        "colab_type": "text"
      },
      "source": [
        "Use recursion to solve the problems."
      ]
    },
    {
      "cell_type": "markdown",
      "metadata": {
        "id": "Dk2q7qJt_lYY",
        "colab_type": "text"
      },
      "source": [
        "# Q. Natural Sum\n",
        "Write a function that takes an arguemnt n and computes the sum $1 + 2 + 3 + \\ldots +n$ recursively."
      ]
    },
    {
      "cell_type": "code",
      "metadata": {
        "id": "Ky77jttY_c9A",
        "colab_type": "code",
        "colab": {}
      },
      "source": [
        "def natural_sum(n):\n",
        "  if n<=1:\n",
        "    return n\n",
        "  return n+natural_sum(n-1)"
      ],
      "execution_count": null,
      "outputs": []
    },
    {
      "cell_type": "code",
      "metadata": {
        "id": "OFPqTvHgAFGF",
        "colab_type": "code",
        "colab": {
          "base_uri": "https://localhost:8080/",
          "height": 34
        },
        "outputId": "03a65cf1-8036-400e-f3a3-b6ba0a64d9a3"
      },
      "source": [
        "\"\"\"Test Cases\"\"\"\n",
        "assert natural_sum(1) == 1\n",
        "assert natural_sum(10) == 55\n",
        "print(f\"Test cases passed! {chr(0x1F44D)}\")"
      ],
      "execution_count": null,
      "outputs": [
        {
          "output_type": "stream",
          "text": [
            "Test cases passed! 👍\n"
          ],
          "name": "stdout"
        }
      ]
    },
    {
      "cell_type": "markdown",
      "metadata": {
        "id": "AdmSPaq-_5HJ",
        "colab_type": "text"
      },
      "source": [
        "#Q. Recursively Min\n",
        "Write a recursive function that finds and returns the minimum element in an array.\n"
      ]
    },
    {
      "cell_type": "code",
      "metadata": {
        "id": "VFHBLosvABK7",
        "colab_type": "code",
        "colab": {}
      },
      "source": [
        "def findmin(arr):\n",
        "  if(len(arr)==1):\n",
        "    return arr[0]\n",
        "  else:\n",
        "    min_rest_of_array=findmin(arr[1:])\n",
        "    if(arr[0]<min_rest_of_array):\n",
        "      return arr[0]\n",
        "    else:\n",
        "      return min_rest_of_array\n",
        "\n",
        "  "
      ],
      "execution_count": null,
      "outputs": []
    },
    {
      "cell_type": "code",
      "metadata": {
        "id": "8spUYp8oAc9b",
        "colab_type": "code",
        "colab": {
          "base_uri": "https://localhost:8080/",
          "height": 34
        },
        "outputId": "abaa7005-c265-49e5-911c-ea69411827fe"
      },
      "source": [
        "\"\"\"Test Cases\"\"\"\n",
        "assert findmin([2, 3, 2, 4, 7, 8, 9]) == 2\n",
        "assert findmin([1]) == 1\n",
        "print(f\"Test cases passed! {chr(0x1F44D)}\")"
      ],
      "execution_count": null,
      "outputs": [
        {
          "output_type": "stream",
          "text": [
            "Test cases passed! 👍\n"
          ],
          "name": "stdout"
        }
      ]
    },
    {
      "cell_type": "markdown",
      "metadata": {
        "id": "wf1-NubMEUkW",
        "colab_type": "text"
      },
      "source": [
        "# Q.Recursive Palindrome\n",
        "Write a recursive function that takes a string and returns whether the string is a palindrome or not. (Function should return a bool ```True``` or ```False```)"
      ]
    },
    {
      "cell_type": "code",
      "metadata": {
        "id": "vSfaF9sRBPC-",
        "colab_type": "code",
        "colab": {}
      },
      "source": [
        "def isPalindrome(s):\n",
        "  s=(''.join(s.split(' '))).lower()\n",
        "  if(len(s)<=2):\n",
        "    if(s[0]==s[-1]):\n",
        "      return True\n",
        "    else:\n",
        "      return False\n",
        "  if(s[0]==s[-1]) and isPalindrome(s[1:-1]):\n",
        "    return True\n",
        "  else:\n",
        "    return False\n"
      ],
      "execution_count": null,
      "outputs": []
    },
    {
      "cell_type": "code",
      "metadata": {
        "id": "xiiG88UfBPad",
        "colab_type": "code",
        "colab": {}
      },
      "source": [
        "\"\"\"Test Cases\"\"\"\n",
        "assert isPalindrome(\"abbaa\") == False\n",
        "assert isPalindrome(\"Was it a Rat I saw\")== True\n"
      ],
      "execution_count": null,
      "outputs": []
    },
    {
      "cell_type": "markdown",
      "metadata": {
        "id": "JadE5TmTGNe9",
        "colab_type": "text"
      },
      "source": [
        "#Q. Change Pi\n",
        "Write a function that takes a string and replaces all occurences of pi with 3.14. This should be done using recursion instead of loops (iteration). "
      ]
    },
    {
      "cell_type": "code",
      "metadata": {
        "id": "dXU0fjjBF2ve",
        "colab_type": "code",
        "colab": {}
      },
      "source": [
        "def changePi(s):\n",
        "  if(len(s)<=1):\n",
        "    return s\n",
        "  else:\n",
        "    if(s[:2]==\"pi\"):\n",
        "      return \"3.14\"+changePi(s[2:])\n",
        "    else:\n",
        "      return s[0]+changePi(s[1:])"
      ],
      "execution_count": null,
      "outputs": []
    },
    {
      "cell_type": "code",
      "metadata": {
        "id": "7DRvjjklGmpz",
        "colab_type": "code",
        "colab": {}
      },
      "source": [
        "\"\"\"Test Cases\"\"\"\n",
        "assert changePi(\"pixyzpi\") == \"3.14xyz3.14\"\n",
        "assert changePi(\"pixypiabpi\") == \"3.14xy3.14ab3.14\""
      ],
      "execution_count": null,
      "outputs": []
    },
    {
      "cell_type": "markdown",
      "metadata": {
        "id": "GLwJxlAcH9WM",
        "colab_type": "text"
      },
      "source": [
        "#Q. "
      ]
    }
  ]
}