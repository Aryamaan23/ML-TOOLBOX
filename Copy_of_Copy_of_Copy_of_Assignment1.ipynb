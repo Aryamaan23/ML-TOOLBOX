{
  "nbformat": 4,
  "nbformat_minor": 0,
  "metadata": {
    "colab": {
      "name": "Copy of Copy of Copy of Assignment1.ipynb",
      "provenance": [],
      "include_colab_link": true
    },
    "kernelspec": {
      "name": "python3",
      "display_name": "Python 3"
    }
  },
  "cells": [
    {
      "cell_type": "markdown",
      "metadata": {
        "id": "view-in-github",
        "colab_type": "text"
      },
      "source": [
        "<a href=\"https://colab.research.google.com/github/Aryamaan23/ML-TOOLBOX/blob/master/Copy_of_Copy_of_Copy_of_Assignment1.ipynb\" target=\"_parent\"><img src=\"https://colab.research.google.com/assets/colab-badge.svg\" alt=\"Open In Colab\"/></a>"
      ]
    },
    {
      "cell_type": "markdown",
      "metadata": {
        "id": "xgPa5ZQFiQar",
        "colab_type": "text"
      },
      "source": [
        "#Q. Interest Compounded\n",
        "The Formula for computing compound interest is as follows - \n",
        "\\begin{equation}\n",
        "A = P(1 + \\frac{r}{n})^{nt}\n",
        "\\end{equation}\n",
        "Write a function that takes as inputs $P, r, n, t$ and prints the total amount that has to be paid."
      ]
    },
    {
      "cell_type": "code",
      "metadata": {
        "colab_type": "code",
        "id": "-nUYyV1NiuC6",
        "colab": {}
      },
      "source": [
        "import math\n",
        "def compound_interest(p, r, n, t):\n",
        "   a=(float)(p*math.pow(1+r/n,t*n))\n",
        "   return a"
      ],
      "execution_count": null,
      "outputs": []
    },
    {
      "cell_type": "code",
      "metadata": {
        "id": "Z4CjrFloivnh",
        "colab_type": "code",
        "colab": {
          "base_uri": "https://localhost:8080/",
          "height": 119
        },
        "outputId": "0851b0c0-60e1-47d4-e9ae-5b11809f846f"
      },
      "source": [
        "import math\n",
        "def compound_interest(principal,rate,no,time):\n",
        "  result=(float)(principal*math.pow(1+rate/no,time*no))\n",
        "  return result\n",
        "p=(float)(input())\n",
        "r=(float)(input())\n",
        "n=(float)(input())\n",
        "t=(float)(input())\n",
        "a=compound_interest(p,r,n,t)\n",
        "i=(float)(a-p)\n",
        "print(i)\n",
        "print(a)\n",
        "\n",
        "  "
      ],
      "execution_count": null,
      "outputs": [
        {
          "output_type": "stream",
          "text": [
            "20000\n",
            "0.08\n",
            "12\n",
            "40\n",
            "465467.71084916266\n",
            "485467.71084916266\n"
          ],
          "name": "stdout"
        }
      ]
    },
    {
      "cell_type": "markdown",
      "metadata": {
        "id": "1ZnXZJJQjK-q",
        "colab_type": "text"
      },
      "source": [
        "#Q. User power\n",
        "Write a program that takes two inputs from the user $a$ and $b$ and prints the value $a^b$"
      ]
    },
    {
      "cell_type": "code",
      "metadata": {
        "id": "4gSGzXICjY4X",
        "colab_type": "code",
        "colab": {
          "base_uri": "https://localhost:8080/",
          "height": 68
        },
        "outputId": "a03445cf-f215-4350-b228-9d1753f7da08"
      },
      "source": [
        "import math\n",
        "a=int(input())\n",
        "b=int(input())\n",
        "x=(int)(math.pow(a,b))\n",
        "print(x)"
      ],
      "execution_count": null,
      "outputs": [
        {
          "output_type": "stream",
          "text": [
            "23\n",
            "23\n",
            "20880467999847910614749358850048\n"
          ],
          "name": "stdout"
        }
      ]
    },
    {
      "cell_type": "markdown",
      "metadata": {
        "id": "ktdZ7wmG_CQc",
        "colab_type": "text"
      },
      "source": [
        "#Q. GCD and LCM\n",
        "Write a program that takes two inputs from the user $a$ and $b$ and prints their gcd and lcm. (Use functions from math library)\n"
      ]
    },
    {
      "cell_type": "code",
      "metadata": {
        "id": "ANzcJahd_vcL",
        "colab_type": "code",
        "colab": {}
      },
      "source": [
        "import math\n",
        "def lcm(x,y):#Since there is no math function for least common multiple so we have made the function for LCM\n",
        "    if x>y:\n",
        "      greater=x\n",
        "    else:\n",
        "      greater=y\n",
        "    while(True):\n",
        "      if((greater%x==0) and (greater%y==0)):\n",
        "        lcm=greater\n",
        "        break\n",
        "      greater+=1\n",
        "\n",
        "    return lcm\n",
        "\n",
        "\n",
        "a=int(input())\n",
        "b=int(input())\n",
        "x=(int)(math.gcd(a,b))#Used math library function for greatest common divisor\n",
        "y=(int)(lcm(a,b))\n",
        "\n",
        "print(x)\n",
        "print(y)\n"
      ],
      "execution_count": null,
      "outputs": []
    },
    {
      "cell_type": "markdown",
      "metadata": {
        "id": "bVDRuUDqNVRb",
        "colab_type": "text"
      },
      "source": [
        "##Q. Right Justify\n",
        "Python has a function called ```len``` that returns the _length of a string_. <br>\n",
        "Write a function that takes a string ```s``` as a parameter and prints the string with enough leading spaces so that the last letter of the string is in column 70 of the display. <br>\n",
        "```\n",
        "right_justify('Hari')\n",
        "```\n",
        "Expected Output: <br>\n",
        "<img src=\"https://drive.google.com/uc?id=1DaifS8HV5PE7HbUvSbdj_N2Q-t88Wr8Q\" width=\"400\">\n",
        "\n",
        "\n"
      ]
    },
    {
      "cell_type": "code",
      "metadata": {
        "id": "ZXLMeoiuZhL9",
        "colab_type": "code",
        "colab": {}
      },
      "source": [
        "def right_justify(s):\n",
        "  print \"%70s\" % s"
      ],
      "execution_count": null,
      "outputs": []
    },
    {
      "cell_type": "code",
      "metadata": {
        "id": "5GGu7KB7i27E",
        "colab_type": "code",
        "colab": {
          "base_uri": "https://localhost:8080/",
          "height": 34
        },
        "outputId": "807c3ffd-a24d-401e-838a-625f6bef0bbe"
      },
      "source": [
        "def right_justify(s):\n",
        "  print(s.rjust(70))\n",
        "right_justify('Hari')"
      ],
      "execution_count": null,
      "outputs": [
        {
          "output_type": "stream",
          "text": [
            "                                                                  Hari\n"
          ],
          "name": "stdout"
        }
      ]
    },
    {
      "cell_type": "markdown",
      "metadata": {
        "id": "KsC-3mHZa8Zh",
        "colab_type": "text"
      },
      "source": [
        "#Q. Do Anything Twice\n",
        "Refer to Drill 19(programming drill - 4) for this question. <br>\n",
        "- Modify ```do_twice``` so that it takes two arguments - a function object and a value, and calls the function twice, passing value as argument.\n",
        "- Define a new function ```do_four``` that takes a function object and a value and calls the function four times. There should only be two statements in the body of the function.\n"
      ]
    },
    {
      "cell_type": "code",
      "metadata": {
        "id": "3NMeZgbfZt6E",
        "colab_type": "code",
        "colab": {
          "base_uri": "https://localhost:8080/",
          "height": 51
        },
        "outputId": "aca7e591-7971-4a1d-a129-f155b2c5b3fd"
      },
      "source": [
        "v=(\"What input to take?\")\n",
        "def do_twice(f, v):\n",
        "  \"\"\"\n",
        "  This function calls any function object that is passed to it twice passing v as the argument\n",
        "\n",
        "  Input:\n",
        "    f: function object\n",
        "    v: value\n",
        "  \"\"\"\n",
        "  f(v)\n",
        "  f(v)\n",
        "def print_1(v):\n",
        "   print(\"ARYAMAAN\")\n",
        "do_twice(print_1,v)"
      ],
      "execution_count": null,
      "outputs": [
        {
          "output_type": "stream",
          "text": [
            "ARYAMAAN\n",
            "ARYAMAAN\n"
          ],
          "name": "stdout"
        }
      ]
    },
    {
      "cell_type": "code",
      "metadata": {
        "id": "TzNdGRxSdi4V",
        "colab_type": "code",
        "colab": {}
      },
      "source": [
        "def do_four(f, v):\n",
        "  \"\"\"\n",
        "  This function calls any function object that is passed to it four times passing v as the argument\n",
        "\n",
        "  Input:\n",
        "    f: function object\n",
        "    v: value\n",
        "  \"\"\"\n",
        "  "
      ],
      "execution_count": null,
      "outputs": []
    },
    {
      "cell_type": "code",
      "metadata": {
        "id": "hbtZYLPqhTJh",
        "colab_type": "code",
        "colab": {
          "base_uri": "https://localhost:8080/",
          "height": 221
        },
        "outputId": "886a3e68-a9d2-4cad-d37d-9ba1945f64f2"
      },
      "source": [
        "v=\"What input to read?\"\n",
        "def do_twice(f,v):\n",
        "  f(v)\n",
        "  f(v)\n",
        "  \n",
        "def print_2(v):\n",
        "  print(\"IITK\")\n",
        "  print(\"IITK\")\n",
        "  \n",
        "do_twice(print_2,v)\n",
        "\n",
        "def do_four(f,v):\n",
        "  do_twice(f,v)\n",
        "  do_twice(f,v)\n",
        "  \n",
        "\n",
        "do_four(print_2,v)\n",
        "  "
      ],
      "execution_count": null,
      "outputs": [
        {
          "output_type": "stream",
          "text": [
            "IITK\n",
            "IITK\n",
            "IITK\n",
            "IITK\n",
            "IITK\n",
            "IITK\n",
            "IITK\n",
            "IITK\n",
            "IITK\n",
            "IITK\n",
            "IITK\n",
            "IITK\n"
          ],
          "name": "stdout"
        }
      ]
    },
    {
      "cell_type": "markdown",
      "metadata": {
        "id": "dnK2S6Y6MUnL",
        "colab_type": "text"
      },
      "source": [
        "#Q. Grid art\n",
        "Write a function that draws a grid like the following: <br>\n",
        "<img src=\"https://drive.google.com/uc?id=1a4-dj7bd4f8aYATscJiMgAkZi087n8Ie\" width=\"200\">"
      ]
    },
    {
      "cell_type": "code",
      "metadata": {
        "id": "muJBmDEdMML0",
        "colab_type": "code",
        "colab": {
          "base_uri": "https://localhost:8080/",
          "height": 238
        },
        "outputId": "fb96d645-cae7-4210-dbb3-e4ce3caafa5e"
      },
      "source": [
        "def draw_grid_art():\n",
        "  print(\"\"\"\n",
        "  +----+----+\n",
        "  |    |    |\n",
        "  |    |    |\n",
        "  |    |    |\n",
        "  |    |    |\n",
        "  +----+----+\n",
        "  |    |    |\n",
        "  |    |    |\n",
        "  |    |    |\n",
        "  |    |    |\n",
        "  +----+----+\n",
        "   \"\"\"\n",
        "  )\n",
        "draw_grid_art()\n",
        "  "
      ],
      "execution_count": null,
      "outputs": [
        {
          "output_type": "stream",
          "text": [
            "\n",
            "  +----+----+\n",
            "  |    |    |\n",
            "  |    |    |\n",
            "  |    |    |\n",
            "  |    |    |\n",
            "  +----+----+\n",
            "  |    |    |\n",
            "  |    |    |\n",
            "  |    |    |\n",
            "  |    |    |\n",
            "  +----+----+\n",
            "   \n"
          ],
          "name": "stdout"
        }
      ]
    },
    {
      "cell_type": "markdown",
      "metadata": {
        "id": "W2Gq1-znmCWh",
        "colab_type": "text"
      },
      "source": [
        "Write a function that prints a similar grid but with four rows and four columns."
      ]
    },
    {
      "cell_type": "code",
      "metadata": {
        "id": "DFyd554ljoif",
        "colab_type": "code",
        "colab": {
          "base_uri": "https://localhost:8080/",
          "height": 408
        },
        "outputId": "a39f2f1d-5659-4d3e-df0b-906edaa227c6"
      },
      "source": [
        "def first(a):\n",
        "    print(\"+\",end=\" \")\n",
        "    for i in range(a-1):\n",
        "      print(\"----+\",end=\" \")\n",
        "    print(\"----+\")\n",
        "\n",
        "def second(a):\n",
        "    print(\"|\",end=\" \")\n",
        "    for i in range(a-1):\n",
        "       print(\"    |\",end=\" \")\n",
        "    print(\"    |\")\n",
        "def func(a,b):\n",
        "    first(a)\n",
        "    for i in range(b):\n",
        "      for i in range(4):\n",
        "         second(a)\n",
        "      first(a)\n",
        "a=int(input(\"Col:\"))\n",
        "b=int(input(\"Row:\"))\n",
        "func(a,b)\n",
        "    \n",
        "    \n",
        "    "
      ],
      "execution_count": null,
      "outputs": [
        {
          "output_type": "stream",
          "text": [
            "Col:4\n",
            "Row:4\n",
            "+ ----+ ----+ ----+ ----+\n",
            "|     |     |     |     |\n",
            "|     |     |     |     |\n",
            "|     |     |     |     |\n",
            "|     |     |     |     |\n",
            "+ ----+ ----+ ----+ ----+\n",
            "|     |     |     |     |\n",
            "|     |     |     |     |\n",
            "|     |     |     |     |\n",
            "|     |     |     |     |\n",
            "+ ----+ ----+ ----+ ----+\n",
            "|     |     |     |     |\n",
            "|     |     |     |     |\n",
            "|     |     |     |     |\n",
            "|     |     |     |     |\n",
            "+ ----+ ----+ ----+ ----+\n",
            "|     |     |     |     |\n",
            "|     |     |     |     |\n",
            "|     |     |     |     |\n",
            "|     |     |     |     |\n",
            "+ ----+ ----+ ----+ ----+\n"
          ],
          "name": "stdout"
        }
      ]
    }
  ]
}