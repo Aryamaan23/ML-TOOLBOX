{
  "nbformat": 4,
  "nbformat_minor": 0,
  "metadata": {
    "kernelspec": {
      "display_name": "Python 3",
      "language": "python",
      "name": "python3"
    },
    "language_info": {
      "codemirror_mode": {
        "name": "ipython",
        "version": 3
      },
      "file_extension": ".py",
      "mimetype": "text/x-python",
      "name": "python",
      "nbconvert_exporter": "python",
      "pygments_lexer": "ipython3",
      "version": "3.6.8"
    },
    "colab": {
      "name": "Copy of Quiz 3 (ML).ipynb",
      "provenance": [],
      "collapsed_sections": [],
      "include_colab_link": true
    }
  },
  "cells": [
    {
      "cell_type": "markdown",
      "metadata": {
        "id": "view-in-github",
        "colab_type": "text"
      },
      "source": [
        "<a href=\"https://colab.research.google.com/github/Aryamaan23/ML-TOOLBOX/blob/master/Copy_of_Quiz_3_(ML).ipynb\" target=\"_parent\"><img src=\"https://colab.research.google.com/assets/colab-badge.svg\" alt=\"Open In Colab\"/></a>"
      ]
    },
    {
      "cell_type": "markdown",
      "metadata": {
        "id": "0U-in5NXlAyr",
        "colab_type": "text"
      },
      "source": [
        "General Instructions:\n",
        "- By array, I mean numpy array\n",
        "- By matrix, I mean a numpy array of 2 dimensions"
      ]
    },
    {
      "cell_type": "markdown",
      "metadata": {
        "id": "37hSpnsCkFAO",
        "colab_type": "text"
      },
      "source": [
        "### 1\n",
        "Write a function to create and return an integer array of shape (5, 2) from a range between 100 to 200 (including 100, excluding 200) such that the difference between consecutive elements is 10."
      ]
    },
    {
      "cell_type": "code",
      "metadata": {
        "id": "YL23bzkVkFAP",
        "colab_type": "code",
        "colab": {
          "base_uri": "https://localhost:8080/",
          "height": 102
        },
        "outputId": "005d3792-ca53-487e-ea85-fca937db538b"
      },
      "source": [
        "import numpy as np\n",
        "def create_integer_array(a):\n",
        "  a=np.array([[100,110],[120,130],[140,150],[160,170],[180,190]])\n",
        "  return np.array(a)\n",
        "create_integer_array(matrix)\n"
      ],
      "execution_count": null,
      "outputs": [
        {
          "output_type": "execute_result",
          "data": {
            "text/plain": [
              "array([[100, 110],\n",
              "       [120, 130],\n",
              "       [140, 150],\n",
              "       [160, 170],\n",
              "       [180, 190]])"
            ]
          },
          "metadata": {
            "tags": []
          },
          "execution_count": 125
        }
      ]
    },
    {
      "cell_type": "markdown",
      "metadata": {
        "id": "zYjrAoJBkFAV",
        "colab_type": "text"
      },
      "source": [
        "### 2\n",
        "Given a numpy array ```a```, of shape ```(m, n)``` m>=3, n>=3. Write a function to return an array consisting of the elements in 3rd column of ```a``` <br>\n",
        "Eg., Suppose\n",
        "``` \n",
        "a = [[1 2 3]\n",
        "     [4 5 6]\n",
        "     [7 8 9]]    \n",
        "```\n",
        "Then \n",
        "```\n",
        "column_3(a) -> [3 6 9]\n",
        "```"
      ]
    },
    {
      "cell_type": "code",
      "metadata": {
        "id": "qGBr5qQckFAX",
        "colab_type": "code",
        "colab": {
          "base_uri": "https://localhost:8080/",
          "height": 272
        },
        "outputId": "1b74fc45-c9c3-4cf8-a28c-627636bddfd4"
      },
      "source": [
        "import numpy as np\n",
        "def column_3(a):\n",
        "  d=2\n",
        "  r=[sub[d] for sub in a]\n",
        "  return r\n",
        "m=int(input())\n",
        "n=int(input())\n",
        "matrix=[]\n",
        "for i in range(0,m):\n",
        "  matrix+=[0]\n",
        "for i in range(0,m):\n",
        "  matrix[i]=[0]*n\n",
        "for i in range(0,m):\n",
        "  for j in range(0,n):\n",
        "    matrix[i][j]=int(input())\n",
        "s=np.array(matrix)\n",
        "print(s)\n",
        "a=column_3(matrix)\n",
        "print(f'column_3(a) -> {a}')"
      ],
      "execution_count": null,
      "outputs": [
        {
          "output_type": "stream",
          "text": [
            "3\n",
            "3\n",
            "1\n",
            "2\n",
            "3\n",
            "4\n",
            "5\n",
            "6\n",
            "7\n",
            "8\n",
            "9\n",
            "[[1 2 3]\n",
            " [4 5 6]\n",
            " [7 8 9]]\n",
            "column_3(a) -> [3, 6, 9]\n"
          ],
          "name": "stdout"
        }
      ]
    },
    {
      "cell_type": "markdown",
      "metadata": {
        "id": "DikElEA9kFAb",
        "colab_type": "text"
      },
      "source": [
        "### 3\n",
        "Write a function which does the following. Given a numpy array $a$ of shape (m, n), index $i$ and an array $b$ of shape (m, ). Replace the $i_{th}$ column of $a$ with the array $b$  \n",
        "Eg., Suppose\n",
        "```\n",
        "a = [[1 2 3]\n",
        "     [4 5 6]\n",
        "     [7 8 9]]\n",
        "b = [30, 60, 90]\n",
        "\n",
        "```    \n",
        "Then,\n",
        "```\n",
        "replace_col(a, 2, b) -> [[1 2 30]\n",
        "                         [4 5 60]\n",
        "                         [7 8 90]]\n",
        "```"
      ]
    },
    {
      "cell_type": "code",
      "metadata": {
        "id": "0uKhiFAHkFAd",
        "colab_type": "code",
        "colab": {
          "base_uri": "https://localhost:8080/",
          "height": 391
        },
        "outputId": "39c3b502-ecc2-4f65-d93b-01ef9a3fba32"
      },
      "source": [
        "import numpy as np\n",
        "def replace_col(a, i, b):\n",
        " x=a.copy()\n",
        " y=np.array(x)\n",
        " y[:,i]=np.array(b)\n",
        " return np.array(y)\n",
        "m=int(input())\n",
        "n=int(input())\n",
        "matrix=[]\n",
        "matrix2=[]\n",
        "for i in range(0,m):\n",
        "  matrix+=[0]\n",
        "for i in range(0,m):\n",
        "  matrix[i]=[0]*n\n",
        "for i in range(0,m):\n",
        "  for j in range(0,n):\n",
        "    matrix[i][j]=int(input())\n",
        "s=np.array(matrix)\n",
        "print(s)\n",
        "for i in range(0,1):\n",
        "  matrix2+=[0]\n",
        "for i in range(0,1):\n",
        "  matrix2[i]=[0]*n\n",
        "for i in range(0,1):\n",
        "  for j in range(0,m):\n",
        "    matrix2[i][j]=int(input())\n",
        "z=np.array(matrix2)\n",
        "print(z)\n",
        "k=int(input())\n",
        "replace_col(matrix,k,matrix2)"
      ],
      "execution_count": null,
      "outputs": [
        {
          "output_type": "stream",
          "text": [
            "3\n",
            "3\n",
            "1\n",
            "2\n",
            "3\n",
            "4\n",
            "5\n",
            "6\n",
            "7\n",
            "8\n",
            "9\n",
            "[[1 2 3]\n",
            " [4 5 6]\n",
            " [7 8 9]]\n",
            "30\n",
            "60\n",
            "90\n",
            "[[30 60 90]]\n",
            "2\n"
          ],
          "name": "stdout"
        },
        {
          "output_type": "execute_result",
          "data": {
            "text/plain": [
              "array([[ 1,  2, 30],\n",
              "       [ 4,  5, 60],\n",
              "       [ 7,  8, 90]])"
            ]
          },
          "metadata": {
            "tags": []
          },
          "execution_count": 124
        }
      ]
    },
    {
      "cell_type": "markdown",
      "metadata": {
        "id": "kiBrW4BekFAs",
        "colab_type": "text"
      },
      "source": [
        "### 4\n",
        "Write a function which does the following. Given a numpy array $a$ of shape (m, n) and indices $i$, $j$. Return a numpy array which swaps the columns $i$ and $j$ of $a$\n",
        "Eg., Suppose\n",
        "```\n",
        "a = [[1 2 3]\n",
        "     [4 5 6]\n",
        "     [7 8 9]]\n",
        "\n",
        "swap_cols(a, 0, 2) -> [[3 2 1]\n",
        "                       [6 5 4]\n",
        "                       [9 8 7]]\n",
        "```"
      ]
    },
    {
      "cell_type": "code",
      "metadata": {
        "id": "SHreztV0kFAt",
        "colab_type": "code",
        "colab": {
          "base_uri": "https://localhost:8080/",
          "height": 221
        },
        "outputId": "86f68230-321e-4e0a-bcb6-838d81c24d35"
      },
      "source": [
        "import numpy as np\n",
        "def swap_cols(a, i, j):\n",
        "  a[:,[i,j]]=a[:,[j,i]]\n",
        "  return a\n",
        "  \n",
        "j=int(input())\n",
        "k=int(input())\n",
        "l=int(input())\n",
        "ma=np.arange(j).reshape(k,l)\n",
        "ik=int(input())\n",
        "jk=int(input())\n",
        "print(ma)\n",
        "t=swap_cols(ma,ik,jk)\n",
        "print()\n",
        "print(f' {t}')\n",
        "  \n"
      ],
      "execution_count": null,
      "outputs": [
        {
          "output_type": "stream",
          "text": [
            "9\n",
            "3\n",
            "3\n",
            "0\n",
            "2\n",
            "[[0 1 2]\n",
            " [3 4 5]\n",
            " [6 7 8]]\n",
            "\n",
            " [[2 1 0]\n",
            " [5 4 3]\n",
            " [8 7 6]]\n"
          ],
          "name": "stdout"
        }
      ]
    },
    {
      "cell_type": "markdown",
      "metadata": {
        "id": "zcmziMV3ol55",
        "colab_type": "text"
      },
      "source": [
        "## 5"
      ]
    },
    {
      "cell_type": "markdown",
      "metadata": {
        "id": "jMeJeFXzosUu",
        "colab_type": "text"
      },
      "source": [
        "There are various equivalent ways to define the determinant of a square matrix A, i.e. one with the same number of rows and columns. Perhaps the simplest way to express the determinant is by considering the elements in the top row and the respective minors; starting at the left, multiply the element by the minor, then subtract the product of the next element and its minor, and alternate adding and subtracting such products until all elements in the top row have been exhausted. For example, here is the result for a 4 × 4 matrix: <br>\n",
        "\n",
        "<img src = \"https://drive.google.com/uc?id=1TTljfFZAnOvqgAOiOrv6r4DDRROD-Vph\"> <br>\n",
        "\n",
        "Also, for a 2x2 matrix, this is the formula - <br>\n",
        "<img src = \"https://drive.google.com/uc?id=1H3aFpr1guevWjz4F-XRUQ9eP5TfjVLwu\"> <br>"
      ]
    },
    {
      "cell_type": "markdown",
      "metadata": {
        "id": "kHt2BOQpo5k3",
        "colab_type": "text"
      },
      "source": [
        "###5.1 Minor\n",
        "Write a function that does the following. \n",
        "Given a square matrix $A$ and an index $i$, find and return the sub-matrix that is the minor corresponding to element at index $i$ of the first row of $A$"
      ]
    },
    {
      "cell_type": "code",
      "metadata": {
        "id": "cgDuw57DowWl",
        "colab_type": "code",
        "colab": {
          "base_uri": "https://localhost:8080/",
          "height": 170
        },
        "outputId": "07c6f473-9b12-4e3d-f662-75b072f4c610"
      },
      "source": [
        "def minor(A, i):\n",
        "  return np.delete(np.delete(A,0,axis=0),i,axis=1)\n",
        "j=int(input())\n",
        "k=int(input())\n",
        "l=int(input())\n",
        "ma=np.arange(j).reshape(k,l)\n",
        "print(ma)\n",
        "ik=int(input())\n",
        "minor(ma,ik)\n"
      ],
      "execution_count": null,
      "outputs": [
        {
          "output_type": "stream",
          "text": [
            "9\n",
            "3\n",
            "3\n",
            "[[0 1 2]\n",
            " [3 4 5]\n",
            " [6 7 8]]\n",
            "1\n"
          ],
          "name": "stdout"
        },
        {
          "output_type": "execute_result",
          "data": {
            "text/plain": [
              "array([[3, 5],\n",
              "       [6, 8]])"
            ]
          },
          "metadata": {
            "tags": []
          },
          "execution_count": 64
        }
      ]
    },
    {
      "cell_type": "markdown",
      "metadata": {
        "id": "iD0m17LHpMF6",
        "colab_type": "text"
      },
      "source": [
        "###5.2\n",
        "Given a square matrix $A$, write a function that computes and return the determinant using the formula given above and the helper function that you have defined called ```minor```. <br>\n",
        "(Do not use the functions to compute determinant which numpy provides built in)"
      ]
    },
    {
      "cell_type": "code",
      "metadata": {
        "id": "9Pd5AIYHpY7K",
        "colab_type": "code",
        "colab": {
          "base_uri": "https://localhost:8080/",
          "height": 238
        },
        "outputId": "144b35cd-bfc0-4edb-bb3b-956e62566ebc"
      },
      "source": [
        "import numpy as np\n",
        "def determinant(A):\n",
        " n=len(A)\n",
        " temp=[0]*n\n",
        " total=1\n",
        " det=1\n",
        "\n",
        " for i in range(0,n):\n",
        "   index=i\n",
        "\n",
        "   while(A[index][i]==0 and index<n):\n",
        "     index+=1\n",
        "   if(index==n):\n",
        "     continue\n",
        "   if(index!=i):\n",
        "     for j in range(0,n):\n",
        "       A[index][j],A[i][j]=A[i][j],A[index][j]\n",
        "\n",
        "     det=det*int(pow(-1,index-i))\n",
        "\n",
        "   for j in range(0,n):\n",
        "     temp[j]=A[i][j]\n",
        "\n",
        "   for j in range(i+1,n):\n",
        "     num1=temp[i]\n",
        "     num2=A[j][i]\n",
        "\n",
        "     for k in range(0,n):\n",
        "\n",
        "       A[j][k]=(num1*A[j][k])-(num2*temp[k])\n",
        "     total=total*num1\n",
        "\n",
        "   for i in range(0,n):\n",
        "     det=det*A[i][i]\n",
        "\n",
        "   return int(det/total)\n",
        "\n",
        "\n",
        "matrix=[]\n",
        "m=int(input())\n",
        "n=int(input())\n",
        "for i in range(0,m):\n",
        "  matrix+=[0]\n",
        "for i in range(0,m):\n",
        "  matrix[i]=[0]*n\n",
        "for i in range(0,m):\n",
        "  for j in range(0,n):\n",
        "    matrix[i][j]=int(input())\n",
        "print(matrix)\n",
        "k=determinant(matrix)\n",
        "print(f'Determinant is ->{k}')"
      ],
      "execution_count": null,
      "outputs": [
        {
          "output_type": "stream",
          "text": [
            "3\n",
            "3\n",
            "1\n",
            "2\n",
            "3\n",
            "2\n",
            "1\n",
            "2\n",
            "0\n",
            "0\n",
            "2\n",
            "[[1, 2, 3], [2, 1, 2], [0, 0, 2]]\n",
            "Determinant is ->-6\n"
          ],
          "name": "stdout"
        }
      ]
    }
  ]
}