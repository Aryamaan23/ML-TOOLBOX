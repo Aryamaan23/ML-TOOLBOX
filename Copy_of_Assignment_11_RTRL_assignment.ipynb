{
  "nbformat": 4,
  "nbformat_minor": 0,
  "metadata": {
    "colab": {
      "name": "Copy of Assignment 11 - RTRL_assignment.ipynb",
      "provenance": [],
      "collapsed_sections": [],
      "include_colab_link": true
    },
    "language_info": {
      "codemirror_mode": {
        "name": "ipython",
        "version": 3
      },
      "file_extension": ".py",
      "mimetype": "text/x-python",
      "name": "python",
      "nbconvert_exporter": "python",
      "pygments_lexer": "ipython3",
      "version": "3.6.8"
    },
    "kernelspec": {
      "display_name": "Python 3",
      "language": "python",
      "name": "python3"
    }
  },
  "cells": [
    {
      "cell_type": "markdown",
      "metadata": {
        "id": "view-in-github",
        "colab_type": "text"
      },
      "source": [
        "<a href=\"https://colab.research.google.com/github/Aryamaan23/ML-TOOLBOX/blob/master/Copy_of_Assignment_11_RTRL_assignment.ipynb\" target=\"_parent\"><img src=\"https://colab.research.google.com/assets/colab-badge.svg\" alt=\"Open In Colab\"/></a>"
      ]
    },
    {
      "cell_type": "code",
      "metadata": {
        "colab_type": "code",
        "id": "1v5uaG1y8Xej",
        "colab": {}
      },
      "source": [
        "import numpy as np"
      ],
      "execution_count": null,
      "outputs": []
    },
    {
      "cell_type": "markdown",
      "metadata": {
        "colab_type": "text",
        "id": "uPmjYRjS_IIW"
      },
      "source": [
        ""
      ]
    },
    {
      "cell_type": "markdown",
      "metadata": {
        "colab_type": "text",
        "id": "wbnRJwqF7fdG"
      },
      "source": [
        "### Generate Data\n",
        "Create a function that randomly gives either +1 or -1 as input"
      ]
    },
    {
      "cell_type": "code",
      "metadata": {
        "colab_type": "code",
        "deletable": false,
        "id": "vsaoR-wSmPJO",
        "nbgrader": {
          "checksum": "1651ae8afcc6dcc88c858e6296ccd4bc",
          "grade": false,
          "grade_id": "cell-cc93df67671177ac",
          "locked": false,
          "schema_version": 1,
          "solution": true
        },
        "colab": {}
      },
      "source": [
        "def create_u():\n",
        "  \"\"\"\n",
        "  Inputs:\n",
        "    None\n",
        "  Outputs:\n",
        "    u: +1 or -1 randomly generated\n",
        "  \"\"\"\n",
        "  # YOUR CODE HERE\n",
        "  ### BEGIN SOLUTION\n",
        "  x = np.random.rand(1,)\n",
        "  if (x<=0.5):\n",
        "    u = 1\n",
        "  else:\n",
        "    u = -1\n",
        "  ### END SOLUTION\n",
        "  return u"
      ],
      "execution_count": null,
      "outputs": []
    },
    {
      "cell_type": "markdown",
      "metadata": {
        "colab_type": "text",
        "id": "Os7QHguQ_5PN"
      },
      "source": [
        "#### Desired data\n",
        "$y(t+1) = ay(t) + by(t-1) + cu(t) $"
      ]
    },
    {
      "cell_type": "code",
      "metadata": {
        "colab_type": "code",
        "deletable": false,
        "editable": false,
        "id": "IbW2xPZ08Kqw",
        "nbgrader": {
          "checksum": "d30a00b6c2d041c62d5161f85d0aaeb9",
          "grade": true,
          "grade_id": "cell-871610e2e68d8f23",
          "locked": true,
          "points": 0,
          "schema_version": 1,
          "solution": false
        },
        "colab": {}
      },
      "source": [
        "\"\"\"Test for create_u\"\"\"\n",
        "u = create_u()\n",
        "assert u==1 or u== -1\n"
      ],
      "execution_count": null,
      "outputs": []
    },
    {
      "cell_type": "code",
      "metadata": {
        "colab_type": "code",
        "deletable": false,
        "id": "JD2mDTRd_Xoo",
        "nbgrader": {
          "checksum": "1716396c6b561e0d8a41450db7cc3de5",
          "grade": false,
          "grade_id": "cell-84733d6e73b7098a",
          "locked": false,
          "schema_version": 1,
          "solution": true
        },
        "colab": {}
      },
      "source": [
        "def generate_data(timesteps, w0, w1, w2):\n",
        "  \"\"\"\n",
        "  Inputs:\n",
        "    timesteps: int, number of timesteps of data\n",
        "  Outputs:\n",
        "    u: numpy array with each element +1 or -1 of shape (timesteps, )\n",
        "    yd: numpy array with each element computed using above equation of shape (timesteps, )\n",
        "  \"\"\"\n",
        "  ### BEGIN SOLUTION\n",
        "  u = np.array([create_u() for i in range(timesteps) ])\n",
        "  yd = np.zeros((timesteps+1,))\n",
        "  for j in range(1, timesteps):\n",
        "    yd[j+1] = w0*yd[j] + w1*yd[j-1] + w2*u[j]\n",
        "  ### END SOLUTION\n",
        "  return u, yd\n"
      ],
      "execution_count": null,
      "outputs": []
    },
    {
      "cell_type": "code",
      "metadata": {
        "colab_type": "code",
        "id": "gKLXgraGBL7y",
        "colab": {}
      },
      "source": [
        "### Generate u, yd\n",
        "u, yd = generate_data(10000, 1.1, -0.3, 0.5)"
      ],
      "execution_count": null,
      "outputs": []
    },
    {
      "cell_type": "markdown",
      "metadata": {
        "colab_type": "text",
        "id": "34oI6R4w9w8n"
      },
      "source": [
        "### Define the model that we are going to train\n",
        "$y(t+1) = w_0y(t) + w_1y(t-1) + w_2u(t)$"
      ]
    },
    {
      "cell_type": "code",
      "metadata": {
        "colab_type": "code",
        "deletable": false,
        "id": "FSyKKg5cnEks",
        "nbgrader": {
          "checksum": "f8d5b6a3070ea3e10b4ff6e7f803d087",
          "grade": false,
          "grade_id": "cell-86b766d4317dbbdb",
          "locked": false,
          "schema_version": 1,
          "solution": true
        },
        "colab": {}
      },
      "source": [
        "def get_y_tplus1(w, yt, ytminus1, u):\n",
        "  \"\"\"\n",
        "  Inputs:\n",
        "    w: numpy array of weights of shape (3, )\n",
        "    yt: float, y value at time t\n",
        "    ytminus1: float, y value at time t - 1\n",
        "    u: input at time t\n",
        "  Outputs:\n",
        "    y_tplus1: float, y at t+1\n",
        "  \"\"\"\n",
        "  ### BEGIN SOLUTION\n",
        "  y_tplus1 = w[0]*yt + w[1]*ytminus1 + w[2]*u \n",
        "  ### END SOLUTION\n",
        "  return y_tplus1"
      ],
      "execution_count": null,
      "outputs": []
    },
    {
      "cell_type": "markdown",
      "metadata": {
        "colab_type": "text",
        "id": "2oDbB5_vC0EK"
      },
      "source": [
        "### Forward propagation of gradients\n",
        "We propagate the gradients forwards using the following recurrence relations\n",
        "$$\n",
        "\\frac{\\partial y(t+1)}{\\partial w_0} = w_0\\frac{\\partial y(t)}{\\partial w_0} + y(t) + w_1\\frac{\\partial y(t-1)}{\\partial w_0}\n",
        "$$\n",
        "<br><br>\n",
        "$$\n",
        "\\frac{\\partial y(t+1)}{\\partial w_1} = w_0\\frac{\\partial y(t)}{\\partial w_1} + y(t-1) + w_1\\frac{\\partial y(t-1)}{\\partial w_1} \\\\\n",
        "$$\n",
        "<br><br>\n",
        "$$\n",
        "\\frac{\\partial y(t+1)}{\\partial w_2} = w_0\\frac{\\partial y(t)}{\\partial w_2} +  w_1\\frac{\\partial y(t-1)}{\\partial w_2} + u(t) \n",
        "$$\n",
        "<br><br>\n",
        "pwj1 is a matrix $\\frac{\\partial y(t)}{\\partial w} =\n",
        "[\\frac{\\partial y(t)}{\\partial w_0}, \\frac{\\partial y(t)}{\\partial w_1}, \\frac{\\partial y(t)}{\\partial w_2}]$\n",
        "<br><br>\n",
        "pwj0 is a matrix $\\frac{\\partial y(t-1)}{\\partial w} =\n",
        "[\\frac{\\partial y(t-1)}{\\partial w_0}, \\frac{\\partial y(t-1)}{\\partial w_1}, \\frac{\\partial y(t-1)}{\\partial w_2}]$\n",
        "<br><br>\n",
        "pwj2 is a matrix $\\frac{\\partial y(t+1)}{\\partial w} =\n",
        "[\\frac{\\partial y(t+1)}{\\partial w_0}, \\frac{\\partial y(t+1)}{\\partial w_1}, \\frac{\\partial y(t+1)}{\\partial w_2}]$"
      ]
    },
    {
      "cell_type": "code",
      "metadata": {
        "colab_type": "code",
        "deletable": false,
        "id": "zbFBIlifn5lX",
        "nbgrader": {
          "checksum": "0280231a78fcf674b6208e66820bd7f0",
          "grade": false,
          "grade_id": "cell-7390ab5cf7b116bb",
          "locked": false,
          "schema_version": 1,
          "solution": true
        },
        "colab": {}
      },
      "source": [
        "def forward_prop_weights(w, yt, ytminus1, u, pwj1, pwj0):\n",
        "  \"\"\"\n",
        "  Inputs:\n",
        "    w: numpy array of weights [w0, w1, w2]\n",
        "    yt: float, y value at time t\n",
        "    ytminus1: float, y value at time t - 1\n",
        "    u: input at time t\n",
        "    pwj1: numpy array of shape (3, ) as described above\n",
        "    pwj0: numpy array of shape (3, ) as described above\n",
        "  Outputs:\n",
        "    pwj2: numpy array of shape (3, ) as described above\n",
        "  \"\"\"  \n",
        "  ### BEGIN SOLUTION\n",
        "  a = w[0]*pwj1[0] + yt + w[1]*pwj0[0]\n",
        "  \n",
        "  b = w[0]*pwj1[1] + ytminus1 + w[1]*pwj0[1]\n",
        "  \n",
        "  c = w[0]*pwj1[2] + u + w[1]*pwj0[2]\n",
        "  pwj2 = [a, b, c]\n",
        "  ### END SOLUTION\n",
        "  return pwj2"
      ],
      "execution_count": null,
      "outputs": []
    },
    {
      "cell_type": "markdown",
      "metadata": {
        "colab_type": "text",
        "id": "FH0wlubaHPd9"
      },
      "source": [
        "### Weight update - Gradient descent\n",
        "$E = \\frac{1}{2}(y_d - y)^2$ <br>\n",
        "$w_{new} = w_{old} - \\eta\\frac{\\partial E}{\\partial w} = w_{old} - \\eta(y_d - y)\\cdot pwj_2$ "
      ]
    },
    {
      "cell_type": "code",
      "metadata": {
        "colab_type": "code",
        "deletable": false,
        "id": "V-yaQxkup6Nw",
        "nbgrader": {
          "checksum": "8f5ccdf85947992875198637b9130f32",
          "grade": false,
          "grade_id": "cell-e535b5f3a7da86e5",
          "locked": false,
          "schema_version": 1,
          "solution": true
        },
        "colab": {}
      },
      "source": [
        "def update_w(w, eta, yd, y, pwj2):\n",
        "  \"\"\"\n",
        "  Inputs:\n",
        "    w: numpy array of weights [w0, w1, w2]\n",
        "    eta: float, learning rate\n",
        "    yd: scalar(float), desired value of y at time t+1\n",
        "    y: scalar(float), predicted value of y at time t+1\n",
        "    pwj2: numpy array of shape(3,) obtained from forward_prop_weights\n",
        "  Outputs:\n",
        "    w_updated: numpy array of shape(3, ), updated weights\n",
        "  \"\"\"\n",
        "  ### BEGIN SOLUTION\n",
        "  for k in range(3):\n",
        "    w[k] = w[k] + eta*(yd - y)*pwj2[k]\n",
        "    \n",
        "  w_updated = w\n",
        "  ### END SOLUTION\n",
        "  return w_updated"
      ],
      "execution_count": null,
      "outputs": []
    },
    {
      "cell_type": "markdown",
      "metadata": {
        "colab_type": "text",
        "id": "AyZmxCP3KQlR"
      },
      "source": [
        "### Cost function (error)\n",
        "$E = \\frac{1}{2}(y_d - y)^2$ <br>\n"
      ]
    },
    {
      "cell_type": "code",
      "metadata": {
        "colab_type": "code",
        "deletable": false,
        "id": "xgd4SRv5qhvW",
        "nbgrader": {
          "checksum": "82686c32385a0612268e17b443c61763",
          "grade": false,
          "grade_id": "cell-9584b422dc13f9be",
          "locked": false,
          "schema_version": 1,
          "solution": true
        },
        "colab": {}
      },
      "source": [
        "def err(yd, y):\n",
        "  \"\"\"\n",
        "  Inputs:\n",
        "    yd: scalar(float), desired value of y at time t+1\n",
        "    y: scalar(float), predicted value of y at time t+1\n",
        "  Outputs:\n",
        "    E: scalar(float), error as described above \n",
        "  \"\"\"\n",
        "  ### BEGIN SOLUTION\n",
        "  e = yd-y\n",
        "  E = 0.5*e*e\n",
        "  ### END SOLUTION\n",
        "  return E"
      ],
      "execution_count": null,
      "outputs": []
    },
    {
      "cell_type": "markdown",
      "metadata": {
        "colab_type": "text",
        "id": "rxyXbrZKLIct"
      },
      "source": [
        "### Apply RTRL"
      ]
    },
    {
      "cell_type": "code",
      "metadata": {
        "colab_type": "code",
        "deletable": false,
        "id": "TFmXL1PZkXPp",
        "nbgrader": {
          "checksum": "89fc666458d91974eab8045c9e4e29f2",
          "grade": false,
          "grade_id": "cell-b8301a978ae6ca0f",
          "locked": false,
          "schema_version": 1,
          "solution": true
        },
        "colab": {}
      },
      "source": [
        "def RTRL(yd, eta, timesteps):\n",
        "  \"\"\"\n",
        "  Inputs:\n",
        "    yd: numpy array of shape(timesteps,) \n",
        "    eta: scalar(float), learning rate\n",
        "    timesteps: int, number of timesteps\n",
        "  Outputs:\n",
        "    west: numpy array of shape(timesteps,3), keeps track of all the updated weights over time\n",
        "    error: numpy array of shape(timesteps,), keeps track of error (as obtained from function err()) over time\n",
        "  \"\"\"\n",
        "  ### BEGIN SOLUTION\n",
        "  y = np.zeros((timesteps+1,))\n",
        "  error = np.zeros((timesteps,))\n",
        "  \n",
        "#   w = 0.01*np.random.rand(3, 1)\n",
        "  w = np.zeros((3, 1))\n",
        "  pw = np.zeros((timesteps+1, 3))\n",
        "  west = np.zeros((timesteps, 3))\n",
        "  \n",
        "  \n",
        "  for j in range (1,iterations):\n",
        "      \n",
        "      y[j+1] = get_y_tplus1(w, y[j], y[j-1], u[j])\n",
        "      \n",
        "      pw[j+1, 0], pw[j+1, 1], pw[j+1, 2] = forward_prop_weights(w, y[j], y[j-1], u[j], pw[j,:], pw[j-1,:])\n",
        "      \n",
        "#       eta = update_eta(pw[j+1, :])\n",
        "      \n",
        "      w = update_w(w, eta, yd[j+1], y[j+1], pw[j+1, :])\n",
        "      \n",
        "      for k in range(3):\n",
        "        west[j,k] = w[k]\n",
        "\n",
        "      error[j] = err(yd[j+1], y[j+1])\n",
        "  ### END SOLUTION    \n",
        "  return west, error"
      ],
      "execution_count": null,
      "outputs": []
    },
    {
      "cell_type": "code",
      "metadata": {
        "colab_type": "code",
        "id": "SYwGeHqirLop",
        "colab": {}
      },
      "source": [
        "def plot_w(west):\n",
        "  plt.plot(west[:,0])\n",
        "  plt.show()\n",
        "  plt.plot(west[:,1])\n",
        "  plt.show()\n",
        "  plt.plot(west[:,2])\n",
        "  plt.show()"
      ],
      "execution_count": null,
      "outputs": []
    },
    {
      "cell_type": "code",
      "metadata": {
        "colab_type": "code",
        "id": "9dbtDLierWhh",
        "colab": {}
      },
      "source": [
        "def plot_err(error):\n",
        "  plt.plot(error)\n",
        "  plt.show()"
      ],
      "execution_count": null,
      "outputs": []
    },
    {
      "cell_type": "code",
      "metadata": {
        "colab_type": "code",
        "id": "SPHeNdBrcR4s",
        "colab": {
          "base_uri": "https://localhost:8080/",
          "height": 1000
        },
        "outputId": "2537e0d1-d9f9-45c0-a2e1-b34019ad1c92"
      },
      "source": [
        "import numpy as np\n",
        "import matplotlib.pyplot as plt\n",
        "\n",
        "eta = 0.005\n",
        "iterations = 10000\n",
        "\n",
        "west, error = RTRL(yd, eta, iterations)\n",
        "\n",
        "plot_w(west)\n",
        "plot_err(error)"
      ],
      "execution_count": null,
      "outputs": [
        {
          "output_type": "display_data",
          "data": {
            "image/png": "[encoded data removed]",
            "text/plain": [
              "<Figure size 432x288 with 1 Axes>"
            ]
          },
          "metadata": {
            "tags": [],
            "needs_background": "light"
          }
        },
        {
          "output_type": "display_data",
          "data": {
            "image/png": "[encoded data removed]",
            "text/plain": [
              "<Figure size 432x288 with 1 Axes>"
            ]
          },
          "metadata": {
            "tags": [],
            "needs_background": "light"
          }
        },
        {
          "output_type": "display_data",
          "data": {
            "image/png": "[encoded data removed]",
            "text/plain": [
              "<Figure size 432x288 with 1 Axes>"
            ]
          },
          "metadata": {
            "tags": [],
            "needs_background": "light"
          }
        },
        {
          "output_type": "display_data",
          "data": {
            "image/png": "[encoded data removed]",
            "text/plain": [
              "<Figure size 432x288 with 1 Axes>"
            ]
          },
          "metadata": {
            "tags": [],
            "needs_background": "light"
          }
        }
      ]
    },
    {
      "cell_type": "code",
      "metadata": {
        "colab_type": "code",
        "id": "3g8bU3PNcjR7",
        "colab": {}
      },
      "source": [
        ""
      ],
      "execution_count": null,
      "outputs": []
    }
  ]
}