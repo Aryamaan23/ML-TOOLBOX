{
  "nbformat": 4,
  "nbformat_minor": 0,
  "metadata": {
    "colab": {
      "name": "Copy of Copy of Quiz 1.ipynb",
      "provenance": [],
      "collapsed_sections": [],
      "include_colab_link": true
    },
    "language_info": {
      "codemirror_mode": {
        "name": "ipython",
        "version": 3
      },
      "file_extension": ".py",
      "mimetype": "text/x-python",
      "name": "python",
      "nbconvert_exporter": "python",
      "pygments_lexer": "ipython3",
      "version": "3.6.8"
    },
    "kernelspec": {
      "display_name": "Python 3",
      "language": "python",
      "name": "python3"
    }
  },
  "cells": [
    {
      "cell_type": "markdown",
      "metadata": {
        "id": "view-in-github",
        "colab_type": "text"
      },
      "source": [
        "<a href=\"https://colab.research.google.com/github/Aryamaan23/ML-TOOLBOX/blob/master/Copy_of_Copy_of_Quiz_1.ipynb\" target=\"_parent\"><img src=\"https://colab.research.google.com/assets/colab-badge.svg\" alt=\"Open In Colab\"/></a>"
      ]
    },
    {
      "cell_type": "markdown",
      "metadata": {
        "id": "k31vy_YlnRdX",
        "colab_type": "text"
      },
      "source": [
        "## Instructions :\n",
        "- Do not change names and signatures of functions\n",
        "- Remove any additional code in the global scope that you write for your own testing."
      ]
    },
    {
      "cell_type": "markdown",
      "metadata": {
        "colab_type": "text",
        "id": "aYEjcdekASUC"
      },
      "source": [
        "#Q. Last element\n",
        "Write a function that returns the last element of a list. <br>\n",
        "Eg., l = [1, 2, 3, 4] <br>\n",
        "last_element(l) -> 4"
      ]
    },
    {
      "cell_type": "code",
      "metadata": {
        "colab_type": "code",
        "deletable": false,
        "id": "KDe_4spkASUE",
        "nbgrader": {
          "checksum": "2f49157fc0486325e9e28c1a88d3c28a",
          "grade": false,
          "grade_id": "last_element",
          "locked": false,
          "schema_version": 1,
          "solution": true
        },
        "colab": {
          "base_uri": "https://localhost:8080/",
          "height": 102
        },
        "outputId": "154ee851-6e49-409e-b9ab-b2d095bfbdb4"
      },
      "source": [
        " def last_element(l):\n",
        "    \n",
        "    \n",
        "    \"\"\"\n",
        "    Input:\n",
        "    l: Python list\n",
        "    \n",
        "    Output:\n",
        "    last element of l\n",
        "    \"\"\"\n",
        "    x=l[-1]\n",
        "    print(x)\n",
        " lst=[]\n",
        " n=(int)(input())\n",
        " for i in range(0,n):\n",
        "   ele=(int)(input())\n",
        "   lst.append(ele)\n",
        " last_element(lst)\n",
        "  "
      ],
      "execution_count": null,
      "outputs": [
        {
          "output_type": "stream",
          "text": [
            "3\n",
            "1\n",
            "2\n",
            "3\n",
            "3\n"
          ],
          "name": "stdout"
        }
      ]
    },
    {
      "cell_type": "markdown",
      "metadata": {
        "colab_type": "text",
        "id": "kd97gmhe0RPt"
      },
      "source": [
        "#Q. List size\n",
        "Write a function that returns the number of elements in a list.<br> \n",
        "Eg., l = [1, 2, 3, 4] <br>\n",
        "num_elements(l) -> 4"
      ]
    },
    {
      "cell_type": "code",
      "metadata": {
        "colab_type": "code",
        "deletable": false,
        "id": "6Y2eLGm2ASUY",
        "nbgrader": {
          "checksum": "83da0368acea577b06ff2d88b39e43c8",
          "grade": false,
          "grade_id": "num_elements",
          "locked": false,
          "schema_version": 1,
          "solution": true
        },
        "colab": {
          "base_uri": "https://localhost:8080/",
          "height": 221
        },
        "outputId": "80b78ca8-e068-4bec-c76e-ab8ec5f0fe88"
      },
      "source": [
        " def num_elements(l):\n",
        "    \"\"\"\n",
        "    Input:\n",
        "      l: Python list\n",
        "    \n",
        "    Output:\n",
        "      number of elements in the list l\n",
        "    \"\"\"\n",
        "    print(len(l))\n",
        "\n",
        " l1=[]\n",
        " n=(int)(input())\n",
        " for i in range(0,n):\n",
        "   ele=(int)(input())\n",
        "   l1.append(ele)\n",
        " num_elements(l1)"
      ],
      "execution_count": null,
      "outputs": [
        {
          "output_type": "stream",
          "text": [
            "10\n",
            "1\n",
            "343\n",
            "23\n",
            "34\n",
            "45\n",
            "32\n",
            "12\n",
            "343\n",
            "12\n",
            "32\n",
            "10\n"
          ],
          "name": "stdout"
        }
      ]
    },
    {
      "cell_type": "markdown",
      "metadata": {
        "colab_type": "text",
        "id": "wjgKip90ASUe"
      },
      "source": [
        "#Q. Reverse list\n",
        "Write a function that reverses a list and returns it. <br>\n",
        "Eg., l = [1, 2, 3, 4] <br>\n",
        "reverse_list(l) -> [4, 3, 2, 1]"
      ]
    },
    {
      "cell_type": "code",
      "metadata": {
        "colab_type": "code",
        "deletable": false,
        "id": "DYbvaIPFASUf",
        "nbgrader": {
          "checksum": "549914a19489ad4d9e90ebf8f6d4d989",
          "grade": false,
          "grade_id": "reverse_list",
          "locked": false,
          "schema_version": 1,
          "solution": true
        },
        "colab": {
          "base_uri": "https://localhost:8080/",
          "height": 119
        },
        "outputId": "f08bb676-446f-439f-e0d9-80f7bc528917"
      },
      "source": [
        "def reverse_list(l):\n",
        "    \"\"\"\n",
        "    Input:\n",
        "      l: Python list\n",
        "\n",
        "    Output:\n",
        "      Python list with elements of l in reverse order\n",
        "    \"\"\"\n",
        "    l.reverse()\n",
        "    print(l)\n",
        "    \n",
        "l1=[]\n",
        "n=(int)(input())\n",
        "for i in range(0,n):\n",
        "  ele=(int)(input())\n",
        "  l1.append(ele)\n",
        "reverse_list(l1)"
      ],
      "execution_count": null,
      "outputs": [
        {
          "output_type": "stream",
          "text": [
            "4\n",
            "1\n",
            "2\n",
            "3\n",
            "4\n",
            "[4, 3, 2, 1]\n"
          ],
          "name": "stdout"
        }
      ]
    },
    {
      "cell_type": "markdown",
      "metadata": {
        "colab_type": "text",
        "id": "gYoXRir2ASUv"
      },
      "source": [
        "#Q. Compress duplicates\n",
        "Write a function that replaces consecutive duplicate elements of list with single element. <br>\n",
        "Eg., l = [a, a, a, b, b, c, a, a, d, d, d, x, x] <br>\n",
        "compress(l) -> [a, b, c, a, d, x]"
      ]
    },
    {
      "cell_type": "code",
      "metadata": {
        "colab_type": "code",
        "deletable": false,
        "id": "hFMTS_2GASUw",
        "nbgrader": {
          "checksum": "ee5734d5706d95c02e4441d7c8327d9d",
          "grade": false,
          "grade_id": "compress",
          "locked": false,
          "schema_version": 1,
          "solution": true
        },
        "colab": {
          "base_uri": "https://localhost:8080/",
          "height": 136
        },
        "outputId": "1e43522e-b8b3-4c6f-e4dd-223db6a17474"
      },
      "source": [
        "def compress(l):\n",
        "    \"\"\"\n",
        "    Input:\n",
        "      l: Python list\n",
        "    Output:\n",
        "      Returns a list with consecutive duplicate elements replaced by a single element\n",
        "    \"\"\"\n",
        "    fl=[]\n",
        "    for n in l:\n",
        "      if n not in fl:\n",
        "        fl.append(n)\n",
        "    print(fl)\n",
        "n=(int)(input())\n",
        "l2=[]\n",
        "for i in range(0,n):\n",
        "   ele=(int)(input())\n",
        "   l2.append(ele)\n",
        "compress(l2)\n",
        "    "
      ],
      "execution_count": null,
      "outputs": [
        {
          "output_type": "stream",
          "text": [
            "ERROR! Session/line number was not unique in database. History logging moved to new session 61\n",
            "4\n",
            "1\n",
            "2\n",
            "2\n",
            "1\n",
            "[1, 2]\n"
          ],
          "name": "stdout"
        }
      ]
    },
    {
      "cell_type": "markdown",
      "metadata": {
        "colab_type": "text",
        "id": "ThQ5ZmDuASU1"
      },
      "source": [
        "#Q. Pack duplicates\n",
        "Write a function that packs consecutive duplicates of list elements into sublists. <br>\n",
        "Eg., l = [1, 1, 1, 2, 2, 3, 3, 4] \\\\\n",
        "pack(l) -> [[1,1,1], [2,2], [3,3], [4]]"
      ]
    },
    {
      "cell_type": "code",
      "metadata": {
        "colab_type": "code",
        "deletable": false,
        "id": "bzht8yx1ASU1",
        "nbgrader": {
          "checksum": "e084b0ca4c51660c9dae713c079f2ff7",
          "grade": false,
          "grade_id": "pack",
          "locked": false,
          "schema_version": 1,
          "solution": true
        },
        "colab": {
          "base_uri": "https://localhost:8080/",
          "height": 187
        },
        "outputId": "0dad4765-8d6f-4bc0-ee70-bd8bfc827d09"
      },
      "source": [
        "from itertools import groupby\n",
        "def pack(l):\n",
        "    \"\"\"\n",
        "    Input:\n",
        "      l: Python list\n",
        "      \n",
        "    Output:\n",
        "      Returns a list with consecutive duplicate elements packed into sublists\n",
        "    \"\"\"\n",
        "    return[list(group) for key,group in groupby(l)]\n",
        "l1=[]\n",
        "n=(int)(input())\n",
        "for i in range(0,n):\n",
        "  ele=(int)(input())\n",
        "  l1.append(ele)\n",
        "pack(l1)\n",
        "\n",
        "    \n",
        "\n",
        "    "
      ],
      "execution_count": null,
      "outputs": [
        {
          "output_type": "stream",
          "text": [
            "8\n",
            "1\n",
            "1\n",
            "1\n",
            "2\n",
            "2\n",
            "3\n",
            "3\n",
            "4\n"
          ],
          "name": "stdout"
        },
        {
          "output_type": "execute_result",
          "data": {
            "text/plain": [
              "[[1, 1, 1], [2, 2], [3, 3], [4]]"
            ]
          },
          "metadata": {
            "tags": []
          },
          "execution_count": 22
        }
      ]
    },
    {
      "cell_type": "markdown",
      "metadata": {
        "colab_type": "text",
        "id": "tD15nvwXASVr"
      },
      "source": [
        "#Q. Rotate list\n",
        " Write a function that rotates a list N places to the left and returns it. It should also work for negative values of n.\n",
        " Examples:<br>\n",
        "  rotate_list([a,b,c,d,e,f,g,h], 3)--> [d,e,f,g,h,a,b,c]\n",
        "   <br> rotate_list([a,b,c,d,e,f,g,h], -2)--> [g,h,a,b,c,d,e,f]"
      ]
    },
    {
      "cell_type": "code",
      "metadata": {
        "colab_type": "code",
        "deletable": false,
        "id": "A35PMaxzASVs",
        "nbgrader": {
          "checksum": "729f44a1ee9fac4c351a7383cdbd77e0",
          "grade": false,
          "grade_id": "cell-59bc9ff73a000360",
          "locked": false,
          "schema_version": 1,
          "solution": true
        },
        "colab": {
          "base_uri": "https://localhost:8080/",
          "height": 204
        },
        "outputId": "ee172262-a6ba-4ea6-a6cb-1161e15d1a6f"
      },
      "source": [
        "\n",
        "def rotate_list(l, n):\n",
        " \"\"\"\n",
        " Input:\n",
        "   l: Python list\n",
        "   n: number of indices by which to rotate the list\n",
        " Ouput:\n",
        "   python list which is l rotated to the left by n places\n",
        " \"\"\"\n",
        " l3=l[0:n]\n",
        " l4=l[n:]\n",
        " return l4+l3\n",
        " \n",
        "l1=[]\n",
        "n1=(int)(input())\n",
        "for i in range(0,n1):\n",
        "  ele=input()\n",
        "  l1.append(ele)\n",
        "n2=(int)(input())\n",
        "rotate_list(l1,n2)\n"
      ],
      "execution_count": null,
      "outputs": [
        {
          "output_type": "stream",
          "text": [
            "8\n",
            "a\n",
            "b\n",
            "c\n",
            "d\n",
            "e\n",
            "f\n",
            "g\n",
            "h\n",
            "-2\n"
          ],
          "name": "stdout"
        },
        {
          "output_type": "execute_result",
          "data": {
            "text/plain": [
              "['g', 'h', 'a', 'b', 'c', 'd', 'e', 'f']"
            ]
          },
          "metadata": {
            "tags": []
          },
          "execution_count": 16
        }
      ]
    },
    {
      "cell_type": "markdown",
      "metadata": {
        "colab_type": "text",
        "id": "t-hSQbSfASWY"
      },
      "source": [
        "#Q. Prime factors \n",
        " Determine the prime factors of a given positive integer<br>\n",
        " Write a function that constructs a flat list containing the prime factors in ascending order and returns it.\n",
        " Example:<br>\n",
        "  prime_factors(315)--> [3, 5, 7]"
      ]
    },
    {
      "cell_type": "code",
      "metadata": {
        "colab_type": "code",
        "deletable": false,
        "id": "Egpbf3xaASWb",
        "nbgrader": {
          "checksum": "b486c5aa8ee4c8befb8d6c0c4ed031e8",
          "grade": false,
          "grade_id": "cell-8a81179106bc95ec",
          "locked": false,
          "schema_version": 1,
          "solution": true
        },
        "colab": {
          "base_uri": "https://localhost:8080/",
          "height": 51
        },
        "outputId": "962e21cd-2c86-43e8-946c-b409538d0e87"
      },
      "source": [
        "\n",
        "import math\n",
        "def prime_factors(n):\n",
        " \"\"\"\n",
        " Input:\n",
        "  n: int\n",
        " Output:\n",
        "  List containing prime factors of n in sorted order\n",
        " \"\"\" \n",
        " l1=[]\n",
        " while(n%2==0):\n",
        "   l1.append(2)\n",
        " for i in range(3,(int)(math.sqrt(n))+1,2):\n",
        "   while(n%i==0):\n",
        "     l1.append(i)\n",
        "     n=n/i\n",
        " l1=list(dict.fromkeys(l1))\n",
        " print(l1)\n",
        "  \n",
        "\n",
        "n=(int)(input())\n",
        "prime_factors(n)\n",
        " \n"
      ],
      "execution_count": null,
      "outputs": [
        {
          "output_type": "stream",
          "text": [
            "315\n",
            "[3, 5, 7]\n"
          ],
          "name": "stdout"
        }
      ]
    }
  ]
}