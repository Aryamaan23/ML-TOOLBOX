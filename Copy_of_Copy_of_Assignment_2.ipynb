{
  "nbformat": 4,
  "nbformat_minor": 0,
  "metadata": {
    "colab": {
      "name": "Copy of Copy of Assignment 2.ipynb",
      "provenance": [],
      "collapsed_sections": [],
      "include_colab_link": true
    },
    "kernelspec": {
      "name": "python3",
      "display_name": "Python 3"
    }
  },
  "cells": [
    {
      "cell_type": "markdown",
      "metadata": {
        "id": "view-in-github",
        "colab_type": "text"
      },
      "source": [
        "<a href=\"https://colab.research.google.com/github/Aryamaan23/ML-TOOLBOX/blob/master/Copy_of_Copy_of_Assignment_2.ipynb\" target=\"_parent\"><img src=\"https://colab.research.google.com/assets/colab-badge.svg\" alt=\"Open In Colab\"/></a>"
      ]
    },
    {
      "cell_type": "markdown",
      "metadata": {
        "id": "85Po9342eFZZ",
        "colab_type": "text"
      },
      "source": [
        "##Q. Min Min Min\n",
        "Write a program that does the following\n",
        "- Takes 3 numbers as input from the user\n",
        "- Finds minimum of the 3 numbers and prints it"
      ]
    },
    {
      "cell_type": "code",
      "metadata": {
        "id": "wPjz3AvIeYPG",
        "colab_type": "code",
        "colab": {
          "base_uri": "https://localhost:8080/",
          "height": 85
        },
        "outputId": "2049cd9f-5f29-422c-d92e-50d00da25a49"
      },
      "source": [
        " a=input()\n",
        " b=input()\n",
        " c=input()\n",
        " if a<b and a<c:\n",
        "   print(f\"Least is {a}\")\n",
        " elif b<a and b<c:\n",
        "   print(f\"Least is {b}\")\n",
        " else:\n",
        "   print(f\"Least is {c}\")\n"
      ],
      "execution_count": null,
      "outputs": [
        {
          "output_type": "stream",
          "text": [
            "2\n",
            "1\n",
            "3\n",
            "Least is 1\n"
          ],
          "name": "stdout"
        }
      ]
    },
    {
      "cell_type": "markdown",
      "metadata": {
        "id": "7GZnA2DVZnfg",
        "colab_type": "text"
      },
      "source": [
        "#Q. Proving Fermat\n",
        "Fermat's last theorem says that there are no positive integers $a, b, c$ such that \n",
        "$$\n",
        "a^n + b^n = c^n\n",
        "$$\n",
        "for any values of $n > 2$\n",
        "- Write a function named ```check_fermat``` that takes four parameters - ```a, b, c``` and ```n``` and checks to see if fermat's theorem holds. If ```n > 2``` and it turns out to be true that \n",
        "$$\n",
        "a^n + b^n = c^n\n",
        "$$ the function should print, \"Oh No! Fermat was wrong!\". Otherwise the function should print, \"No that doesn't work\"\n",
        "- Write a program that takes four inputs from the users - ```a, b, c``` and ```n``` and converts them to integers and uses check_fermat to check whether they violate Fermat's theorem."
      ]
    },
    {
      "cell_type": "code",
      "metadata": {
        "id": "5ca0eTDbZZG4",
        "colab_type": "code",
        "colab": {
          "base_uri": "https://localhost:8080/",
          "height": 102
        },
        "outputId": "36235f0b-98dd-4a99-844b-d48e8c92f680"
      },
      "source": [
        " import math\n",
        " def check_fermat(a,b,c,n):\n",
        "   if(n>2):\n",
        "     if(math.pow(a,n)+math.pow(b,n))==math.pow(c,n):\n",
        "       print(\"Oh No!Fermat was wrong!\")\n",
        "     else:\n",
        "       print(\"No that doesn't work\")\n",
        "\n",
        " a=(int)(input())\n",
        " b=(int)(input())\n",
        " c=(int)(input())\n",
        " n=(int)(input())\n",
        " check_fermat(a,b,c,n)\n"
      ],
      "execution_count": null,
      "outputs": [
        {
          "output_type": "stream",
          "text": [
            "31\n",
            "41\n",
            "51\n",
            "3\n",
            "No that doesn't work\n"
          ],
          "name": "stdout"
        }
      ]
    },
    {
      "cell_type": "markdown",
      "metadata": {
        "id": "htwKREd7bD_g",
        "colab_type": "text"
      },
      "source": [
        "#Q. Potential triangularity\n",
        "If you are given three sticks, you may or may not be able to arrange them in a triangle. For example,if one of the sticks is 12inches long and the other two are  1inch long, it is clear that you will not be able to get the short sticks to meet in the middle. For any three lengths, there is a simple test to see if it is possible to form a triangle. \n",
        "\n",
        "_If any of the three lengths is greater than the sum of the other two, then you cannot form a triangle. Otherwise, you can. (If the sum of two lengths equals the third, they form what is called a “degenerate” triangle or a straight line segment.)_\n",
        "\n",
        "- Write a function named ```is_triangle``` that takes three integers as arguments, and that prints either \"Yes\" or \"No\", depending on whether you can or cannot form a triangle using sticks of given lengths.\n",
        "- Write a function that prompts the user to input three stick lengths, converts them to integers, and uses is_triangle to check whether sitcks with the given lengths can form a triangle. "
      ]
    },
    {
      "cell_type": "code",
      "metadata": {
        "id": "QI1ZvUzLcWSS",
        "colab_type": "code",
        "colab": {
          "base_uri": "https://localhost:8080/",
          "height": 136
        },
        "outputId": "21b51834-54b0-4c0f-b734-4019ddc1d20c"
      },
      "source": [
        " def is_triangle(x,y,z):\n",
        "   if z>(x+y) or y>(x+z) or x>(y+z):\n",
        "     print(\"No\")\n",
        "   elif(z==x+y or y==x+z or x==y+z):\n",
        "     print(\"Degenerate\")\n",
        "   else:\n",
        "     print(\"Yes\")\n",
        " is_triangle(1,2,3)\n",
        " is_triangle(1,2,9)\n",
        " print()\n",
        "\n",
        " ar=(int)(input())\n",
        " br=(int)(input())\n",
        " cr=(int)(input())\n",
        " is_triangle(ar,br,cr)\n",
        "\n",
        "\n",
        "    \n",
        "  "
      ],
      "execution_count": null,
      "outputs": [
        {
          "output_type": "stream",
          "text": [
            "Degenerate\n",
            "No\n",
            "\n",
            "3\n",
            "4\n",
            "5\n",
            "Yes\n"
          ],
          "name": "stdout"
        }
      ]
    },
    {
      "cell_type": "markdown",
      "metadata": {
        "id": "KOR45AN7hL4e",
        "colab_type": "text"
      },
      "source": [
        "#Q. Basic Calculator\n",
        "- Write a function that takes three arguments - ```op1, op2``` and ```operator``` and prints the result ```op1 operator op2```. <br>\n",
        "Eg., for ```op1 = 1```, ```op2 = 2``` and ```operator = '+' ```, the function prints ```3``` as the result (```1 + 2```). <br>\n",
        "Assume that the operator can be one of the following : ```+, -, *, /, %``` <br>\n",
        "- Write a program that takes 3 inputs from the user - two numbers and an operator and uses the calculator function to print the result."
      ]
    },
    {
      "cell_type": "code",
      "metadata": {
        "id": "65ifLibhhM3c",
        "colab_type": "code",
        "colab": {
          "base_uri": "https://localhost:8080/",
          "height": 85
        },
        "outputId": "1b1834c0-8c90-49e1-f42d-980772402834"
      },
      "source": [
        " def basic_calculator(op1,operator,op2):\n",
        "   if(operator=='+'):\n",
        "     print(op1+op2)\n",
        "   elif(operator=='-'):\n",
        "     print(op1-op2)\n",
        "   elif(operator=='*'):\n",
        "     print(op1*op2)\n",
        "   elif(operator=='/'):\n",
        "     print(op1/op2)\n",
        "   elif(operator=='%'):\n",
        "     print(op1%op2)\n",
        "\n",
        " a=(int)(input())\n",
        " b=(int)(input())\n",
        " op=input()\n",
        " basic_calculator(a,op,b)"
      ],
      "execution_count": null,
      "outputs": [
        {
          "output_type": "stream",
          "text": [
            "5\n",
            "2\n",
            "%\n",
            "1\n"
          ],
          "name": "stdout"
        }
      ]
    }
  ]
}