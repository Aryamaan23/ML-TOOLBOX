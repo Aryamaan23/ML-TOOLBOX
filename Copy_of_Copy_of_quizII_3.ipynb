{
  "nbformat": 4,
  "nbformat_minor": 0,
  "metadata": {
    "colab": {
      "name": "Copy of Copy of quizII-3.ipynb",
      "provenance": [],
      "include_colab_link": true
    },
    "kernelspec": {
      "display_name": "Python 3",
      "language": "python",
      "name": "python3"
    },
    "language_info": {
      "codemirror_mode": {
        "name": "ipython",
        "version": 3
      },
      "file_extension": ".py",
      "mimetype": "text/x-python",
      "name": "python",
      "nbconvert_exporter": "python",
      "pygments_lexer": "ipython3",
      "version": "3.7.3"
    }
  },
  "cells": [
    {
      "cell_type": "markdown",
      "metadata": {
        "id": "view-in-github",
        "colab_type": "text"
      },
      "source": [
        "<a href=\"https://colab.research.google.com/github/Aryamaan23/ML-TOOLBOX/blob/master/Copy_of_Copy_of_quizII_3.ipynb\" target=\"_parent\"><img src=\"https://colab.research.google.com/assets/colab-badge.svg\" alt=\"Open In Colab\"/></a>"
      ]
    },
    {
      "cell_type": "markdown",
      "metadata": {
        "id": "7r6IiGWhDjE8",
        "colab_type": "text"
      },
      "source": [
        "Before you turn this problem in, make sure everything runs as expected. First, **Restart and Run All** (in the menubar in colab, select Runtime$\\rightarrow$Restart and Run all) \n",
        "\n",
        "Make sure you only fill in any place that says `YOUR CODE HERE` and do not make any other changes to the code. If you add any code cells for your own testing. Please delete them before submission."
      ]
    },
    {
      "cell_type": "markdown",
      "metadata": {
        "id": "cnkOYnOrDjE_",
        "colab_type": "text"
      },
      "source": [
        "---"
      ]
    },
    {
      "cell_type": "markdown",
      "metadata": {
        "colab_type": "text",
        "id": "qw6YJKWsVaYs"
      },
      "source": [
        "General Instructions:\n",
        "- By array, I mean numpy array\n",
        "- By matrix, I mean a numpy array of 2 dimensions"
      ]
    },
    {
      "cell_type": "markdown",
      "metadata": {
        "colab_type": "text",
        "id": "qx2bzzerVgfK"
      },
      "source": [
        "### 1\n",
        "Given an array of ints length, return an array with the elements \"rotated left\" so {1, 2, 3} yields {2, 3, 1}.\n",
        "\n",
        "\n",
        "rotate_left([1, 2, 3]) → [2, 3, 1] <br>\n",
        "rotate_left([5, 11, 9]) → [11, 9, 5] <br>\n",
        "rotate_left([7, 0, 0, 1]) → [0, 0, 1, 7] "
      ]
    },
    {
      "cell_type": "code",
      "metadata": {
        "colab_type": "code",
        "deletable": false,
        "id": "Debc8OKBTKhf",
        "nbgrader": {
          "cell_type": "code",
          "checksum": "08f8c52d7e5a42c1d4d42cf8d780e3f2",
          "grade": false,
          "grade_id": "cell-7192257fe41672e9",
          "locked": false,
          "schema_version": 3,
          "solution": true,
          "task": false
        },
        "colab": {}
      },
      "source": [
        "import numpy as np\n",
        "def rotate_left(num):\n",
        "  \"\"\"\n",
        "  Inputs:\n",
        "    num : numpy array \n",
        "  \n",
        "  Outputs:\n",
        "    num_rotated : numpy array\n",
        "  \"\"\"\n",
        "  \n",
        "  # YOUR CODE HERE\n",
        "  temp = 0\n",
        "  temp = num[0] # store the 1st no. in the array\n",
        "    \n",
        "  for i in range(len(num)):\n",
        "    if i+1 < len(num):  # because when i = 2, arr[i+1] i.e. arr[3], which is invalid.\n",
        "     num[i] = num[i+1]\n",
        "    \n",
        "  num[len(num)-1] = temp  # assign the temp variable to the last index\n",
        "  num_rotated=num\n",
        "  \n",
        "  \n",
        "  return num_rotated\n"
      ],
      "execution_count": null,
      "outputs": []
    },
    {
      "cell_type": "code",
      "metadata": {
        "deletable": false,
        "editable": false,
        "nbgrader": {
          "cell_type": "code",
          "checksum": "25f69d70928891ff856c31118783b45e",
          "grade": true,
          "grade_id": "cell-7e19fb61098c249e",
          "locked": true,
          "points": 5,
          "schema_version": 3,
          "solution": false,
          "task": false
        },
        "id": "Cn-tc1c_DjFN",
        "colab_type": "code",
        "colab": {
          "base_uri": "https://localhost:8080/",
          "height": 34
        },
        "outputId": "5d8792ce-f242-49ec-9863-d40649ffcef6"
      },
      "source": [
        "num = np.array([2, 4, 8, 2, 88, 3, 4])\n",
        "np.all(rotate_left(num) == np.array([ 4,  8,  2, 88,  3,  4,  2]))\n",
        "print('Test passed', '\\U0001F44D')\n"
      ],
      "execution_count": null,
      "outputs": [
        {
          "output_type": "stream",
          "text": [
            "Test passed 👍\n"
          ],
          "name": "stdout"
        }
      ]
    },
    {
      "cell_type": "code",
      "metadata": {
        "id": "jz3QX1piib3m",
        "colab_type": "code",
        "colab": {
          "base_uri": "https://localhost:8080/",
          "height": 34
        },
        "outputId": "9d8123d4-d30d-4d02-95fd-464154063c15"
      },
      "source": [
        "num = np.array([2, 4, 8, 2, 88, 3, 4])\n",
        "rotate_left(num)\n"
      ],
      "execution_count": null,
      "outputs": [
        {
          "output_type": "execute_result",
          "data": {
            "text/plain": [
              "array([ 4,  8,  2, 88,  3,  4,  2])"
            ]
          },
          "metadata": {
            "tags": []
          },
          "execution_count": 64
        }
      ]
    },
    {
      "cell_type": "code",
      "metadata": {
        "id": "rRxOKsc-n26b",
        "colab_type": "code",
        "colab": {
          "base_uri": "https://localhost:8080/",
          "height": 34
        },
        "outputId": "1359e1c6-aa18-4ed1-ffd0-16da9044202c"
      },
      "source": [
        "num=np.array([1,2,3])\n",
        "rotate_left(num)"
      ],
      "execution_count": null,
      "outputs": [
        {
          "output_type": "execute_result",
          "data": {
            "text/plain": [
              "array([2, 3, 1])"
            ]
          },
          "metadata": {
            "tags": []
          },
          "execution_count": 63
        }
      ]
    },
    {
      "cell_type": "markdown",
      "metadata": {
        "colab_type": "text",
        "id": "ksJwtSkDm72I"
      },
      "source": [
        "### 2\n",
        "Return the number of times that the string \"code\" appears anywhere in the given string, except we'll accept any letter for the 'd', so \"cope\" and \"cooe\" count.\n",
        "\n",
        "\n",
        "count_code('aaacodebbb') → 1 <br>\n",
        "count_code('codexxcode') → 2 <br>\n",
        "count_code('cozexxcope') → 2"
      ]
    },
    {
      "cell_type": "code",
      "metadata": {
        "colab_type": "code",
        "deletable": false,
        "id": "4NpAJwimUWLL",
        "nbgrader": {
          "cell_type": "code",
          "checksum": "8a065b084a37574cfb962bde2e3c5a11",
          "grade": false,
          "grade_id": "cell-8c217996ba4c3e8f",
          "locked": false,
          "schema_version": 3,
          "solution": true,
          "task": false
        },
        "colab": {}
      },
      "source": [
        "import numpy as np\n",
        "import re\n",
        "\n",
        "def count_code(st):\n",
        "  \"\"\"\n",
        "  Inputs:\n",
        "      st: string\n",
        "  Outputs:\n",
        "      cnt: int, number of times 'code' appears in st according to the given specification in the question\n",
        "  \"\"\"\n",
        "  \n",
        "  # YOUR CODE HERE\n",
        "  exp = '^co[a-z|A-Z]e$'\n",
        "  cnt= 0\n",
        "  for i in range(len(st) - 1):\n",
        "    if re.match(exp, st[i:i + 4]):\n",
        "      cnt = cnt + 1\n",
        "  \n",
        "  \n",
        "  return cnt"
      ],
      "execution_count": null,
      "outputs": []
    },
    {
      "cell_type": "code",
      "metadata": {
        "deletable": false,
        "editable": false,
        "nbgrader": {
          "cell_type": "code",
          "checksum": "5f4baf52ed5c5bb2e5a4bae976c3e659",
          "grade": true,
          "grade_id": "cell-c976c83c64b32e11",
          "locked": true,
          "points": 5,
          "schema_version": 3,
          "solution": false,
          "task": false
        },
        "id": "gmp2YEtdDjFc",
        "colab_type": "code",
        "colab": {
          "base_uri": "https://localhost:8080/",
          "height": 34
        },
        "outputId": "b5e3131e-2ca4-4734-8dab-49c6dfd19fdb"
      },
      "source": [
        "st = 'aaacodebbb'\n",
        "assert count_code(st) == 1\n",
        "print('Test passed', '\\U0001F44D')\n"
      ],
      "execution_count": null,
      "outputs": [
        {
          "output_type": "stream",
          "text": [
            "Test passed 👍\n"
          ],
          "name": "stdout"
        }
      ]
    },
    {
      "cell_type": "code",
      "metadata": {
        "id": "AbddZVZaMwoe",
        "colab_type": "code",
        "colab": {
          "base_uri": "https://localhost:8080/",
          "height": 34
        },
        "outputId": "f943ba64-fe95-473a-d5b3-6fa870cd46fa"
      },
      "source": [
        "st1='aaacodebbb'\n",
        "count_code(st1)"
      ],
      "execution_count": null,
      "outputs": [
        {
          "output_type": "execute_result",
          "data": {
            "text/plain": [
              "1"
            ]
          },
          "metadata": {
            "tags": []
          },
          "execution_count": 38
        }
      ]
    },
    {
      "cell_type": "code",
      "metadata": {
        "id": "EguwItFOM433",
        "colab_type": "code",
        "colab": {
          "base_uri": "https://localhost:8080/",
          "height": 34
        },
        "outputId": "708287a5-cf9c-440b-8eb1-c4252af2afd3"
      },
      "source": [
        "st2='codexxcode'\n",
        "count_code(st2)"
      ],
      "execution_count": null,
      "outputs": [
        {
          "output_type": "execute_result",
          "data": {
            "text/plain": [
              "2"
            ]
          },
          "metadata": {
            "tags": []
          },
          "execution_count": 39
        }
      ]
    },
    {
      "cell_type": "code",
      "metadata": {
        "id": "4prY37zFNB3B",
        "colab_type": "code",
        "colab": {
          "base_uri": "https://localhost:8080/",
          "height": 34
        },
        "outputId": "caa85b95-acd6-4dcb-8845-3cfb73b8ddb0"
      },
      "source": [
        "st3='cozexxcope'\n",
        "count_code(st3)"
      ],
      "execution_count": null,
      "outputs": [
        {
          "output_type": "execute_result",
          "data": {
            "text/plain": [
              "2"
            ]
          },
          "metadata": {
            "tags": []
          },
          "execution_count": 40
        }
      ]
    },
    {
      "cell_type": "markdown",
      "metadata": {
        "colab_type": "text",
        "id": "f5CV-roHakcD"
      },
      "source": [
        "### 3\n",
        "Most frequently occuring element in an array\n",
        "\n",
        "Given an array, find the most frequent element in it. If there are multiple elements that appear maximum number of times, print any one of them.\n",
        "\n",
        "Input : arr = [1, 3, 2, 1, 4, 1]\n",
        "Output : 1"
      ]
    },
    {
      "cell_type": "code",
      "metadata": {
        "colab_type": "code",
        "deletable": false,
        "id": "a8SqPu-vUehH",
        "nbgrader": {
          "cell_type": "code",
          "checksum": "fd00a544932aede366df75e7f5007ba9",
          "grade": false,
          "grade_id": "cell-99d7e1295c020be0",
          "locked": false,
          "schema_version": 3,
          "solution": true,
          "task": false
        },
        "colab": {}
      },
      "source": [
        "def most_frequent(arr):\n",
        "    \"\"\"\n",
        "    Inputs:\n",
        "      arr : numpy array of ints\n",
        "\n",
        "    Outputs:\n",
        "      most_freq_el : int, most frequent element in array arr\n",
        "\n",
        "    \"\"\"  \n",
        "    \n",
        "    # YOUR CODE HERE\n",
        "    most_freq_el=np.bincount(arr).argmax()\n",
        "      \n",
        "    \n",
        "    \n",
        "    return most_freq_el"
      ],
      "execution_count": null,
      "outputs": []
    },
    {
      "cell_type": "code",
      "metadata": {
        "deletable": false,
        "editable": false,
        "nbgrader": {
          "cell_type": "code",
          "checksum": "8fa0109e1d48239ab62768cfce62a89c",
          "grade": true,
          "grade_id": "cell-0c501da46598a88e",
          "locked": true,
          "points": 5,
          "schema_version": 3,
          "solution": false,
          "task": false
        },
        "id": "oE0aAGFdDjFl",
        "colab_type": "code",
        "colab": {
          "base_uri": "https://localhost:8080/",
          "height": 34
        },
        "outputId": "c1efb85f-caf3-4aeb-9f5b-db9eab7818b6"
      },
      "source": [
        "arr = [ 1, 5, 2, 1, 3, 2, 1]  \n",
        "assert most_frequent(arr) == 1\n",
        "print('Test passed', '\\U0001F44D')\n"
      ],
      "execution_count": null,
      "outputs": [
        {
          "output_type": "stream",
          "text": [
            "Test passed 👍\n"
          ],
          "name": "stdout"
        }
      ]
    },
    {
      "cell_type": "code",
      "metadata": {
        "id": "iaTfv6wFtDei",
        "colab_type": "code",
        "colab": {
          "base_uri": "https://localhost:8080/",
          "height": 34
        },
        "outputId": "1b299a21-5fa5-44d5-8912-67f17471e2eb"
      },
      "source": [
        "arr=np.array([1,3,2,1,4,1])\n",
        "most_frequent(arr)"
      ],
      "execution_count": null,
      "outputs": [
        {
          "output_type": "execute_result",
          "data": {
            "text/plain": [
              "1"
            ]
          },
          "metadata": {
            "tags": []
          },
          "execution_count": 67
        }
      ]
    },
    {
      "cell_type": "code",
      "metadata": {
        "id": "6okTB7d2tOsz",
        "colab_type": "code",
        "colab": {
          "base_uri": "https://localhost:8080/",
          "height": 34
        },
        "outputId": "5604fc6e-f0f6-408e-bcf7-452ee6174fb0"
      },
      "source": [
        "arr=np.array([1,2,2,2,3,4,5,6,7,7,7,7,8,8,8,8,8,8])\n",
        "most_frequent(arr)"
      ],
      "execution_count": null,
      "outputs": [
        {
          "output_type": "execute_result",
          "data": {
            "text/plain": [
              "8"
            ]
          },
          "metadata": {
            "tags": []
          },
          "execution_count": 68
        }
      ]
    },
    {
      "cell_type": "markdown",
      "metadata": {
        "colab_type": "text",
        "id": "YPP0w13wA9PR"
      },
      "source": [
        "### 4\n",
        "How to find all the local maxima (or peaks) in a 1d array?\n",
        "\n",
        "Find all the peaks in a 1D numpy array a. Peaks are points surrounded by smaller values on both sides. First and last values of an array cannot be peaks\n",
        "\n",
        "Input:\n",
        "\n",
        "arr = [1, 3, 7, 1, 2, 6, 0, 1]\n",
        "\n",
        "Desired Output: [2, 5]"
      ]
    },
    {
      "cell_type": "code",
      "metadata": {
        "colab_type": "code",
        "deletable": false,
        "id": "n15pWoZbl-4y",
        "nbgrader": {
          "cell_type": "code",
          "checksum": "b82e9d0481f6fa3236e5875024b3fafc",
          "grade": false,
          "grade_id": "cell-a3a617509b6c3119",
          "locked": false,
          "schema_version": 3,
          "solution": true,
          "task": false
        },
        "colab": {}
      },
      "source": [
        "import numpy as np\n",
        "from scipy.signal import argrelextrema\n",
        "\n",
        "def local_maxima(arr):\n",
        "    \"\"\"\n",
        "    Inputs:\n",
        "        arr: numpy array\n",
        "    Outputs:\n",
        "        peak_inds : numpy array of indices of arr where peaks occur\n",
        "    \"\"\"\n",
        "    \n",
        "    # YOUR CODE HERE\n",
        "    peak_inds=argrelextrema(arr,np.greater)\n",
        "    return peak_inds"
      ],
      "execution_count": null,
      "outputs": []
    },
    {
      "cell_type": "code",
      "metadata": {
        "id": "Hb1-RjoSKJvy",
        "colab_type": "code",
        "colab": {
          "base_uri": "https://localhost:8080/",
          "height": 34
        },
        "outputId": "acbe2a68-d224-4c2d-bdb3-695caacd62e3"
      },
      "source": [
        "arr=np.array([1,3,7,1,2,6,0,1])\n",
        "local_maxima(arr)"
      ],
      "execution_count": null,
      "outputs": [
        {
          "output_type": "execute_result",
          "data": {
            "text/plain": [
              "(array([2, 5]),)"
            ]
          },
          "metadata": {
            "tags": []
          },
          "execution_count": 34
        }
      ]
    },
    {
      "cell_type": "code",
      "metadata": {
        "deletable": false,
        "editable": false,
        "nbgrader": {
          "cell_type": "code",
          "checksum": "95e5cdaa875edfb1577b4b3b08c8eb72",
          "grade": true,
          "grade_id": "cell-8b8d48b1afb4b815",
          "locked": true,
          "points": 5,
          "schema_version": 3,
          "solution": false,
          "task": false
        },
        "id": "Ox7O380zDjFy",
        "colab_type": "code",
        "colab": {
          "base_uri": "https://localhost:8080/",
          "height": 34
        },
        "outputId": "49926f88-2f24-48ca-f05f-82b3c32e3505"
      },
      "source": [
        "assert np.all(local_maxima(np.array([1, 3, 7, 1, 2, 6, 0, 1])) == np.array([2, 5]))\n",
        "print('Test passed', '\\U0001F44D')\n"
      ],
      "execution_count": null,
      "outputs": [
        {
          "output_type": "stream",
          "text": [
            "Test passed 👍\n"
          ],
          "name": "stdout"
        }
      ]
    },
    {
      "cell_type": "code",
      "metadata": {
        "id": "R3DoIbDYLMmg",
        "colab_type": "code",
        "colab": {
          "base_uri": "https://localhost:8080/",
          "height": 34
        },
        "outputId": "ef7f6b60-d589-42ba-c072-a5553caa4a45"
      },
      "source": [
        "x=np.array([2, 5])\n",
        "print(x)"
      ],
      "execution_count": null,
      "outputs": [
        {
          "output_type": "stream",
          "text": [
            "[2 5]\n"
          ],
          "name": "stdout"
        }
      ]
    },
    {
      "cell_type": "markdown",
      "metadata": {
        "colab_type": "text",
        "id": "m6P7-tNYBUz7"
      },
      "source": [
        "### 5\n",
        "Compute the moving average of n elements of a numpy array <br>\n",
        "Example:\n",
        "\n",
        "array:  [8 8 3 7 7 0 4 2 5 2] <br>\n",
        "moving average for n = 3 :  [ 6.33  6.    5.67  4.67  3.67  2.    3.67  3.  ]"
      ]
    },
    {
      "cell_type": "code",
      "metadata": {
        "deletable": false,
        "nbgrader": {
          "cell_type": "code",
          "checksum": "85ba8f11e15bcaae39b5234055ab125b",
          "grade": false,
          "grade_id": "cell-bae1e1468fb9a800",
          "locked": false,
          "schema_version": 3,
          "solution": true,
          "task": false
        },
        "id": "w7NkytZbDjF2",
        "colab_type": "code",
        "colab": {}
      },
      "source": [
        "import numpy as np\n",
        "def moving_avg(arr, n):\n",
        "    \"\"\"\n",
        "    Inputs:\n",
        "        arr: numpy array\n",
        "        n : int, number of elements to consider while computing moving avg\n",
        "    Outputs:\n",
        "        moving_avg_arr : numpy array, contains moving avgs\n",
        "    \"\"\"\n",
        "    \n",
        "    # YOUR CODE HERE\n",
        "    ret = np.cumsum(arr, dtype=float)\n",
        "    ret[n:] = ret[n:] - ret[:-n]\n",
        "    moving_avg_arr=ret[n - 1:] / n\n",
        "    return moving_avg_arr\n",
        "    "
      ],
      "execution_count": null,
      "outputs": []
    },
    {
      "cell_type": "code",
      "metadata": {
        "colab_type": "code",
        "deletable": false,
        "editable": false,
        "id": "jXEcmrOBBYFL",
        "nbgrader": {
          "cell_type": "code",
          "checksum": "7ca6c6f42c467cd42fafe8a7e2989e9f",
          "grade": true,
          "grade_id": "cell-f11b91c4e232dd4a",
          "locked": true,
          "points": 5,
          "schema_version": 3,
          "solution": false,
          "task": false
        },
        "colab": {
          "base_uri": "https://localhost:8080/",
          "height": 34
        },
        "outputId": "cb5f6e1f-38ef-49b1-ecd2-cdc955828301"
      },
      "source": [
        "assert np.all(np.isclose(moving_avg(np.array([8, 8, 3, 7, 7, 0, 4, 2, 5, 2]), 3), np.array([6.33333333, 6. , 5.66666667, 4.66666667, 3.66666667, 2. , 3.66666667, 3.]), atol = 0.001))\n",
        "print('Test passed', '\\U0001F44D')\n"
      ],
      "execution_count": null,
      "outputs": [
        {
          "output_type": "stream",
          "text": [
            "Test passed 👍\n"
          ],
          "name": "stdout"
        }
      ]
    },
    {
      "cell_type": "code",
      "metadata": {
        "id": "NdFPE0WmFFKr",
        "colab_type": "code",
        "colab": {
          "base_uri": "https://localhost:8080/",
          "height": 51
        },
        "outputId": "ecdcc297-64b2-4ea1-a247-4adbd251eaa7"
      },
      "source": [
        "arr=np.array([8,8,3,7,7,0,4,2,5,2])\n",
        "n=3\n",
        "moving_avg(arr,n)"
      ],
      "execution_count": null,
      "outputs": [
        {
          "output_type": "execute_result",
          "data": {
            "text/plain": [
              "array([6.33333333, 6.        , 5.66666667, 4.66666667, 3.66666667,\n",
              "       2.        , 3.66666667, 3.        ])"
            ]
          },
          "metadata": {
            "tags": []
          },
          "execution_count": 11
        }
      ]
    }
  ]
}