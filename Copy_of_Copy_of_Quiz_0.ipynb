{
  "nbformat": 4,
  "nbformat_minor": 0,
  "metadata": {
    "colab": {
      "name": "Copy of Copy of Quiz 0.ipynb",
      "provenance": [],
      "collapsed_sections": [],
      "include_colab_link": true
    },
    "kernelspec": {
      "name": "python3",
      "display_name": "Python 3"
    }
  },
  "cells": [
    {
      "cell_type": "markdown",
      "metadata": {
        "id": "view-in-github",
        "colab_type": "text"
      },
      "source": [
        "<a href=\"https://colab.research.google.com/github/Aryamaan23/ML-TOOLBOX/blob/master/Copy_of_Copy_of_Quiz_0.ipynb\" target=\"_parent\"><img src=\"https://colab.research.google.com/assets/colab-badge.svg\" alt=\"Open In Colab\"/></a>"
      ]
    },
    {
      "cell_type": "markdown",
      "metadata": {
        "id": "Lv5G81Y0e0Va",
        "colab_type": "text"
      },
      "source": [
        "# Q. Type Compare\n",
        "Write a function that takes any two python objects $a$ and $b$ and returns boolean value ```True``` if they are of the same type and returns ```False``` otherwise"
      ]
    },
    {
      "cell_type": "code",
      "metadata": {
        "id": "Azk7sJ74eeCo",
        "colab_type": "code",
        "colab": {
          "base_uri": "https://localhost:8080/",
          "height": 102
        },
        "outputId": "4c45bc78-8279-4c40-8974-648e10952156"
      },
      "source": [
        "def type_comparator(a, b):\n",
        "  \"\"\"\n",
        "  Inputs:\n",
        "    a: any python object\n",
        "    b: any python object\n",
        "\n",
        "  Outputs:\n",
        "    z: boolean value, True if type of a and type of b are equal; False otherwise\n",
        "  \"\"\"\n",
        "  if type(a)==str and type(b)==str:\n",
        "   print(True)\n",
        "  elif type(a)==bool and type(b)==bool:\n",
        "   print(True)\n",
        "  elif type(a)==int and type(b)==int:\n",
        "   print(True)\n",
        "  elif type(a)==float and type(b)==float:\n",
        "   print(True)\n",
        "  else:\n",
        "   print(False)\n",
        "\n",
        "ar=input()\n",
        "br=(bool)(input())\n",
        "type_comparator(ar,br)\n",
        "print(type(ar))\n",
        "print(type(br))\n"
      ],
      "execution_count": null,
      "outputs": [
        {
          "output_type": "stream",
          "text": [
            "4\n",
            "True\n",
            "False\n",
            "<class 'str'>\n",
            "<class 'bool'>\n"
          ],
          "name": "stdout"
        }
      ]
    },
    {
      "cell_type": "markdown",
      "metadata": {
        "id": "UJ62IBmilirG",
        "colab_type": "text"
      },
      "source": [
        "#Q. Radioactive Decay\n",
        "$m(t) = m_0 e^{-\\lambda t}$ is the expression to compute mass at time t of a radioactive isotope that decays with average lifetime $\\tau$. \\\\\n",
        "Also $\\tau = \\frac{1}{\\lambda}$\n",
        "Given $m_0, \\tau$ and $t$ write a function that computes $m(t)$"
      ]
    },
    {
      "cell_type": "code",
      "metadata": {
        "id": "a0T1Amhyq9Pl",
        "colab_type": "code",
        "colab": {
          "base_uri": "https://localhost:8080/",
          "height": 85
        },
        "outputId": "693e6c97-2be7-421f-8f35-504ee0ccc1ec"
      },
      "source": [
        "import math\n",
        "def m_t_rad_decay(m_0, tau, t):\n",
        "  \"\"\"\n",
        "  Inputs:\n",
        "    m_0 : Float, mass of initial radioactive material in g\n",
        "    tau : Float, average lifetime in seconds\n",
        "    t : Time elapsed in seconds\n",
        "\n",
        "  Ouptus:\n",
        "    m_t : Float, mass of radioactive material at time t\n",
        "  \"\"\"\n",
        "  \n",
        "\n",
        "  m_t=m_0*(math.pow(math.e,tau/t))\n",
        "  print(m_t)\n",
        "\n",
        "m_01=(float)(input())\n",
        "tau1=(float)(input())\n",
        "t1=(float)(input())\n",
        "m_t_rad_decay(m_01,tau1,t1)"
      ],
      "execution_count": null,
      "outputs": [
        {
          "output_type": "stream",
          "text": [
            "12\n",
            "2\n",
            "10\n",
            "14.65683309792204\n"
          ],
          "name": "stdout"
        }
      ]
    },
    {
      "cell_type": "markdown",
      "metadata": {
        "id": "QUDRS0GKjGUn",
        "colab_type": "text"
      },
      "source": [
        "#Q. Parametrized Pattern\n",
        "Write a function that takes a character ```s```, number of rows and number of columns and returns a string that when printed looks like this (Here, the string ```s``` is ```'a'```, number of rows is 4, number of columns is 3)  \\\\\n",
        "<img src = \"https://drive.google.com/uc?id=1KYkpsrztLbScMmNc9q_lDiTEM-kK03zX\">"
      ]
    },
    {
      "cell_type": "code",
      "metadata": {
        "id": "VXkit39Jelv8",
        "colab_type": "code",
        "colab": {
          "base_uri": "https://localhost:8080/",
          "height": 289
        },
        "outputId": "45a6ba70-c467-43da-9926-5ca6655192ff"
      },
      "source": [
        "def pattern_gen(s, rows, cols):\n",
        "  \"\"\"\n",
        "  Inputs:\n",
        "    s : string of length 1, character that will be repeated in the pattern\n",
        "    rows: int, Number of cells in a row\n",
        "    cos : int, Number of cells in a column\n",
        "  \n",
        "  Outputs:\n",
        "    pattern: string, contains the pattern string\n",
        "  \"\"\"\n",
        "def first(rows):\n",
        "  print(\"|\",end=\" \")\n",
        "  for i in range(a-2):\n",
        "    print(\"----|\",end=\" \")\n",
        "  print(\"----|\")\n",
        "\n",
        " \n",
        "def second(rows):\n",
        "  print(\"|\",end=\" \")\n",
        "  for i in range(a-2):\n",
        "    print(\"    |\",end=\" \")###Sir in this code I am not able to insert the string inside the grid.I tried it many times\n",
        "                          ### but sometimes the string is going out of the grid or the grid is becoming trucket after\n",
        "                          ###insertion of the string.Please share the code of this program.\n",
        "  print(\"    |\")\n",
        "\n",
        "def fun(a,b,st):\n",
        "  first(a)\n",
        "  for i in range(b+1):\n",
        "    for i in range(2):\n",
        "      second(a)\n",
        "    first(a)\n",
        "\n",
        "a=(int)(input())\n",
        "b=(int)(input())\n",
        "s=input()\n",
        "fun(a,b,s)\n",
        "\n",
        "  "
      ],
      "execution_count": null,
      "outputs": [
        {
          "output_type": "stream",
          "text": [
            "4\n",
            "3\n",
            "a\n",
            "| ----| ----| ----|\n",
            "|     |     |     |\n",
            "|     |     |     |\n",
            "| ----| ----| ----|\n",
            "|     |     |     |\n",
            "|     |     |     |\n",
            "| ----| ----| ----|\n",
            "|     |     |     |\n",
            "|     |     |     |\n",
            "| ----| ----| ----|\n",
            "|     |     |     |\n",
            "|     |     |     |\n",
            "| ----| ----| ----|\n"
          ],
          "name": "stdout"
        }
      ]
    }
  ]
}