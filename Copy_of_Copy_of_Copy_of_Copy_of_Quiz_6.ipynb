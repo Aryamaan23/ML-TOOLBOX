{
  "nbformat": 4,
  "nbformat_minor": 0,
  "metadata": {
    "colab": {
      "name": "Copy of Copy of Copy of Copy of Quiz 6.ipynb",
      "provenance": [],
      "collapsed_sections": [],
      "include_colab_link": true
    },
    "kernelspec": {
      "name": "python3",
      "display_name": "Python 3"
    }
  },
  "cells": [
    {
      "cell_type": "markdown",
      "metadata": {
        "id": "view-in-github",
        "colab_type": "text"
      },
      "source": [
        "<a href=\"https://colab.research.google.com/github/Aryamaan23/ML-TOOLBOX/blob/master/Copy_of_Copy_of_Copy_of_Copy_of_Quiz_6.ipynb\" target=\"_parent\"><img src=\"https://colab.research.google.com/assets/colab-badge.svg\" alt=\"Open In Colab\"/></a>"
      ]
    },
    {
      "cell_type": "markdown",
      "metadata": {
        "id": "K9j4zEnj7YMX",
        "colab_type": "text"
      },
      "source": [
        "### IMPORTANT INSTRUCTIONS\n",
        "- The test cases only check type and structure of values returned by functions. So their correctness does not imply the correctness of your solutions.\n"
      ]
    },
    {
      "cell_type": "markdown",
      "metadata": {
        "id": "RtaUy7XwIrPV",
        "colab_type": "text"
      },
      "source": [
        "## Modelling $e^x$\n",
        "$y = f(x) = e^x$  \n",
        "\n",
        "Approximate this function with a linear function of the form\n",
        "$y = w_0 + w_1sin(\\frac{x*\\pi}{2}) + w_2sin(\\frac{2*x*\\pi}{2}) + w_3cos(\\frac{x*\\pi}{2}) + w_4cos(\\frac{2*x*\\pi}{2}) + \\ldots$\n",
        "\n",
        "in the range $x \\in (1, 3)$"
      ]
    },
    {
      "cell_type": "code",
      "metadata": {
        "id": "k0Sb-f1PKlua",
        "colab_type": "code",
        "colab": {}
      },
      "source": [
        "import numpy as np\n",
        "import matplotlib.pyplot as plt"
      ],
      "execution_count": null,
      "outputs": []
    },
    {
      "cell_type": "markdown",
      "metadata": {
        "id": "gBPneTJNKgIL",
        "colab_type": "text"
      },
      "source": [
        "##1. Generate Data\n"
      ]
    },
    {
      "cell_type": "markdown",
      "metadata": {
        "id": "P1W-atrtM-fU",
        "colab_type": "text"
      },
      "source": [
        "###1.1 \n",
        "Write a function that takes a parameter $x$ (float or array of floats) and computes $y = f(x) = e^x$ (float if $x$ is a float, array of floats if $x$ is array of floats)  "
      ]
    },
    {
      "cell_type": "code",
      "metadata": {
        "id": "iti0uCKfKamh",
        "colab_type": "code",
        "colab": {}
      },
      "source": [
        "def fx(x):\n",
        "  '''\n",
        "  Input:\n",
        "    x : float (scalar) or np array\n",
        "  Ouptut:\n",
        "    y : float (scalar) or np array\n",
        "\n",
        "  '''\n",
        "  ### Write your code here\n",
        "  y=np.exp(x)\n",
        "  return y"
      ],
      "execution_count": null,
      "outputs": []
    },
    {
      "cell_type": "code",
      "metadata": {
        "id": "dFE1rEcB70fU",
        "colab_type": "code",
        "colab": {
          "base_uri": "https://localhost:8080/",
          "height": 34
        },
        "outputId": "3c503f8f-ba4e-4475-cfb3-87e6da01378c"
      },
      "source": [
        "\"\"\"Testing code\"\"\"\n",
        "if __name__ == \"__main__\":\n",
        "  y = fx(1.2)\n",
        "  assert y/y == 1.0\n",
        "  print(\"Test passed\")"
      ],
      "execution_count": null,
      "outputs": [
        {
          "output_type": "stream",
          "text": [
            "Test passed\n"
          ],
          "name": "stdout"
        }
      ]
    },
    {
      "cell_type": "markdown",
      "metadata": {
        "id": "sAcLccUhMmFU",
        "colab_type": "text"
      },
      "source": [
        "###1.2\n",
        "Write a function that takes a parameter $n$ and generates $n$ random points in the range $(1, 3)$ $\\rightarrow$ $x$ <br>\n",
        "Using ```fx``` defined earlier, it also generates $yd$ corresponding to these n points and returns both $x$ and $yd$"
      ]
    },
    {
      "cell_type": "code",
      "metadata": {
        "id": "YjIjtN2sNvSv",
        "colab_type": "code",
        "colab": {}
      },
      "source": [
        "def generate_points(n):\n",
        "  '''\n",
        "  Inputs:\n",
        "    n : int, Number of random points\n",
        "  \n",
        "  Outputs:\n",
        "    x : array of floats, random points in the range (1, 3)\n",
        "    yd : array of floats, e^x for values in x\n",
        "  '''\n",
        "  ### Write your code here\n",
        "  x = np.random.rand(n)*2 + 1\n",
        "  yd = fx(x)\n",
        "  return x, yd"
      ],
      "execution_count": null,
      "outputs": []
    },
    {
      "cell_type": "code",
      "metadata": {
        "id": "7otzDFJY8Bz4",
        "colab_type": "code",
        "colab": {
          "base_uri": "https://localhost:8080/",
          "height": 34
        },
        "outputId": "6aa6fdea-24dc-46eb-c52d-2b9031026099"
      },
      "source": [
        "\"\"\"Testing code\"\"\"\n",
        "if __name__ == \"__main__\":\n",
        "  x, yd = generate_points(10)\n",
        "  assert x.shape == (10, )\n",
        "  assert yd.shape == (10, )\n",
        "  print(\"Test passed\")"
      ],
      "execution_count": null,
      "outputs": [
        {
          "output_type": "stream",
          "text": [
            "Test passed\n"
          ],
          "name": "stdout"
        }
      ]
    },
    {
      "cell_type": "markdown",
      "metadata": {
        "id": "OArMS_O4Rlcu",
        "colab_type": "text"
      },
      "source": [
        "##2. Training\n",
        "We will now define a linear model to estimate the above function, and it will train with all the data."
      ]
    },
    {
      "cell_type": "markdown",
      "metadata": {
        "id": "XWRLIaDRR1Fm",
        "colab_type": "text"
      },
      "source": [
        "### 2.1 \n",
        "Define model\n",
        "$y = w_0 + \\sum_{d=1}^D w_d sin(\\frac{d\\pi x}{2}) + \\sum_{d=D+1}^{2D} w_d cos(\\frac{(d - D)\\pi x}{2})$, here, $D$ is the degree of the model, say D=2 <br />\n",
        "\n",
        "In matrix representation: y = Aw <br/>"
      ]
    },
    {
      "cell_type": "code",
      "metadata": {
        "id": "oNZ8y0UTN2zs",
        "colab_type": "code",
        "colab": {}
      },
      "source": [
        "import math\n",
        "def createA(x, D):\n",
        "    '''\n",
        "    Create the matrix A with degree D\n",
        "    Input:\n",
        "        x: np array of shape (N,)\n",
        "        D: degree of the model\n",
        "    Output:\n",
        "        A: np matrix of shape (N,2D+1)\n",
        "    '''\n",
        "    ### Write your code here\n",
        "    N = x.shape[0]\n",
        "    cols = [np.ones(N).reshape(-1, 1)]\n",
        "    for d in range(1, D+1):\n",
        "      cols.append(np.sin(d*np.pi*x/2).reshape(-1, 1))\n",
        "    for d in range(D+1, 2*D+1):\n",
        "      cols.append(np.cos((d-D)*np.pi*x/2).reshape(-1, 1))\n",
        "    return np.hstack(cols)\n",
        "    "
      ],
      "execution_count": null,
      "outputs": []
    },
    {
      "cell_type": "code",
      "metadata": {
        "id": "0NWK4lRg8OKU",
        "colab_type": "code",
        "colab": {
          "base_uri": "https://localhost:8080/",
          "height": 34
        },
        "outputId": "85a5f0d0-6583-4ad9-ea5b-225a7791bde0"
      },
      "source": [
        "\"\"\"Testing code\"\"\"\n",
        "if __name__ == \"__main__\":\n",
        "  x = np.arange(10)\n",
        "  A = createA(x, 2)\n",
        "  assert A.shape == (x.shape[0], 5)\n",
        "  print(\"Test passed\")"
      ],
      "execution_count": null,
      "outputs": [
        {
          "output_type": "stream",
          "text": [
            "Test passed\n"
          ],
          "name": "stdout"
        }
      ]
    },
    {
      "cell_type": "markdown",
      "metadata": {
        "id": "dOt69npU4xSG",
        "colab_type": "text"
      },
      "source": [
        "###2.2 Estimate weights\n",
        "Train using least-square solution (pseudo-inverse) and min-norm solution that are used to train linear models."
      ]
    },
    {
      "cell_type": "code",
      "metadata": {
        "id": "FzUi6s6G4-6A",
        "colab_type": "code",
        "colab": {}
      },
      "source": [
        "def train_w(A, yd):\n",
        "    '''\n",
        "    Inputs:\n",
        "        A: np array of shape (N,2D+1)\n",
        "        yd: np array of shape (N,)\n",
        "    Output:\n",
        "        w: np array of shape (2D+1,)\n",
        "    '''\n",
        "    ### Write your code here\n",
        "    N=yd.shape[0]\n",
        "    D=(A.shape[1]-1)/2\n",
        "    if N>D+1:\n",
        "      w=np.linalg.inv(A.T.dot(A)).dot(A.T).dot(yd)\n",
        "    elif N<=D+1:\n",
        "      w=A.T.dot(np.linalg.inv(A.dot(A.T))).dot(yd)\n",
        "    return w"
      ],
      "execution_count": null,
      "outputs": []
    },
    {
      "cell_type": "code",
      "metadata": {
        "id": "9fi6QbxlXE51",
        "colab_type": "code",
        "colab": {}
      },
      "source": [
        ""
      ],
      "execution_count": null,
      "outputs": []
    },
    {
      "cell_type": "code",
      "metadata": {
        "id": "Ehdh_wGu8wY0",
        "colab_type": "code",
        "colab": {
          "base_uri": "https://localhost:8080/",
          "height": 34
        },
        "outputId": "7b61b459-f838-4900-a5ed-6299c9f53faf"
      },
      "source": [
        "\"\"\"Testing code\"\"\"\n",
        "if __name__ == \"__main__\":\n",
        "  yd = np.arange(10)\n",
        "  A = np.random.random(50).reshape(10, 5)  \n",
        "  w = train_w(A, yd)\n",
        "  assert w.shape == (5, )\n",
        "  print(\"Test passed\")"
      ],
      "execution_count": null,
      "outputs": [
        {
          "output_type": "stream",
          "text": [
            "Test passed\n"
          ],
          "name": "stdout"
        }
      ]
    },
    {
      "cell_type": "markdown",
      "metadata": {
        "id": "l9_Z8L3RKBPn",
        "colab_type": "text"
      },
      "source": [
        "###3 Estimate y from the model, given x and w"
      ]
    },
    {
      "cell_type": "code",
      "metadata": {
        "nbgrader": {
          "grade": false,
          "grade_id": "cell-18a403e9e2d75c54",
          "locked": false,
          "schema_version": 1,
          "solution": true
        },
        "id": "AIFYMCMlKBPo",
        "colab_type": "code",
        "colab": {}
      },
      "source": [
        "def predict_y(w, x):\n",
        "    '''\n",
        "    Inputs:\n",
        "        w: np array of shape (2D+1,)\n",
        "        x: np array of shape (N,)\n",
        "    Outputs:\n",
        "        y: np array of shape (N,); y=Aw\n",
        "    '''\n",
        "    ### Write your code here\n",
        "    N = x.shape[0]\n",
        "    D = int((w.shape[0] - 1)/2)\n",
        "    A = createA(x, D)\n",
        "    y = A@w ## np.dot(A, w), A.dot(w)\n",
        "    return y"
      ],
      "execution_count": null,
      "outputs": []
    },
    {
      "cell_type": "code",
      "metadata": {
        "id": "x69CSYoi-2Qf",
        "colab_type": "code",
        "colab": {
          "base_uri": "https://localhost:8080/",
          "height": 34
        },
        "outputId": "63b74d02-193d-49cb-ed15-f03b7b158b20"
      },
      "source": [
        "\"\"\"Testing code\"\"\"\n",
        "if __name__ == \"__main__\":\n",
        "  w = np.arange(5)\n",
        "  x = np.arange(10)\n",
        "  y = predict_y(w, x)\n",
        "  assert y.shape[0] == x.shape[0]\n",
        "  print(\"Test passed\")"
      ],
      "execution_count": null,
      "outputs": [
        {
          "output_type": "stream",
          "text": [
            "Test passed\n"
          ],
          "name": "stdout"
        }
      ]
    },
    {
      "cell_type": "markdown",
      "metadata": {
        "id": "Sqjpd9JWKBPv",
        "colab_type": "text"
      },
      "source": [
        "###4. Estimate Error\n",
        "Find E as the mean squared error"
      ]
    },
    {
      "cell_type": "code",
      "metadata": {
        "nbgrader": {
          "grade": false,
          "grade_id": "cell-430f96298f1ea137",
          "locked": false,
          "schema_version": 1,
          "solution": true
        },
        "id": "k50lysAcKBPw",
        "colab_type": "code",
        "colab": {}
      },
      "source": [
        "def compute_mse(y, yd):\n",
        "    '''\n",
        "    Inputs:\n",
        "        y: np array of shape (N,); y=Aw\n",
        "        yd: np array of shape (N,); yd=f(x), ie., desired or true value\n",
        "    Output:\n",
        "        mse: float, mean squared error\n",
        "    '''\n",
        "    ### Write your code here\n",
        "    mse = np.mean((y-yd)**2)\n",
        "    return mse"
      ],
      "execution_count": null,
      "outputs": []
    },
    {
      "cell_type": "code",
      "metadata": {
        "id": "DMByOXJn_FX_",
        "colab_type": "code",
        "colab": {
          "base_uri": "https://localhost:8080/",
          "height": 34
        },
        "outputId": "59a5817e-54e7-4309-a569-aa3482e42f69"
      },
      "source": [
        "\"\"\"Testing code\"\"\"\n",
        "if __name__ == \"__main__\":\n",
        "  y = np.arange(3)\n",
        "  yd = np.arange(30, 33)\n",
        "  mse = compute_mse(y, yd)\n",
        "  assert mse/mse == 1.0\n",
        "  print(\"Test passed\")"
      ],
      "execution_count": null,
      "outputs": [
        {
          "output_type": "stream",
          "text": [
            "Test passed\n"
          ],
          "name": "stdout"
        }
      ]
    },
    {
      "cell_type": "markdown",
      "metadata": {
        "id": "5zGV1TDQ5iEb",
        "colab_type": "text"
      },
      "source": [
        "##5. Train and Test\n",
        "Write a function that takes parameters N, D and:\n",
        "- Generates N training points x, yd\n",
        "- Train your linear model using x and yd\n",
        "- Predict y (using the linear model you found above) for the training data x\n",
        "- Compare y with yd to find the mean-squared error"
      ]
    },
    {
      "cell_type": "markdown",
      "metadata": {
        "id": "mfjcbjdf6QhG",
        "colab_type": "text"
      },
      "source": [
        "###5.1 Generate and Train"
      ]
    },
    {
      "cell_type": "code",
      "metadata": {
        "id": "rkZV_i9rXICz",
        "colab_type": "code",
        "colab": {}
      },
      "source": [
        "def trainModel(N, D):\n",
        "    '''\n",
        "    Inputs:\n",
        "        N: number of samples\n",
        "        D: degree of the model\n",
        "    Outputs:\n",
        "        x: np array of size (N,)\n",
        "        y: np array of size (N,)\n",
        "        yd: np array of size (N,)\n",
        "        w: np array of size (2D+1,)\n",
        "        mse: scalar float\n",
        "    '''\n",
        "    ### Write your code here\n",
        "    x, yd = generate_points(N)\n",
        "    A = createA(x, D)\n",
        "    w = train_w(A, yd)\n",
        "    y = predict_y(w, x)\n",
        "    mse = compute_mse(y, yd)\n",
        "    return x, y, yd, w, mse"
      ],
      "execution_count": null,
      "outputs": []
    },
    {
      "cell_type": "code",
      "metadata": {
        "id": "hXWQkAvDAuN9",
        "colab_type": "code",
        "colab": {
          "base_uri": "https://localhost:8080/",
          "height": 34
        },
        "outputId": "713dc3d4-8e80-4836-b84b-f2cbd21ed35e"
      },
      "source": [
        "\"\"\"Testing code\"\"\"\n",
        "if __name__ == \"__main__\":\n",
        "  x, y, yd, w, mse = trainModel(10, 2)\n",
        "  assert x.shape[0] == 10\n",
        "  assert y.shape[0] == 10\n",
        "  assert yd.shape[0] == 10\n",
        "  assert w.shape[0] == 5\n",
        "  assert mse/mse == 1.0\n",
        "  print(\"Tests passed\")"
      ],
      "execution_count": null,
      "outputs": [
        {
          "output_type": "stream",
          "text": [
            "Tests passed\n"
          ],
          "name": "stdout"
        }
      ]
    },
    {
      "cell_type": "markdown",
      "metadata": {
        "id": "nWeDnuZR6q-K",
        "colab_type": "text"
      },
      "source": [
        "###5.2 Test\n",
        "Write a function which takes parameters Ntest, w and does the following:\n",
        "\n",
        "- Generates Ntest test points x, yd\n",
        "- Estimate y using the linear model w \n",
        "- Compare y with yd to find the mean-squared error"
      ]
    },
    {
      "cell_type": "code",
      "metadata": {
        "id": "oD21vteC6t7E",
        "colab_type": "code",
        "colab": {}
      },
      "source": [
        "def testModel(Ntest, w):\n",
        "    '''\n",
        "    Inputs:\n",
        "        Ntest: number of test samples to be generated\n",
        "        w: np array of size (2*D+1,)\n",
        "    Outputs:\n",
        "        x: np array of size (N,)\n",
        "        y: np array of size (N,)\n",
        "        yd: np array of size (N,)\n",
        "        mse: scalar float\n",
        "    '''\n",
        "    ### Write your code here\n",
        "    x, yd = generate_points(Ntest)\n",
        "    y = predict_y(w, x)\n",
        "    mse = compute_mse(y, yd)\n",
        "    return x, y, yd, mse"
      ],
      "execution_count": null,
      "outputs": []
    },
    {
      "cell_type": "code",
      "metadata": {
        "id": "LzrtTf3pEUfM",
        "colab_type": "code",
        "colab": {
          "base_uri": "https://localhost:8080/",
          "height": 34
        },
        "outputId": "3022cd8e-3c39-4b5d-e064-d8977a6287e3"
      },
      "source": [
        "\"\"\"Testing code\"\"\"\n",
        "if __name__ == \"__main__\":\n",
        "  x, y, yd, mse = testModel(10, np.arange(5))\n",
        "  assert x.shape[0] == 10\n",
        "  assert y.shape[0] == 10\n",
        "  assert yd.shape[0] == 10\n",
        "  assert mse/mse == 1.0\n",
        "  print(\"Tests passed\")"
      ],
      "execution_count": null,
      "outputs": [
        {
          "output_type": "stream",
          "text": [
            "Tests passed\n"
          ],
          "name": "stdout"
        }
      ]
    }
  ]
}