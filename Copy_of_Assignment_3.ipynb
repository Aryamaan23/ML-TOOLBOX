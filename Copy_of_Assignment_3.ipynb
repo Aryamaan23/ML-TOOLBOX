{
  "nbformat": 4,
  "nbformat_minor": 0,
  "metadata": {
    "colab": {
      "name": "Copy of Assignment 3.ipynb",
      "provenance": [],
      "include_colab_link": true
    },
    "kernelspec": {
      "name": "python3",
      "display_name": "Python 3"
    }
  },
  "cells": [
    {
      "cell_type": "markdown",
      "metadata": {
        "id": "view-in-github",
        "colab_type": "text"
      },
      "source": [
        "<a href=\"https://colab.research.google.com/github/Aryamaan23/ML-TOOLBOX/blob/master/Copy_of_Assignment_3.ipynb\" target=\"_parent\"><img src=\"https://colab.research.google.com/assets/colab-badge.svg\" alt=\"Open In Colab\"/></a>"
      ]
    },
    {
      "cell_type": "markdown",
      "metadata": {
        "id": "YCKRJLaYcrOU",
        "colab_type": "text"
      },
      "source": [
        "#Q. Even Sum\n",
        "Write a function that takes an argument ```n``` and returns sum of all even numbers $2, 4, \\ldots$ upto $n$"
      ]
    },
    {
      "cell_type": "code",
      "metadata": {
        "id": "GbbyVwn_k1YW",
        "colab_type": "code",
        "colab": {
          "base_uri": "https://localhost:8080/",
          "height": 51
        },
        "outputId": "53411e6d-2d50-423a-ce56-80a4b163a205"
      },
      "source": [
        "total=0\n",
        "num=2\n",
        "n=(int)(input())\n",
        "while(num<=n):\n",
        "  total=total+num\n",
        "  num=num+2\n",
        "print(total)"
      ],
      "execution_count": null,
      "outputs": [
        {
          "output_type": "stream",
          "text": [
            "8\n",
            "20\n"
          ],
          "name": "stdout"
        }
      ]
    },
    {
      "cell_type": "markdown",
      "metadata": {
        "id": "OmWQSgEbc9Tj",
        "colab_type": "text"
      },
      "source": [
        "#Q. Intersection\n",
        "Write a function that takes two lists ```l1``` and ```l2``` as arguments and returns a list containing elements that are common to both lists without containing any duplicates."
      ]
    },
    {
      "cell_type": "code",
      "metadata": {
        "id": "jw6MAM8hdTzI",
        "colab_type": "code",
        "colab": {
          "base_uri": "https://localhost:8080/",
          "height": 34
        },
        "outputId": "3b1da795-bc71-4109-e360-04d655993a91"
      },
      "source": [
        "def intersection(list1,list2):\n",
        "  list3=[value for value in list1 if value in list2]\n",
        "  return list3\n",
        "list1=[1,2,3,4,5,6,7,8,9,10]\n",
        "list2=[2,4,6,8,10]\n",
        "print(intersection(list1,list2))\n",
        "  "
      ],
      "execution_count": null,
      "outputs": [
        {
          "output_type": "stream",
          "text": [
            "[2, 4, 6, 8, 10]\n"
          ],
          "name": "stdout"
        }
      ]
    },
    {
      "cell_type": "markdown",
      "metadata": {
        "id": "yWcvFuaNdSs-",
        "colab_type": "text"
      },
      "source": [
        "#Q. Primality\n",
        "Write a function that takes a number ```n``` as argument and returns ```True``` if the number is prime and ```False``` otherwise."
      ]
    },
    {
      "cell_type": "code",
      "metadata": {
        "id": "FqZmuu-FdtnR",
        "colab_type": "code",
        "colab": {
          "base_uri": "https://localhost:8080/",
          "height": 51
        },
        "outputId": "1ed7ca8f-01f7-4f57-daec-b8d902b6432a"
      },
      "source": [
        "def primality(n):\n",
        "  if(n==1):\n",
        "    return False\n",
        "  elif(n==2):\n",
        "    return True\n",
        "  else:\n",
        "    for x in range(2,n):\n",
        "      if(n%x==0):\n",
        "        return False\n",
        "    return True\n",
        "n1=(int)(input())\n",
        "primality(n1)\n",
        "    \n",
        "      "
      ],
      "execution_count": null,
      "outputs": [
        {
          "output_type": "stream",
          "text": [
            "12\n"
          ],
          "name": "stdout"
        },
        {
          "output_type": "execute_result",
          "data": {
            "text/plain": [
              "False"
            ]
          },
          "metadata": {
            "tags": []
          },
          "execution_count": 43
        }
      ]
    },
    {
      "cell_type": "markdown",
      "metadata": {
        "id": "5oNKdGnQdvwb",
        "colab_type": "text"
      },
      "source": [
        "#Q. Digit Count and Sum\n",
        "Write a function that takes a number ```n``` as input and returns a tuple of two values - the number of digits in that number and sum of digits in that number."
      ]
    },
    {
      "cell_type": "code",
      "metadata": {
        "id": "qXYtFx4ueOpq",
        "colab_type": "code",
        "colab": {
          "base_uri": "https://localhost:8080/",
          "height": 51
        },
        "outputId": "71004649-ef43-4563-e618-24b95d731740"
      },
      "source": [
        "def digcount_sum(n):\n",
        "   sum=0\n",
        "   c=0\n",
        "   while(n!=0):\n",
        "     d=n%10\n",
        "     sum=sum+d\n",
        "     n=(int)(n/10)\n",
        "     c=c+1\n",
        "   print((sum,c))\n",
        "n1=(int)(input())\n",
        "digcount_sum(n1)\n",
        "\n"
      ],
      "execution_count": null,
      "outputs": [
        {
          "output_type": "stream",
          "text": [
            "431\n",
            "(8, 3)\n"
          ],
          "name": "stdout"
        }
      ]
    },
    {
      "cell_type": "markdown",
      "metadata": {
        "id": "3gjiztaOeSNg",
        "colab_type": "text"
      },
      "source": [
        "#Q. Reverse Word Order\n",
        "Write a function that takes as argument a string containing multiple words and returns a string containing the same words in reverse order. \\\\\n",
        "Eg., ```input = 'India is a democracy'; output = 'democracy a is India' ```"
      ]
    },
    {
      "cell_type": "code",
      "metadata": {
        "id": "-R6gbrxceePP",
        "colab_type": "code",
        "colab": {
          "base_uri": "https://localhost:8080/",
          "height": 51
        },
        "outputId": "3f361c7e-1de6-4a97-8c49-8dcc39574bbb"
      },
      "source": [
        "def rev(str):\n",
        "  \n",
        "  print(' '.join([word for word in reversed(str.split(' '))]))\n",
        "\n",
        "s=input()\n",
        "rev(s)"
      ],
      "execution_count": null,
      "outputs": [
        {
          "output_type": "stream",
          "text": [
            "My name is Aryamaan\n",
            "Aryamaan is name My\n"
          ],
          "name": "stdout"
        }
      ]
    },
    {
      "cell_type": "markdown",
      "metadata": {
        "id": "MIUKUUWxe-i_",
        "colab_type": "text"
      },
      "source": [
        "#Q. Palindromes\n",
        "Write a function that takes as argument a string and returns ```True``` if the string is a palindrome and ```False``` otherwise. \\\\\n",
        "A palindrome is a string that reads the same backwards and forwards. \\\\\n",
        "Eg., ```'aabbaa'``` and ```'aacbbcaa'``` are palindromes. ```'aacca'``` and ```'acab'``` are not. \\\\\n",
        "(Ignore whitespace inside strings. For eg., ```'Was It A Rat I Saw'``` is a palindrome)"
      ]
    },
    {
      "cell_type": "code",
      "metadata": {
        "id": "auXCyggugIFp",
        "colab_type": "code",
        "colab": {
          "base_uri": "https://localhost:8080/",
          "height": 51
        },
        "outputId": "a647be40-8781-4423-ff7e-24e5982cb1f7"
      },
      "source": [
        "def palindromes(s):\n",
        "\n",
        "  if s == ''.join(reversed(s)):\n",
        "    return True\n",
        "  else:\n",
        "    return False\n",
        "st=input()\n",
        "palindromes(st)\n"
      ],
      "execution_count": null,
      "outputs": [
        {
          "output_type": "stream",
          "text": [
            "aabbaa\n"
          ],
          "name": "stdout"
        },
        {
          "output_type": "execute_result",
          "data": {
            "text/plain": [
              "True"
            ]
          },
          "metadata": {
            "tags": []
          },
          "execution_count": 28
        }
      ]
    },
    {
      "cell_type": "markdown",
      "metadata": {
        "id": "F7faqFS4gob3",
        "colab_type": "text"
      },
      "source": [
        "#Q. Pascal Triangle\n",
        "Write a function that takes an argument n as input and returns a string containing a pascal triangle of n rows. (https://en.wikipedia.org/wiki/Pascal%27s_triangle)"
      ]
    },
    {
      "cell_type": "code",
      "metadata": {
        "id": "tVTmDoF-howj",
        "colab_type": "code",
        "colab": {
          "base_uri": "https://localhost:8080/",
          "height": 119
        },
        "outputId": "84bb667f-307e-4c47-bca1-6b8a33c8acd3"
      },
      "source": [
        "def Pascal(n):\n",
        "   a=[]\n",
        "   for i in range(n):\n",
        "     a.append([])\n",
        "     a[i].append(1)\n",
        "     for j in range(1,i):\n",
        "       a[i].append(a[i-1][j-1]+a[i-1][j])\n",
        "     if(n!=0):\n",
        "       a[i].append(1)\n",
        "   for i in range(n):\n",
        "     print(\"   \"*(n-i),end=\" \",sep=\" \")\n",
        "     for j in range(0,i+1):\n",
        "       print('{0:6}'.format(a[i][j]),end=\" \",sep=\" \")\n",
        "     print()\n",
        "\n",
        "n1=(int)(input())\n",
        "Pascal(n1)\n",
        "\n"
      ],
      "execution_count": null,
      "outputs": [
        {
          "output_type": "stream",
          "text": [
            "5\n",
            "                     1 \n",
            "                  1      1 \n",
            "               1      2      1 \n",
            "            1      3      3      1 \n",
            "         1      4      6      4      1 \n"
          ],
          "name": "stdout"
        }
      ]
    },
    {
      "cell_type": "markdown",
      "metadata": {
        "id": "in3pF1jeiOyV",
        "colab_type": "text"
      },
      "source": [
        ""
      ]
    }
  ]
}