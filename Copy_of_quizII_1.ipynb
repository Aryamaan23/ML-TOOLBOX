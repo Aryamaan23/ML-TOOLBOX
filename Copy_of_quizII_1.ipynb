{
  "nbformat": 4,
  "nbformat_minor": 0,
  "metadata": {
    "kernelspec": {
      "display_name": "Python 3",
      "language": "python",
      "name": "python3"
    },
    "language_info": {
      "codemirror_mode": {
        "name": "ipython",
        "version": 3
      },
      "file_extension": ".py",
      "mimetype": "text/x-python",
      "name": "python",
      "nbconvert_exporter": "python",
      "pygments_lexer": "ipython3",
      "version": "3.7.3"
    },
    "colab": {
      "name": "Copy of quizII-1.ipynb",
      "provenance": [],
      "include_colab_link": true
    }
  },
  "cells": [
    {
      "cell_type": "markdown",
      "metadata": {
        "id": "view-in-github",
        "colab_type": "text"
      },
      "source": [
        "<a href=\"https://colab.research.google.com/github/Aryamaan23/ML-TOOLBOX/blob/master/Copy_of_quizII_1.ipynb\" target=\"_parent\"><img src=\"https://colab.research.google.com/assets/colab-badge.svg\" alt=\"Open In Colab\"/></a>"
      ]
    },
    {
      "cell_type": "markdown",
      "metadata": {
        "id": "G7qMmt_MGzVO",
        "colab_type": "text"
      },
      "source": [
        "Before you turn this problem in, make sure everything runs as expected. First, **Restart and Run All** (in the menubar in colab, select Runtime$\\rightarrow$Restart and Run all) \n",
        "\n",
        "Make sure you only fill in any place that says `YOUR CODE HERE` and do not make any other changes to the code.<br> If you add any code cells for your own testing. Please delete them before submission."
      ]
    },
    {
      "cell_type": "markdown",
      "metadata": {
        "id": "idZFvfubGzVQ",
        "colab_type": "text"
      },
      "source": [
        "---"
      ]
    },
    {
      "cell_type": "code",
      "metadata": {
        "id": "IRWtKdVHGzVS",
        "colab_type": "code",
        "colab": {}
      },
      "source": [
        "import math"
      ],
      "execution_count": null,
      "outputs": []
    },
    {
      "cell_type": "markdown",
      "metadata": {
        "id": "w9v5BEtXGzVb",
        "colab_type": "text"
      },
      "source": [
        "- Five marks for each question."
      ]
    },
    {
      "cell_type": "markdown",
      "metadata": {
        "id": "8ihIIuvUGzVc",
        "colab_type": "text"
      },
      "source": [
        "## Q1"
      ]
    },
    {
      "cell_type": "markdown",
      "metadata": {
        "id": "sXGGX81xGzVd",
        "colab_type": "text"
      },
      "source": [
        "### Third Largest Element\n",
        "Write a function that returns the third largest element of a list of integers. (Assume all elements in l will be distinct)"
      ]
    },
    {
      "cell_type": "code",
      "metadata": {
        "deletable": false,
        "nbgrader": {
          "cell_type": "code",
          "checksum": "03c6dc854611b588e98956abeb7daff8",
          "grade": false,
          "grade_id": "cell-08e7132823c18a19",
          "locked": false,
          "schema_version": 3,
          "solution": true,
          "task": false
        },
        "id": "en880rvnGzVe",
        "colab_type": "code",
        "colab": {}
      },
      "source": [
        "import sys\n",
        "def third_largest_element(l):\n",
        "    \"\"\"\n",
        "    Inputs:\n",
        "        l: list of ints, length of list >=3\n",
        "    \n",
        "    Outputs:\n",
        "        third_largest: int, third largest integer in l\n",
        "    \"\"\"\n",
        "    \n",
        "    # YOUR CODE HERE\n",
        "    max1,max2,third_largest=l[0],l[0],l[0]\t#Initializing max1,max2,max3 \n",
        "    for i in l:\t#Iterations\n",
        "     if i>max1:\t#Comparison for max1\n",
        "        third_largest=max2\n",
        "        max2=max1\n",
        "        max1=i\n",
        "     elif i>max2:\t#comparison for max2\n",
        "        third_largest=max2\n",
        "        max2=i\n",
        "     elif i>third_largest:\t#Comparison for max3\n",
        "        third_largest=i\n",
        "\n",
        "    \n",
        "    return third_largest"
      ],
      "execution_count": null,
      "outputs": []
    },
    {
      "cell_type": "code",
      "metadata": {
        "id": "i0d20rT1Kgso",
        "colab_type": "code",
        "colab": {
          "base_uri": "https://localhost:8080/",
          "height": 34
        },
        "outputId": "97024da9-c9bf-4694-8e57-a21319430e26"
      },
      "source": [
        "l=[1,2,3,4]\n",
        "third_largest_element(l)"
      ],
      "execution_count": null,
      "outputs": [
        {
          "output_type": "execute_result",
          "data": {
            "text/plain": [
              "2"
            ]
          },
          "metadata": {
            "tags": []
          },
          "execution_count": 43
        }
      ]
    },
    {
      "cell_type": "code",
      "metadata": {
        "deletable": false,
        "editable": false,
        "nbgrader": {
          "cell_type": "code",
          "checksum": "3cdc526e5e3206ecc9c444edf277d77b",
          "grade": true,
          "grade_id": "cell-67c5d87e34bb12bc",
          "locked": true,
          "points": 5,
          "schema_version": 3,
          "solution": false,
          "task": false
        },
        "id": "h3RoDXCmGzVi",
        "colab_type": "code",
        "colab": {}
      },
      "source": [
        "assert type(third_largest_element([1, 2, 3])) == type(4)\n"
      ],
      "execution_count": null,
      "outputs": []
    },
    {
      "cell_type": "markdown",
      "metadata": {
        "id": "qaxDHp93GzVv",
        "colab_type": "text"
      },
      "source": [
        "## Q2"
      ]
    },
    {
      "cell_type": "markdown",
      "metadata": {
        "id": "VIFKuNT4GzVw",
        "colab_type": "text"
      },
      "source": [
        "### Taylor Series\n",
        "Taylor Series expansion of $e^x$ upto $n$ terms is as follows <br>\n",
        "$$\n",
        "e^x = \\sum_{i=0}^{n}{\\frac{x^i}{i!}}\n",
        "$$\n",
        "where\n",
        "$i!$ is factorial of $i$ i.e., $1*2*3*\\ldots*i$\n",
        "\n",
        "Write a function that takes arguments $n$ and $x$ and finds value of taylor expansion of $e^x$ upto $n$ terms"
      ]
    },
    {
      "cell_type": "code",
      "metadata": {
        "deletable": false,
        "nbgrader": {
          "cell_type": "code",
          "checksum": "53e98e7b9a24de97f0cd4e3efa37988d",
          "grade": false,
          "grade_id": "cell-2b724d2d1a657c8f",
          "locked": false,
          "schema_version": 3,
          "solution": true,
          "task": false
        },
        "id": "k61k7uZhGzVy",
        "colab_type": "code",
        "colab": {}
      },
      "source": [
        "def taylor_expansion_ex(x, n):\n",
        "    \"\"\"\n",
        "    Inputs:\n",
        "        n: int, n>=0\n",
        "        x: float\n",
        "    \n",
        "    Outputs:\n",
        "        taylor_exp : float, taylor_expansion of e^x upto n terms\n",
        "    \"\"\"\n",
        "    \n",
        "    # YOUR CODE HERE \n",
        "  \n",
        "    # initialize sum of series \n",
        "    taylor_exp = 1.0 \n",
        "    for i in range(n, 0, -1): \n",
        "        taylor_exp = 1 + x * taylor_exp / i \n",
        "    \n",
        "    \n",
        "    \n",
        "    return taylor_exp"
      ],
      "execution_count": null,
      "outputs": []
    },
    {
      "cell_type": "code",
      "metadata": {
        "id": "ocUFyQIzURvn",
        "colab_type": "code",
        "colab": {
          "base_uri": "https://localhost:8080/",
          "height": 34
        },
        "outputId": "6ceb2397-598f-4b8a-db2f-54044e4af78a"
      },
      "source": [
        "n=10\n",
        "x=1.0\n",
        "taylor_expansion_ex(x,n)"
      ],
      "execution_count": null,
      "outputs": [
        {
          "output_type": "execute_result",
          "data": {
            "text/plain": [
              "2.7182818011463845"
            ]
          },
          "metadata": {
            "tags": []
          },
          "execution_count": 29
        }
      ]
    },
    {
      "cell_type": "code",
      "metadata": {
        "deletable": false,
        "editable": false,
        "nbgrader": {
          "cell_type": "code",
          "checksum": "d351f3cbf764dd5638cb73ffb1c1fc46",
          "grade": true,
          "grade_id": "cell-601893a812144e25",
          "locked": true,
          "points": 5,
          "schema_version": 3,
          "solution": false,
          "task": false
        },
        "id": "HbCNfo5iGzV9",
        "colab_type": "code",
        "colab": {}
      },
      "source": [
        "assert type(taylor_expansion_ex(1, 1)) == type(2.)\n"
      ],
      "execution_count": null,
      "outputs": []
    },
    {
      "cell_type": "markdown",
      "metadata": {
        "id": "fbJi2_2WGzWE",
        "colab_type": "text"
      },
      "source": [
        "## Q3"
      ]
    },
    {
      "cell_type": "markdown",
      "metadata": {
        "id": "asw_iNS9GzWG",
        "colab_type": "text"
      },
      "source": [
        "### Armstrong numbers\n",
        "Armstrong number is a number that is equal to the sum of cubes of its digits. <br>\n",
        "For eg., $153 = 1^3 + 5^3 + 3^3$\n",
        "\n",
        "Write a function that takes an argument $n$ and returns list of armstrong numbers between $0$ and $n$ (including $0$ and $n$)(List should be sorted in ascending order)"
      ]
    },
    {
      "cell_type": "code",
      "metadata": {
        "deletable": false,
        "nbgrader": {
          "cell_type": "code",
          "checksum": "1d5a80560b26870eea3c8c59fdeda6a4",
          "grade": false,
          "grade_id": "cell-4bd7d534db20e974",
          "locked": false,
          "schema_version": 3,
          "solution": true,
          "task": false
        },
        "id": "t-hs87QQGzWK",
        "colab_type": "code",
        "colab": {}
      },
      "source": [
        "def armstrong_numbers(n):\n",
        "    \"\"\"\n",
        "    Inputs:\n",
        "        n: int\n",
        "        \n",
        "    Outputs:\n",
        "        arm_nums: sorted list of ints, list of armstrong numbers between 0 to n \n",
        "    \"\"\"\n",
        "    \n",
        "    # YOUR CODE HERE\n",
        "  \n",
        "    # Prints Armstrong Numbers in given range \n",
        "    arm_nums=[] \n",
        "    for num in range(0, n + 1):\n",
        "\n",
        "   # order of number\n",
        "      order=len(str(num))\n",
        "   # initialize sum\n",
        "      sum = 0\n",
        "\n",
        "      temp = num\n",
        "      if(temp>99):\n",
        "\n",
        "       while temp > 0:\n",
        "        digit = temp % 10\n",
        "        sum += digit ** order\n",
        "        temp //=10\n",
        "\n",
        "       if num == sum:\n",
        "         arm_nums.append(num)\n",
        "    return arm_nums \n",
        "            \n",
        "\n",
        "\n",
        "    \n",
        "    "
      ],
      "execution_count": null,
      "outputs": []
    },
    {
      "cell_type": "code",
      "metadata": {
        "id": "rZg3gvU8PFZ5",
        "colab_type": "code",
        "colab": {
          "base_uri": "https://localhost:8080/",
          "height": 34
        },
        "outputId": "10899b16-8d27-4869-c47b-62cb56d35d4b"
      },
      "source": [
        "n=10000\n",
        "armstrong_numbers(n)"
      ],
      "execution_count": null,
      "outputs": [
        {
          "output_type": "execute_result",
          "data": {
            "text/plain": [
              "[153, 370, 371, 407, 1634, 8208, 9474]"
            ]
          },
          "metadata": {
            "tags": []
          },
          "execution_count": 126
        }
      ]
    },
    {
      "cell_type": "code",
      "metadata": {
        "deletable": false,
        "editable": false,
        "nbgrader": {
          "cell_type": "code",
          "checksum": "b01985e2b863d4ec25923331f14ee02a",
          "grade": true,
          "grade_id": "cell-f39a16c6615c36c1",
          "locked": true,
          "points": 5,
          "schema_version": 3,
          "solution": false,
          "task": false
        },
        "id": "lnmQzanPGzWQ",
        "colab_type": "code",
        "colab": {}
      },
      "source": [
        "assert type(armstrong_numbers(1)) == list\n"
      ],
      "execution_count": null,
      "outputs": []
    },
    {
      "cell_type": "markdown",
      "metadata": {
        "id": "2S8ByOqXGzWV",
        "colab_type": "text"
      },
      "source": [
        "## Q4"
      ]
    },
    {
      "cell_type": "markdown",
      "metadata": {
        "id": "vr-x8aHYGzWi",
        "colab_type": "text"
      },
      "source": [
        "### Remove all occurences\n",
        "Given a list $l$ and element $e$, remove all occurences of $e$ from $l$ and return it. "
      ]
    },
    {
      "cell_type": "code",
      "metadata": {
        "deletable": false,
        "nbgrader": {
          "cell_type": "code",
          "checksum": "92da40a5efbf71b7180a4632eac3b20d",
          "grade": false,
          "grade_id": "cell-f61ee94d18289e65",
          "locked": false,
          "schema_version": 3,
          "solution": true,
          "task": false
        },
        "id": "gVupyl9oGzWj",
        "colab_type": "code",
        "colab": {}
      },
      "source": [
        "def remove_occurences(l, e):\n",
        "    \"\"\"\n",
        "    Inputs:\n",
        "        l: list\n",
        "        e: an element of list l (can be of type int, float or str)\n",
        "    Outputs:\n",
        "        l_clean: list, same as list l but with all occurences of e removed from it\n",
        "    \"\"\"\n",
        "    \n",
        "    # YOUR CODE HERE\n",
        "    l_clean= [value for value in l if value != e]\n",
        "\n",
        "    \n",
        "    \n",
        "    return l_clean"
      ],
      "execution_count": null,
      "outputs": []
    },
    {
      "cell_type": "code",
      "metadata": {
        "id": "udYbEDcrQNr9",
        "colab_type": "code",
        "colab": {
          "base_uri": "https://localhost:8080/",
          "height": 34
        },
        "outputId": "ed53d0ff-bd39-4f8f-8dc7-776b2879f367"
      },
      "source": [
        "l=[1,2,3,4,2,2,2,2]\n",
        "e=2\n",
        "remove_occurences(l,e)"
      ],
      "execution_count": null,
      "outputs": [
        {
          "output_type": "execute_result",
          "data": {
            "text/plain": [
              "[1, 3, 4]"
            ]
          },
          "metadata": {
            "tags": []
          },
          "execution_count": 128
        }
      ]
    },
    {
      "cell_type": "code",
      "metadata": {
        "deletable": false,
        "editable": false,
        "nbgrader": {
          "cell_type": "code",
          "checksum": "41fc472e1a33e9321e21a6e41def58ea",
          "grade": true,
          "grade_id": "cell-a8521f22df5c2000",
          "locked": true,
          "points": 5,
          "schema_version": 3,
          "solution": false,
          "task": false
        },
        "id": "YMMejVFzGzWp",
        "colab_type": "code",
        "colab": {}
      },
      "source": [
        "assert type(remove_occurences([1, 2, 3, 4], 2)) == list\n"
      ],
      "execution_count": null,
      "outputs": []
    },
    {
      "cell_type": "markdown",
      "metadata": {
        "id": "EngmsZipGzWv",
        "colab_type": "text"
      },
      "source": [
        "## Q5"
      ]
    },
    {
      "cell_type": "markdown",
      "metadata": {
        "id": "D-jlO5E4GzWw",
        "colab_type": "text"
      },
      "source": [
        "## Adder function\n",
        "Write a function that takes an input $a$ and returns a function $f$. <br>\n",
        "$f$ should take an input $n$ and return the sum of $a$ and $n$. \n"
      ]
    },
    {
      "cell_type": "code",
      "metadata": {
        "deletable": false,
        "nbgrader": {
          "cell_type": "code",
          "checksum": "8be04ae078d59dde72a92b6e7e22f826",
          "grade": false,
          "grade_id": "cell-4509d678d995333b",
          "locked": false,
          "schema_version": 3,
          "solution": true,
          "task": false
        },
        "id": "Vqk7fMp0GzWx",
        "colab_type": "code",
        "colab": {}
      },
      "source": [
        "def get_adder(a):\n",
        "    \"\"\"\n",
        "    Inputs:\n",
        "        a: int/float\n",
        "    Outputs:\n",
        "        a_adder: function, it is a function that takes an input n, adds a to it and returns it\n",
        "    \"\"\"\n",
        "    \n",
        "    # YOUR CODE HERE\n",
        "    def a_adder(b):\n",
        "      return a+b\n",
        "\n",
        "    \n",
        "    \n",
        "    return a_adder"
      ],
      "execution_count": null,
      "outputs": []
    },
    {
      "cell_type": "code",
      "metadata": {
        "id": "tSIqAb32c1Kr",
        "colab_type": "code",
        "colab": {
          "base_uri": "https://localhost:8080/",
          "height": 34
        },
        "outputId": "4f934eff-ffbd-42fc-e266-e05e9852b864"
      },
      "source": [
        "a=get_adder(2)\n",
        "a(3)"
      ],
      "execution_count": null,
      "outputs": [
        {
          "output_type": "execute_result",
          "data": {
            "text/plain": [
              "5"
            ]
          },
          "metadata": {
            "tags": []
          },
          "execution_count": 131
        }
      ]
    },
    {
      "cell_type": "code",
      "metadata": {
        "deletable": false,
        "editable": false,
        "nbgrader": {
          "cell_type": "code",
          "checksum": "35d5edb170b041b1f38cb1c3c7ca153b",
          "grade": true,
          "grade_id": "cell-17b02b44087f0987",
          "locked": true,
          "points": 5,
          "schema_version": 3,
          "solution": false,
          "task": false
        },
        "id": "86vJGkmLGzW2",
        "colab_type": "code",
        "colab": {}
      },
      "source": [
        "assert type(get_adder(2)) == type(lambda x: x)\n",
        "\n",
        "two_adder = get_adder(2)\n",
        "assert two_adder(3) == 5\n"
      ],
      "execution_count": null,
      "outputs": []
    },
    {
      "cell_type": "code",
      "metadata": {
        "id": "QBt75C5UGzW9",
        "colab_type": "code",
        "colab": {}
      },
      "source": [
        ""
      ],
      "execution_count": null,
      "outputs": []
    }
  ]
}