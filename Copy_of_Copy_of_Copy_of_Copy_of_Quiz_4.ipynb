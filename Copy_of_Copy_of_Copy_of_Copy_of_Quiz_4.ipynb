{
  "nbformat": 4,
  "nbformat_minor": 0,
  "metadata": {
    "colab": {
      "name": "Copy of Copy of Copy of Copy of Quiz 4.ipynb",
      "provenance": [],
      "collapsed_sections": [],
      "include_colab_link": true
    },
    "kernelspec": {
      "name": "python3",
      "display_name": "Python 3"
    }
  },
  "cells": [
    {
      "cell_type": "markdown",
      "metadata": {
        "id": "view-in-github",
        "colab_type": "text"
      },
      "source": [
        "<a href=\"https://colab.research.google.com/github/Aryamaan23/ML-TOOLBOX/blob/master/Copy_of_Copy_of_Copy_of_Copy_of_Quiz_4.ipynb\" target=\"_parent\"><img src=\"https://colab.research.google.com/assets/colab-badge.svg\" alt=\"Open In Colab\"/></a>"
      ]
    },
    {
      "cell_type": "markdown",
      "metadata": {
        "id": "bSbDfGN3jicM",
        "colab_type": "text"
      },
      "source": [
        "##1"
      ]
    },
    {
      "cell_type": "markdown",
      "metadata": {
        "id": "R5Lhc-jAjoQ8",
        "colab_type": "text"
      },
      "source": [
        "###Q. Confusion Matrix\n",
        "Write a function that takes two 1-d numpy arrays $y$ and $yd$ as inputs and returns two outputs - confusion matrix as a 2-d numpy array and order of classes in the confusion matrix as a 1-d numpy array. \n",
        "\n",
        "<img src=\"https://drive.google.com/uc?id=1TfOYFOGMH91b_tewl6RzEgYYxaxThYLb\" width = \"400\">\n",
        "\n",
        " <br>\n",
        "For eg., <br>\n",
        "$y$ = ['cat', 'cat', 'dog', 'human', 'human', 'human'] <br>\n",
        "$yd$ = ['cat', 'dog', 'dog', 'dog', 'cat', 'human']\n",
        "\n",
        "\n",
        "```confusion_matrix($y$, $yd$)``` -> ```([[1, 0, 1], [1, 1, 1], [0, 0, 1]], ['cat', 'dog', 'human'])``` <br>\n",
        "\n",
        "In the above example, the order of classes in the confusion matrix is cat, dog, human. (Consider list of unique classes in $yd$ as list of all classes)"
      ]
    },
    {
      "cell_type": "code",
      "metadata": {
        "id": "BVHaw2mpjn_b",
        "colab_type": "code",
        "colab": {}
      },
      "source": [
        "import sklearn.metrics as sk\n",
        "import numpy as np\n",
        "def confusion_matrix(y, yd):\n",
        "  \"\"\"\n",
        "  Inputs:\n",
        "   y : 1-d numpy array, model outputs\n",
        "   yd: 1-d numpy array, desired outputs or ground truth\n",
        "  Outputs:\n",
        "    cm: 2-d numpy array of shape (N, N) where N is number of unique classes in yd\n",
        "    3 classes: 1-d numpy array, unique classes in the order in which they occur in cm\n",
        "  \"\"\"\n",
        "  classes=list(set(yd))\n",
        "  N=len(classes)\n",
        "  cm=np.zeros((N,N))\n",
        "  class_dict = {}\n",
        "  for i in range(N):\n",
        "    class_dict[classes[i]]=i\n",
        "  for i in range(yd.shape[0]):\n",
        "    cm[class_dict[yd[i]],class_dict[y[i]]]+=1\n",
        "\n",
        "  return (cm,np.array(classes))\n"
      ],
      "execution_count": null,
      "outputs": []
    },
    {
      "cell_type": "code",
      "metadata": {
        "id": "RNGgqAQTWNbJ",
        "colab_type": "code",
        "colab": {
          "base_uri": "https://localhost:8080/",
          "height": 68
        },
        "outputId": "984690dc-6b55-4a5f-e420-70547b8696c1"
      },
      "source": [
        "confusion_matrix(np.array(['cat','cat','dog','human','human','human']),np.array(['cat','dog','dog','dog','cat','human']))\n"
      ],
      "execution_count": null,
      "outputs": [
        {
          "output_type": "execute_result",
          "data": {
            "text/plain": [
              "(array([[1., 0., 1.],\n",
              "        [1., 1., 1.],\n",
              "        [0., 0., 1.]]), array(['cat', 'dog', 'human'], dtype='<U5'))"
            ]
          },
          "metadata": {
            "tags": []
          },
          "execution_count": 7
        }
      ]
    },
    {
      "cell_type": "markdown",
      "metadata": {
        "id": "X9RgacqNk1ma",
        "colab_type": "text"
      },
      "source": [
        "##2"
      ]
    },
    {
      "cell_type": "markdown",
      "metadata": {
        "id": "8vkKyIfuk4DY",
        "colab_type": "text"
      },
      "source": [
        "###Q. Max F1 score\n",
        "Write a function that takes a confusion matrix as input and returns index of the class with the maximum f1 score."
      ]
    },
    {
      "cell_type": "code",
      "metadata": {
        "id": "_kvRy5-Ljh_N",
        "colab_type": "code",
        "colab": {}
      },
      "source": [
        "from sklearn.metrics import f1_score\n",
        "def max_f1_score(cm):\n",
        "  \"\"\"\n",
        "  Inputs:\n",
        "    cm : confusion matrix, 2-d numpy array\n",
        "  Outputs:\n",
        "  \"\"\"\n",
        "  def f_1_score(ik):\n",
        "    prec=cm[ik,ik]/np.sum(cm[:,ik])\n",
        "    recall=cm[ik,ik]/np.sum(c[ik,:])\n",
        "    f1_score=(2*prec*recall)/(prec+recall)\n",
        "    return f1_score\n",
        "\n",
        "  f1_scores=[]\n",
        "  for i in range(cm.shape[0]):\n",
        "    f1_scores.append(fl_score[i])\n",
        "  return np.argmax(f1_scores)\n",
        "\n",
        "def max_f1_score(cm):\n",
        "  col_sum=np.sum(cm,axis=0)\n",
        "  row_sum=np.sum(cm,axis=1)\n",
        "  f1_scores=[]\n",
        "  for i in range(cm.shape[0]):\n",
        "    prec=cm[ik,ik]/col_sum[ik]\n",
        "    recall=cm[ik,ik]/row_sum[ik]\n",
        "    f1_score=(2*prec*recall)/(prec+recall)\n",
        "    f1_scores.append(f1_score)\n",
        "  return np.argmax(f1_score)"
      ],
      "execution_count": null,
      "outputs": []
    },
    {
      "cell_type": "markdown",
      "metadata": {
        "id": "wKl_xV0nk8s8",
        "colab_type": "text"
      },
      "source": [
        "##3"
      ]
    },
    {
      "cell_type": "markdown",
      "metadata": {
        "id": "XtUKzpmon4P9",
        "colab_type": "text"
      },
      "source": [
        "###Q. Most confused class\n",
        "Write a function that takes a confusion matrix as input and returns index of the class that occurs most frequently as the result of a misclassification. <br>\n",
        "For eg., if $a$ is the correct class of a sample but model misclassifies it as $c$ in two cases. <br>\n",
        "And in another case, $b$ is the correct class of a sample but the model misclassifies it as $c$. <br>\n",
        "So in this way $c$ has occurred 3 times as the result of misclassification. <br>\n"
      ]
    },
    {
      "cell_type": "code",
      "metadata": {
        "id": "6MMW0Q8Swhl2",
        "colab_type": "code",
        "colab": {}
      },
      "source": [
        "import sklearn.metrics as sk\n",
        "import numpy as np\n",
        "def most_confused_class(cm):\n",
        "  \"\"\"\n",
        "  Inputs:\n",
        "    cm : confusion matrix, 2-d numpy array\n",
        "  Outputs:\n",
        "    integer, index of class which is most confused\n",
        "  \"\"\"\n",
        "  col_sum=np.sum(cm,axis=0)\n",
        "  fps=[]\n",
        "  for i in range(cm.shape[0]):\n",
        "    fps.append(col_sum[i]-cm[i,i])\n",
        "  return np.argmax(fps)\n",
        "\n"
      ],
      "execution_count": null,
      "outputs": []
    },
    {
      "cell_type": "markdown",
      "metadata": {
        "id": "z4Ymvthkmfpq",
        "colab_type": "text"
      },
      "source": [
        "## 4"
      ]
    },
    {
      "cell_type": "markdown",
      "metadata": {
        "id": "JAQGwMjkk-fp",
        "colab_type": "text"
      },
      "source": [
        "###Q. MSE\n",
        "Write a function that takes two 1-d numpy arrays ($y$ and $yd$) and returns the mean squared error, defined as \n",
        "$$\n",
        "mse = \\frac{1}{N}\\sum_{i=1}^{N}{(yd_i - y_i)^2}\n",
        "$$ "
      ]
    },
    {
      "cell_type": "code",
      "metadata": {
        "id": "hvu_53FBmgvA",
        "colab_type": "code",
        "colab": {}
      },
      "source": [
        "import numpy as np\n",
        "def mse(y, yd):\n",
        "  \"\"\"\n",
        "  Inputs:\n",
        "    y: 1-d Numpy array of floats\n",
        "    yd: 1-d Numpy array of floats\n",
        "  Outputs:\n",
        "    mse: float, mean squared error\n",
        "  \"\"\"\n",
        "  mse=np.square(np.subtract(y,yd)).mean()\n",
        "  return mse\n"
      ],
      "execution_count": null,
      "outputs": []
    },
    {
      "cell_type": "markdown",
      "metadata": {
        "id": "aFPcPG0anFdj",
        "colab_type": "text"
      },
      "source": [
        "##5"
      ]
    },
    {
      "cell_type": "markdown",
      "metadata": {
        "id": "HgSaxXjwmuYn",
        "colab_type": "text"
      },
      "source": [
        "###Q. Fraction of MSE\n",
        "Write a function that takes two 1-d numpy arrays ($y$ and $yd$) and does the following - \n",
        "- It computes the  $\\text{total squared error}$ first. ($\\text{total squared error } = mse*N$) \n",
        "- It computes total squared error of the 20% of samples contributing most toward the $\\text{total squared error}$ which is $\\text{tot_20}$\n",
        "- It returns the fraction $\\frac{\\text{tot_20}}{\\text{total squared error}}$"
      ]
    },
    {
      "cell_type": "code",
      "metadata": {
        "id": "BpMpqBa9m4RM",
        "colab_type": "code",
        "colab": {}
      },
      "source": [
        "import numpy as np\n",
        "def fraction_mse_20(y, yd):\n",
        "  \"\"\"\n",
        "  Inputs:\n",
        "    y: 1-d Numpy array of floats\n",
        "    yd: 1-d Numpy array of floats\n",
        "  Outputs:\n",
        "    float, tot_20/total_squared_error\n",
        "  \"\"\" \n",
        "  squared_error=(yd-y)**2\n",
        "  squared_error_sorted=np.sort(squared_error)\n",
        "  num_20p=int(y.shape[0]*0.2)\n",
        "  squared_error_20p_sum=np.sum(square_error_sorted[-num_20p:])\n",
        "  return squared_error_20p_sum/np.sum(squared_error)"
      ],
      "execution_count": null,
      "outputs": []
    }
  ]
}