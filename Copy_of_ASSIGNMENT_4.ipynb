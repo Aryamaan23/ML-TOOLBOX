{
  "nbformat": 4,
  "nbformat_minor": 0,
  "metadata": {
    "colab": {
      "name": "Copy of ASSIGNMENT-4",
      "provenance": [],
      "collapsed_sections": [],
      "authorship_tag": "ABX9TyMGT4ryPtEE6MKaU6z45xpA",
      "include_colab_link": true
    },
    "kernelspec": {
      "name": "python3",
      "display_name": "Python 3"
    }
  },
  "cells": [
    {
      "cell_type": "markdown",
      "metadata": {
        "id": "view-in-github",
        "colab_type": "text"
      },
      "source": [
        "<a href=\"https://colab.research.google.com/github/Aryamaan23/ML-TOOLBOX/blob/master/Copy_of_ASSIGNMENT_4.ipynb\" target=\"_parent\"><img src=\"https://colab.research.google.com/assets/colab-badge.svg\" alt=\"Open In Colab\"/></a>"
      ]
    },
    {
      "cell_type": "code",
      "metadata": {
        "id": "PsjO9bUpZQzu",
        "colab_type": "code",
        "colab": {
          "base_uri": "https://localhost:8080/",
          "height": 85
        },
        "outputId": "1cd2c0ee-b49c-4e96-d064-44a4734946c8"
      },
      "source": [
        "##PART_A\n",
        "\n",
        "portion_down_payment=0.25\n",
        "current_savings=0.0\n",
        "r=0.04 ##annualized return on savings\n",
        "\n",
        "##Taking input from user\n",
        "annual_salary=float(input('Enter your annual salary: '))\n",
        "portion_saved=float(input('Enter the percent of your salary to be saved,as a decimal: '))\n",
        "total_cost=float(input('Enter the cost of your dream home: '))\n",
        "\n",
        "##we will compute the savings each month and stop when the savings exceed the required down_payment\n",
        "down_payment=portion_down_payment*total_cost\n",
        "total_months=0\n",
        "while(current_savings<down_payment):\n",
        "  new_savings=current_savings*r/12+(annual_salary/12)*portion_saved\n",
        "  current_savings=current_savings+new_savings\n",
        "  total_months=total_months+1\n",
        "\n",
        "print('Number of months :{}'.format(total_months))"
      ],
      "execution_count": null,
      "outputs": [
        {
          "output_type": "stream",
          "text": [
            "Enter your annual salary: 80000\n",
            "Enter the percent of your salary to be saved,as a decimal: 0.1\n",
            "Enter the cost of your dream home: 800000\n",
            "Number of months :209\n"
          ],
          "name": "stdout"
        }
      ]
    },
    {
      "cell_type": "code",
      "metadata": {
        "id": "R7yaCzz5EtPc",
        "colab_type": "code",
        "colab": {
          "base_uri": "https://localhost:8080/",
          "height": 504
        },
        "outputId": "83df051d-1f7e-45c4-9009-2a138af183ed"
      },
      "source": [
        "##PART_B\n",
        "portion_down_payment=0.25\n",
        "current_savings=0.0\n",
        "r=0.04 ##annualized return on savings\n",
        "\n",
        "#Take inputs from user\n",
        "annual_salary=float(input('Enter your starting salary'))\n",
        "portion_saved=float(input('Enter the percent of your salary to be saved,as a decimal: '))\n",
        "total_cost=float(input('Enter the cost of your dream home: '))\n",
        "semi_annual_raise=float(input('Enter the semi annual raise,as a decimal: '))\n",
        "\n",
        "down_payment=portion_down_payment*total_cost\n",
        "print(down_payment)\n",
        "total_months=0\n",
        "while(current_savings<down_payment):\n",
        "  current_savings=current_savings+current_savings*r/12+(annual_salary/12)*portion_saved\n",
        "  total_months=total_months+1\n",
        "  if(total_months%6==0):\n",
        "    annual_salary=annual_salary+annual_salary*semi_annual_raise\n",
        "    print(current_savings)\n",
        "print('Number of months: {}'.format(total_months))"
      ],
      "execution_count": null,
      "outputs": [
        {
          "output_type": "stream",
          "text": [
            "Enter your starting salary120000\n",
            "Enter the percent of your salary to be saved,as a decimal: .05\n",
            "Enter the cost of your dream home: 500000\n",
            "Enter the semi annual raise,as a decimal: .03\n",
            "125000.0\n",
            "3025.1113892594653\n",
            "6201.984779646231\n",
            "9536.403417797743\n",
            "13034.34886146075\n",
            "16702.00742925286\n",
            "20545.776854009215\n",
            "24572.27314602549\n",
            "28788.33767270173\n",
            "33201.044461290796\n",
            "37817.70773166069\n",
            "42645.889666191826\n",
            "47693.40842414773\n",
            "52968.34640808342\n",
            "58479.058790086114\n",
            "64234.18230588256\n",
            "70242.64432509197\n",
            "76513.67220615793\n",
            "83056.8029447532\n",
            "89881.89312471953\n",
            "96999.12918088371\n",
            "104419.03798337391\n",
            "112152.49775335669\n",
            "120210.74932041745\n",
            "Number of months: 142\n"
          ],
          "name": "stdout"
        }
      ]
    },
    {
      "cell_type": "code",
      "metadata": {
        "id": "at7YjBzTXc4A",
        "colab_type": "code",
        "colab": {}
      },
      "source": [
        "def absolute(x):\n",
        "  if(x>0):\n",
        "    return x\n",
        "  else:\n",
        "    return -x"
      ],
      "execution_count": null,
      "outputs": []
    },
    {
      "cell_type": "code",
      "metadata": {
        "id": "iVqpGV_XKAsL",
        "colab_type": "code",
        "colab": {
          "base_uri": "https://localhost:8080/",
          "height": 302
        },
        "outputId": "5c16918a-4c16-4dab-f17e-326b9569984b"
      },
      "source": [
        "##PART_C\n",
        "portion_down_payment=0.25\n",
        "current_savings=0.0\n",
        "r=0.04 ##annualized return on savings\n",
        "total_cost=1000000\n",
        "semi_annual_raise=0.07\n",
        "\n",
        "##Take inputs from user\n",
        "annual_salary=float(input('Enter your starting annual salary: '))\n",
        "\n",
        "total_months=36\n",
        "down_payment=portion_down_payment*total_cost\n",
        "\n",
        "##current savings should be within 100 of down_payment in 36 months\n",
        "\n",
        "##This while loop iterates over different values of portion_saved\n",
        "llim_ps=0##lower limit of search_space for portion_saved,initializing\n",
        "ulim_ps=10000##upper limit of search_space for portion_saved,initializing\n",
        "ps=0\n",
        "no_steps_search=0\n",
        "portion_saved_prev=9999999\n",
        "portion_saved=0.0\n",
        "starting_annual_salary=annual_salary\n",
        "while( not (absolute(down_payment-current_savings)<=100)): ##we can also write as absolute(down_payment-current_savings)>100\n",
        "  portion_saved_prev=portion_saved\n",
        "  no_steps_search=no_steps_search+1\n",
        "  ##update portion_saved using bisection_search\n",
        "  if(down_payment>current_savings):\n",
        "    llim_ps=ps\n",
        "  else:\n",
        "    ulim_ps=ps\n",
        "  ps=int((llim_ps+ulim_ps)/2)\n",
        "  portion_saved=ps/10000\n",
        "  if(portion_saved==portion_saved_prev):\n",
        "    print('It is not possible to pay the downpayment in three years')\n",
        "    break\n",
        "  ##find current_savings for 36 months\n",
        "  current_savings=0.0\n",
        "  annual_salary=starting_annual_salary\n",
        "  for i in range(total_months):\n",
        "    current_savings=current_savings+current_savings*r/12+(annual_salary/12)*portion_saved\n",
        "    if(i%6==0 and not i==0):\n",
        "      annual_salary=annual_salary+annual_salary*semi_annual_raise\n",
        "  print('portion_saved: {},difference: {}'.format(portion_saved,down_payment-current_savings))\n",
        "print('portion_saved: {},num_steps: {}'.format(portion_saved,no_steps_search))\n"
      ],
      "execution_count": null,
      "outputs": [
        {
          "output_type": "stream",
          "text": [
            "Enter your starting annual salary: 10000\n",
            "portion_saved: 0.5,difference: 231284.60418234998\n",
            "portion_saved: 0.75,difference: 221926.90627352495\n",
            "portion_saved: 0.875,difference: 217248.05731911247\n",
            "portion_saved: 0.9375,difference: 214908.63284190622\n",
            "portion_saved: 0.9687,difference: 213740.79214288486\n",
            "portion_saved: 0.9843,difference: 213156.87179337416\n",
            "portion_saved: 0.9921,difference: 212864.91161861882\n",
            "portion_saved: 0.996,difference: 212718.93153124113\n",
            "portion_saved: 0.998,difference: 212644.06994797057\n",
            "portion_saved: 0.999,difference: 212606.63915633527\n",
            "portion_saved: 0.9995,difference: 212587.92376051762\n",
            "portion_saved: 0.9997,difference: 212580.43760219053\n",
            "portion_saved: 0.9998,difference: 212576.69452302705\n",
            "portion_saved: 0.9999,difference: 212572.9514438635\n",
            "It is not possible to pay the downpayment in three years\n",
            "portion_saved: 0.9999,num_steps: 15\n"
          ],
          "name": "stdout"
        }
      ]
    }
  ]
}